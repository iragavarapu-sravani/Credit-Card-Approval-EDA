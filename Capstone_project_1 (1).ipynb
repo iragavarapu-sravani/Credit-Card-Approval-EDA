{
  "cells": [
    {
      "cell_type": "markdown",
      "id": "76d8df25",
      "metadata": {
        "id": "76d8df25"
      },
      "source": [
        "# **Predicting Credit card approval of an individual**"
      ]
    },
    {
      "cell_type": "markdown",
      "id": "5fc45b3d",
      "metadata": {
        "id": "5fc45b3d"
      },
      "source": [
        " **Introduction**:"
      ]
    },
    {
      "cell_type": "markdown",
      "id": "e4b32b4e",
      "metadata": {
        "id": "e4b32b4e"
      },
      "source": [
        "We are working on a credit card dataset, in which we have information on the individuals such as gender, car owner, property owner, children, etc. This dataset contains 19 columns and 1548 rows. There are 9 numerical variables,2 continuous variables and 8 categorical variables. Based on these factors we need to predict each individual's credit card approvals and check missing values, outliers present or not. We have to deal with this messy data to predict the outcome."
      ]
    },
    {
      "cell_type": "markdown",
      "id": "ec14e1b4",
      "metadata": {
        "id": "ec14e1b4"
      },
      "source": [
        "**1.Why is your proposal important in today’s world? How predicting a good client is worthy for a bank?**\n",
        "\n",
        "A.This proposal is very important because approving credit to the right people who have good creditworthiness is very important. Before approving the loans, banks need to know whether they are capable of repaying the loan amount or not. Predicting a good client is essential then they would be able to get back their credit in a specified time along with good interests. So, banks are getting profits through the rotation of money with less risk."
      ]
    },
    {
      "cell_type": "markdown",
      "id": "a89bd855",
      "metadata": {
        "id": "a89bd855"
      },
      "source": [
        "**2.How is it going to impact the banking sector?**\n",
        "\n",
        "A.This proposal impacts the banking sector so they would be able to choose the right people who can repay the loan sincerely. Banks can easily give credit cards to those with good creditworthiness which leads to better risk management.\n"
      ]
    },
    {
      "cell_type": "markdown",
      "id": "40f3c706",
      "metadata": {
        "id": "40f3c706"
      },
      "source": [
        "**3.If any, what is the gap in the knowledge or how your proposed method can be helpful if required in future for any bank in India.**\n",
        "\n",
        "A.The gap in the knowledge is that we need to add one more feature: the CIBIL score which is very important for predicting the approvals. Bankers check the CIBIL score to approve the loans. Most of the applications get rejected due to fewer CIBIL scores. However, the proposed method can be adapted and applied to banks to evaluate good creditworthiness based on some individual factors leading to better risk management and profitability."
      ]
    },
    {
      "cell_type": "code",
      "execution_count": null,
      "id": "aa8466b3",
      "metadata": {
        "id": "aa8466b3"
      },
      "outputs": [],
      "source": [
        "import warnings\n",
        "warnings.filterwarnings('ignore')"
      ]
    },
    {
      "cell_type": "code",
      "execution_count": null,
      "id": "49cc6909",
      "metadata": {
        "id": "49cc6909",
        "colab": {
          "base_uri": "https://localhost:8080/"
        },
        "outputId": "dc789c7f-6cd8-4d69-b105-08a07f9d91b8"
      },
      "outputs": [
        {
          "output_type": "stream",
          "name": "stdout",
          "text": [
            "Looking in indexes: https://pypi.org/simple, https://us-python.pkg.dev/colab-wheels/public/simple/\n",
            "Requirement already satisfied: fancyimpute in /usr/local/lib/python3.10/dist-packages (0.7.0)\n",
            "Requirement already satisfied: knnimpute>=0.1.0 in /usr/local/lib/python3.10/dist-packages (from fancyimpute) (0.1.0)\n",
            "Requirement already satisfied: scikit-learn>=0.24.2 in /usr/local/lib/python3.10/dist-packages (from fancyimpute) (1.2.2)\n",
            "Requirement already satisfied: cvxpy in /usr/local/lib/python3.10/dist-packages (from fancyimpute) (1.3.1)\n",
            "Requirement already satisfied: cvxopt in /usr/local/lib/python3.10/dist-packages (from fancyimpute) (1.3.0)\n",
            "Requirement already satisfied: pytest in /usr/local/lib/python3.10/dist-packages (from fancyimpute) (7.2.2)\n",
            "Requirement already satisfied: nose in /usr/local/lib/python3.10/dist-packages (from fancyimpute) (1.3.7)\n",
            "Requirement already satisfied: six in /usr/local/lib/python3.10/dist-packages (from knnimpute>=0.1.0->fancyimpute) (1.16.0)\n",
            "Requirement already satisfied: numpy>=1.10 in /usr/local/lib/python3.10/dist-packages (from knnimpute>=0.1.0->fancyimpute) (1.22.4)\n",
            "Requirement already satisfied: scipy>=1.3.2 in /usr/local/lib/python3.10/dist-packages (from scikit-learn>=0.24.2->fancyimpute) (1.10.1)\n",
            "Requirement already satisfied: joblib>=1.1.1 in /usr/local/lib/python3.10/dist-packages (from scikit-learn>=0.24.2->fancyimpute) (1.2.0)\n",
            "Requirement already satisfied: threadpoolctl>=2.0.0 in /usr/local/lib/python3.10/dist-packages (from scikit-learn>=0.24.2->fancyimpute) (3.1.0)\n",
            "Requirement already satisfied: osqp>=0.4.1 in /usr/local/lib/python3.10/dist-packages (from cvxpy->fancyimpute) (0.6.2.post8)\n",
            "Requirement already satisfied: ecos>=2 in /usr/local/lib/python3.10/dist-packages (from cvxpy->fancyimpute) (2.0.12)\n",
            "Requirement already satisfied: scs>=1.1.6 in /usr/local/lib/python3.10/dist-packages (from cvxpy->fancyimpute) (3.2.3)\n",
            "Requirement already satisfied: setuptools>65.5.1 in /usr/local/lib/python3.10/dist-packages (from cvxpy->fancyimpute) (67.7.2)\n",
            "Requirement already satisfied: attrs>=19.2.0 in /usr/local/lib/python3.10/dist-packages (from pytest->fancyimpute) (23.1.0)\n",
            "Requirement already satisfied: iniconfig in /usr/local/lib/python3.10/dist-packages (from pytest->fancyimpute) (2.0.0)\n",
            "Requirement already satisfied: packaging in /usr/local/lib/python3.10/dist-packages (from pytest->fancyimpute) (23.1)\n",
            "Requirement already satisfied: pluggy<2.0,>=0.12 in /usr/local/lib/python3.10/dist-packages (from pytest->fancyimpute) (1.0.0)\n",
            "Requirement already satisfied: exceptiongroup>=1.0.0rc8 in /usr/local/lib/python3.10/dist-packages (from pytest->fancyimpute) (1.1.1)\n",
            "Requirement already satisfied: tomli>=1.0.0 in /usr/local/lib/python3.10/dist-packages (from pytest->fancyimpute) (2.0.1)\n",
            "Requirement already satisfied: qdldl in /usr/local/lib/python3.10/dist-packages (from osqp>=0.4.1->cvxpy->fancyimpute) (0.1.7)\n"
          ]
        }
      ],
      "source": [
        "# Importing libraries\n",
        "\n",
        "import pandas as pd\n",
        "import numpy as np\n",
        "import matplotlib.pyplot as plt\n",
        "import seaborn as sns\n",
        "!pip install fancyimpute\n"
      ]
    },
    {
      "cell_type": "code",
      "execution_count": null,
      "id": "eb08b797",
      "metadata": {
        "colab": {
          "base_uri": "https://localhost:8080/",
          "height": 705
        },
        "id": "eb08b797",
        "outputId": "e3c73f23-663a-422b-bd98-8c77e47ab0e4"
      },
      "outputs": [
        {
          "output_type": "execute_result",
          "data": {
            "text/plain": [
              "    Ind_ID GENDER Car_Owner Propert_Owner  CHILDREN  Annual_income  \\\n",
              "0  5008827      M         Y             Y         0       180000.0   \n",
              "1  5009744      F         Y             N         0       315000.0   \n",
              "2  5009746      F         Y             N         0       315000.0   \n",
              "3  5009749      F         Y             N         0            NaN   \n",
              "4  5009752      F         Y             N         0       315000.0   \n",
              "5  5009753    NaN         Y             N         0       315000.0   \n",
              "6  5009754      F         Y             N         0       315000.0   \n",
              "7  5009894      F         N             N         0       180000.0   \n",
              "8  5010864      M         Y             Y         1       450000.0   \n",
              "9  5010868      M         Y             Y         1       450000.0   \n",
              "\n",
              "            Type_Income                      EDUCATION Marital_status  \\\n",
              "0             Pensioner               Higher education        Married   \n",
              "1  Commercial associate               Higher education        Married   \n",
              "2  Commercial associate               Higher education        Married   \n",
              "3  Commercial associate               Higher education        Married   \n",
              "4  Commercial associate               Higher education        Married   \n",
              "5             Pensioner               Higher education        Married   \n",
              "6  Commercial associate               Higher education        Married   \n",
              "7             Pensioner  Secondary / secondary special        Married   \n",
              "8  Commercial associate  Secondary / secondary special        Married   \n",
              "9             Pensioner  Secondary / secondary special        Married   \n",
              "\n",
              "        Housing_type  Birthday_count  Employed_days  Mobile_phone  Work_Phone  \\\n",
              "0  House / apartment        -18772.0         365243             1           0   \n",
              "1  House / apartment        -13557.0           -586             1           1   \n",
              "2  House / apartment             NaN           -586             1           1   \n",
              "3  House / apartment        -13557.0           -586             1           1   \n",
              "4  House / apartment        -13557.0           -586             1           1   \n",
              "5  House / apartment        -13557.0           -586             1           1   \n",
              "6  House / apartment        -13557.0           -586             1           1   \n",
              "7  House / apartment        -22134.0         365243             1           0   \n",
              "8  House / apartment        -18173.0           -678             1           0   \n",
              "9  House / apartment        -18173.0           -678             1           0   \n",
              "\n",
              "   Phone  EMAIL_ID Type_Occupation  Family_Members  \n",
              "0      0         0             NaN               2  \n",
              "1      1         0             NaN               2  \n",
              "2      1         0             NaN               2  \n",
              "3      1         0             NaN               2  \n",
              "4      1         0             NaN               2  \n",
              "5      1         0             NaN               2  \n",
              "6      1         0             NaN               2  \n",
              "7      0         0             NaN               2  \n",
              "8      1         1      Core staff               3  \n",
              "9      1         1      Core staff               3  "
            ],
            "text/html": [
              "\n",
              "  <div id=\"df-902b6efe-c9e5-4677-b327-77434d1108fc\">\n",
              "    <div class=\"colab-df-container\">\n",
              "      <div>\n",
              "<style scoped>\n",
              "    .dataframe tbody tr th:only-of-type {\n",
              "        vertical-align: middle;\n",
              "    }\n",
              "\n",
              "    .dataframe tbody tr th {\n",
              "        vertical-align: top;\n",
              "    }\n",
              "\n",
              "    .dataframe thead th {\n",
              "        text-align: right;\n",
              "    }\n",
              "</style>\n",
              "<table border=\"1\" class=\"dataframe\">\n",
              "  <thead>\n",
              "    <tr style=\"text-align: right;\">\n",
              "      <th></th>\n",
              "      <th>Ind_ID</th>\n",
              "      <th>GENDER</th>\n",
              "      <th>Car_Owner</th>\n",
              "      <th>Propert_Owner</th>\n",
              "      <th>CHILDREN</th>\n",
              "      <th>Annual_income</th>\n",
              "      <th>Type_Income</th>\n",
              "      <th>EDUCATION</th>\n",
              "      <th>Marital_status</th>\n",
              "      <th>Housing_type</th>\n",
              "      <th>Birthday_count</th>\n",
              "      <th>Employed_days</th>\n",
              "      <th>Mobile_phone</th>\n",
              "      <th>Work_Phone</th>\n",
              "      <th>Phone</th>\n",
              "      <th>EMAIL_ID</th>\n",
              "      <th>Type_Occupation</th>\n",
              "      <th>Family_Members</th>\n",
              "    </tr>\n",
              "  </thead>\n",
              "  <tbody>\n",
              "    <tr>\n",
              "      <th>0</th>\n",
              "      <td>5008827</td>\n",
              "      <td>M</td>\n",
              "      <td>Y</td>\n",
              "      <td>Y</td>\n",
              "      <td>0</td>\n",
              "      <td>180000.0</td>\n",
              "      <td>Pensioner</td>\n",
              "      <td>Higher education</td>\n",
              "      <td>Married</td>\n",
              "      <td>House / apartment</td>\n",
              "      <td>-18772.0</td>\n",
              "      <td>365243</td>\n",
              "      <td>1</td>\n",
              "      <td>0</td>\n",
              "      <td>0</td>\n",
              "      <td>0</td>\n",
              "      <td>NaN</td>\n",
              "      <td>2</td>\n",
              "    </tr>\n",
              "    <tr>\n",
              "      <th>1</th>\n",
              "      <td>5009744</td>\n",
              "      <td>F</td>\n",
              "      <td>Y</td>\n",
              "      <td>N</td>\n",
              "      <td>0</td>\n",
              "      <td>315000.0</td>\n",
              "      <td>Commercial associate</td>\n",
              "      <td>Higher education</td>\n",
              "      <td>Married</td>\n",
              "      <td>House / apartment</td>\n",
              "      <td>-13557.0</td>\n",
              "      <td>-586</td>\n",
              "      <td>1</td>\n",
              "      <td>1</td>\n",
              "      <td>1</td>\n",
              "      <td>0</td>\n",
              "      <td>NaN</td>\n",
              "      <td>2</td>\n",
              "    </tr>\n",
              "    <tr>\n",
              "      <th>2</th>\n",
              "      <td>5009746</td>\n",
              "      <td>F</td>\n",
              "      <td>Y</td>\n",
              "      <td>N</td>\n",
              "      <td>0</td>\n",
              "      <td>315000.0</td>\n",
              "      <td>Commercial associate</td>\n",
              "      <td>Higher education</td>\n",
              "      <td>Married</td>\n",
              "      <td>House / apartment</td>\n",
              "      <td>NaN</td>\n",
              "      <td>-586</td>\n",
              "      <td>1</td>\n",
              "      <td>1</td>\n",
              "      <td>1</td>\n",
              "      <td>0</td>\n",
              "      <td>NaN</td>\n",
              "      <td>2</td>\n",
              "    </tr>\n",
              "    <tr>\n",
              "      <th>3</th>\n",
              "      <td>5009749</td>\n",
              "      <td>F</td>\n",
              "      <td>Y</td>\n",
              "      <td>N</td>\n",
              "      <td>0</td>\n",
              "      <td>NaN</td>\n",
              "      <td>Commercial associate</td>\n",
              "      <td>Higher education</td>\n",
              "      <td>Married</td>\n",
              "      <td>House / apartment</td>\n",
              "      <td>-13557.0</td>\n",
              "      <td>-586</td>\n",
              "      <td>1</td>\n",
              "      <td>1</td>\n",
              "      <td>1</td>\n",
              "      <td>0</td>\n",
              "      <td>NaN</td>\n",
              "      <td>2</td>\n",
              "    </tr>\n",
              "    <tr>\n",
              "      <th>4</th>\n",
              "      <td>5009752</td>\n",
              "      <td>F</td>\n",
              "      <td>Y</td>\n",
              "      <td>N</td>\n",
              "      <td>0</td>\n",
              "      <td>315000.0</td>\n",
              "      <td>Commercial associate</td>\n",
              "      <td>Higher education</td>\n",
              "      <td>Married</td>\n",
              "      <td>House / apartment</td>\n",
              "      <td>-13557.0</td>\n",
              "      <td>-586</td>\n",
              "      <td>1</td>\n",
              "      <td>1</td>\n",
              "      <td>1</td>\n",
              "      <td>0</td>\n",
              "      <td>NaN</td>\n",
              "      <td>2</td>\n",
              "    </tr>\n",
              "    <tr>\n",
              "      <th>5</th>\n",
              "      <td>5009753</td>\n",
              "      <td>NaN</td>\n",
              "      <td>Y</td>\n",
              "      <td>N</td>\n",
              "      <td>0</td>\n",
              "      <td>315000.0</td>\n",
              "      <td>Pensioner</td>\n",
              "      <td>Higher education</td>\n",
              "      <td>Married</td>\n",
              "      <td>House / apartment</td>\n",
              "      <td>-13557.0</td>\n",
              "      <td>-586</td>\n",
              "      <td>1</td>\n",
              "      <td>1</td>\n",
              "      <td>1</td>\n",
              "      <td>0</td>\n",
              "      <td>NaN</td>\n",
              "      <td>2</td>\n",
              "    </tr>\n",
              "    <tr>\n",
              "      <th>6</th>\n",
              "      <td>5009754</td>\n",
              "      <td>F</td>\n",
              "      <td>Y</td>\n",
              "      <td>N</td>\n",
              "      <td>0</td>\n",
              "      <td>315000.0</td>\n",
              "      <td>Commercial associate</td>\n",
              "      <td>Higher education</td>\n",
              "      <td>Married</td>\n",
              "      <td>House / apartment</td>\n",
              "      <td>-13557.0</td>\n",
              "      <td>-586</td>\n",
              "      <td>1</td>\n",
              "      <td>1</td>\n",
              "      <td>1</td>\n",
              "      <td>0</td>\n",
              "      <td>NaN</td>\n",
              "      <td>2</td>\n",
              "    </tr>\n",
              "    <tr>\n",
              "      <th>7</th>\n",
              "      <td>5009894</td>\n",
              "      <td>F</td>\n",
              "      <td>N</td>\n",
              "      <td>N</td>\n",
              "      <td>0</td>\n",
              "      <td>180000.0</td>\n",
              "      <td>Pensioner</td>\n",
              "      <td>Secondary / secondary special</td>\n",
              "      <td>Married</td>\n",
              "      <td>House / apartment</td>\n",
              "      <td>-22134.0</td>\n",
              "      <td>365243</td>\n",
              "      <td>1</td>\n",
              "      <td>0</td>\n",
              "      <td>0</td>\n",
              "      <td>0</td>\n",
              "      <td>NaN</td>\n",
              "      <td>2</td>\n",
              "    </tr>\n",
              "    <tr>\n",
              "      <th>8</th>\n",
              "      <td>5010864</td>\n",
              "      <td>M</td>\n",
              "      <td>Y</td>\n",
              "      <td>Y</td>\n",
              "      <td>1</td>\n",
              "      <td>450000.0</td>\n",
              "      <td>Commercial associate</td>\n",
              "      <td>Secondary / secondary special</td>\n",
              "      <td>Married</td>\n",
              "      <td>House / apartment</td>\n",
              "      <td>-18173.0</td>\n",
              "      <td>-678</td>\n",
              "      <td>1</td>\n",
              "      <td>0</td>\n",
              "      <td>1</td>\n",
              "      <td>1</td>\n",
              "      <td>Core staff</td>\n",
              "      <td>3</td>\n",
              "    </tr>\n",
              "    <tr>\n",
              "      <th>9</th>\n",
              "      <td>5010868</td>\n",
              "      <td>M</td>\n",
              "      <td>Y</td>\n",
              "      <td>Y</td>\n",
              "      <td>1</td>\n",
              "      <td>450000.0</td>\n",
              "      <td>Pensioner</td>\n",
              "      <td>Secondary / secondary special</td>\n",
              "      <td>Married</td>\n",
              "      <td>House / apartment</td>\n",
              "      <td>-18173.0</td>\n",
              "      <td>-678</td>\n",
              "      <td>1</td>\n",
              "      <td>0</td>\n",
              "      <td>1</td>\n",
              "      <td>1</td>\n",
              "      <td>Core staff</td>\n",
              "      <td>3</td>\n",
              "    </tr>\n",
              "  </tbody>\n",
              "</table>\n",
              "</div>\n",
              "      <button class=\"colab-df-convert\" onclick=\"convertToInteractive('df-902b6efe-c9e5-4677-b327-77434d1108fc')\"\n",
              "              title=\"Convert this dataframe to an interactive table.\"\n",
              "              style=\"display:none;\">\n",
              "        \n",
              "  <svg xmlns=\"http://www.w3.org/2000/svg\" height=\"24px\"viewBox=\"0 0 24 24\"\n",
              "       width=\"24px\">\n",
              "    <path d=\"M0 0h24v24H0V0z\" fill=\"none\"/>\n",
              "    <path d=\"M18.56 5.44l.94 2.06.94-2.06 2.06-.94-2.06-.94-.94-2.06-.94 2.06-2.06.94zm-11 1L8.5 8.5l.94-2.06 2.06-.94-2.06-.94L8.5 2.5l-.94 2.06-2.06.94zm10 10l.94 2.06.94-2.06 2.06-.94-2.06-.94-.94-2.06-.94 2.06-2.06.94z\"/><path d=\"M17.41 7.96l-1.37-1.37c-.4-.4-.92-.59-1.43-.59-.52 0-1.04.2-1.43.59L10.3 9.45l-7.72 7.72c-.78.78-.78 2.05 0 2.83L4 21.41c.39.39.9.59 1.41.59.51 0 1.02-.2 1.41-.59l7.78-7.78 2.81-2.81c.8-.78.8-2.07 0-2.86zM5.41 20L4 18.59l7.72-7.72 1.47 1.35L5.41 20z\"/>\n",
              "  </svg>\n",
              "      </button>\n",
              "      \n",
              "  <style>\n",
              "    .colab-df-container {\n",
              "      display:flex;\n",
              "      flex-wrap:wrap;\n",
              "      gap: 12px;\n",
              "    }\n",
              "\n",
              "    .colab-df-convert {\n",
              "      background-color: #E8F0FE;\n",
              "      border: none;\n",
              "      border-radius: 50%;\n",
              "      cursor: pointer;\n",
              "      display: none;\n",
              "      fill: #1967D2;\n",
              "      height: 32px;\n",
              "      padding: 0 0 0 0;\n",
              "      width: 32px;\n",
              "    }\n",
              "\n",
              "    .colab-df-convert:hover {\n",
              "      background-color: #E2EBFA;\n",
              "      box-shadow: 0px 1px 2px rgba(60, 64, 67, 0.3), 0px 1px 3px 1px rgba(60, 64, 67, 0.15);\n",
              "      fill: #174EA6;\n",
              "    }\n",
              "\n",
              "    [theme=dark] .colab-df-convert {\n",
              "      background-color: #3B4455;\n",
              "      fill: #D2E3FC;\n",
              "    }\n",
              "\n",
              "    [theme=dark] .colab-df-convert:hover {\n",
              "      background-color: #434B5C;\n",
              "      box-shadow: 0px 1px 3px 1px rgba(0, 0, 0, 0.15);\n",
              "      filter: drop-shadow(0px 1px 2px rgba(0, 0, 0, 0.3));\n",
              "      fill: #FFFFFF;\n",
              "    }\n",
              "  </style>\n",
              "\n",
              "      <script>\n",
              "        const buttonEl =\n",
              "          document.querySelector('#df-902b6efe-c9e5-4677-b327-77434d1108fc button.colab-df-convert');\n",
              "        buttonEl.style.display =\n",
              "          google.colab.kernel.accessAllowed ? 'block' : 'none';\n",
              "\n",
              "        async function convertToInteractive(key) {\n",
              "          const element = document.querySelector('#df-902b6efe-c9e5-4677-b327-77434d1108fc');\n",
              "          const dataTable =\n",
              "            await google.colab.kernel.invokeFunction('convertToInteractive',\n",
              "                                                     [key], {});\n",
              "          if (!dataTable) return;\n",
              "\n",
              "          const docLinkHtml = 'Like what you see? Visit the ' +\n",
              "            '<a target=\"_blank\" href=https://colab.research.google.com/notebooks/data_table.ipynb>data table notebook</a>'\n",
              "            + ' to learn more about interactive tables.';\n",
              "          element.innerHTML = '';\n",
              "          dataTable['output_type'] = 'display_data';\n",
              "          await google.colab.output.renderOutput(dataTable, element);\n",
              "          const docLink = document.createElement('div');\n",
              "          docLink.innerHTML = docLinkHtml;\n",
              "          element.appendChild(docLink);\n",
              "        }\n",
              "      </script>\n",
              "    </div>\n",
              "  </div>\n",
              "  "
            ]
          },
          "metadata": {},
          "execution_count": 158
        }
      ],
      "source": [
        "#Reading files using pandas\n",
        "df1=pd.read_csv(\"/content/Credit_card.csv\")\n",
        "df2=pd.read_csv(\"/content/Credit_card_label.csv\")\n",
        "df1.head(10)"
      ]
    },
    {
      "cell_type": "markdown",
      "id": "0789c553",
      "metadata": {
        "id": "0789c553"
      },
      "source": [
        "**EDA:**"
      ]
    },
    {
      "cell_type": "code",
      "execution_count": null,
      "id": "6a49e481",
      "metadata": {
        "colab": {
          "base_uri": "https://localhost:8080/",
          "height": 357
        },
        "id": "6a49e481",
        "outputId": "900549e2-78cd-454f-c24b-4ffe36d21d28"
      },
      "outputs": [
        {
          "output_type": "execute_result",
          "data": {
            "text/plain": [
              "    Ind_ID GENDER Car_Owner Propert_Owner  CHILDREN  Annual_income  \\\n",
              "0  5008827      M         Y             Y         0       180000.0   \n",
              "1  5009744      F         Y             N         0       315000.0   \n",
              "2  5009746      F         Y             N         0       315000.0   \n",
              "3  5009749      F         Y             N         0            NaN   \n",
              "4  5009752      F         Y             N         0       315000.0   \n",
              "\n",
              "            Type_Income         EDUCATION Marital_status       Housing_type  \\\n",
              "0             Pensioner  Higher education        Married  House / apartment   \n",
              "1  Commercial associate  Higher education        Married  House / apartment   \n",
              "2  Commercial associate  Higher education        Married  House / apartment   \n",
              "3  Commercial associate  Higher education        Married  House / apartment   \n",
              "4  Commercial associate  Higher education        Married  House / apartment   \n",
              "\n",
              "   Birthday_count  Employed_days  Mobile_phone  Work_Phone  Phone  EMAIL_ID  \\\n",
              "0        -18772.0         365243             1           0      0         0   \n",
              "1        -13557.0           -586             1           1      1         0   \n",
              "2             NaN           -586             1           1      1         0   \n",
              "3        -13557.0           -586             1           1      1         0   \n",
              "4        -13557.0           -586             1           1      1         0   \n",
              "\n",
              "  Type_Occupation  Family_Members  label  \n",
              "0             NaN               2      1  \n",
              "1             NaN               2      1  \n",
              "2             NaN               2      1  \n",
              "3             NaN               2      1  \n",
              "4             NaN               2      1  "
            ],
            "text/html": [
              "\n",
              "  <div id=\"df-e10a6172-3273-4227-a9e2-e5fcf7c85656\">\n",
              "    <div class=\"colab-df-container\">\n",
              "      <div>\n",
              "<style scoped>\n",
              "    .dataframe tbody tr th:only-of-type {\n",
              "        vertical-align: middle;\n",
              "    }\n",
              "\n",
              "    .dataframe tbody tr th {\n",
              "        vertical-align: top;\n",
              "    }\n",
              "\n",
              "    .dataframe thead th {\n",
              "        text-align: right;\n",
              "    }\n",
              "</style>\n",
              "<table border=\"1\" class=\"dataframe\">\n",
              "  <thead>\n",
              "    <tr style=\"text-align: right;\">\n",
              "      <th></th>\n",
              "      <th>Ind_ID</th>\n",
              "      <th>GENDER</th>\n",
              "      <th>Car_Owner</th>\n",
              "      <th>Propert_Owner</th>\n",
              "      <th>CHILDREN</th>\n",
              "      <th>Annual_income</th>\n",
              "      <th>Type_Income</th>\n",
              "      <th>EDUCATION</th>\n",
              "      <th>Marital_status</th>\n",
              "      <th>Housing_type</th>\n",
              "      <th>Birthday_count</th>\n",
              "      <th>Employed_days</th>\n",
              "      <th>Mobile_phone</th>\n",
              "      <th>Work_Phone</th>\n",
              "      <th>Phone</th>\n",
              "      <th>EMAIL_ID</th>\n",
              "      <th>Type_Occupation</th>\n",
              "      <th>Family_Members</th>\n",
              "      <th>label</th>\n",
              "    </tr>\n",
              "  </thead>\n",
              "  <tbody>\n",
              "    <tr>\n",
              "      <th>0</th>\n",
              "      <td>5008827</td>\n",
              "      <td>M</td>\n",
              "      <td>Y</td>\n",
              "      <td>Y</td>\n",
              "      <td>0</td>\n",
              "      <td>180000.0</td>\n",
              "      <td>Pensioner</td>\n",
              "      <td>Higher education</td>\n",
              "      <td>Married</td>\n",
              "      <td>House / apartment</td>\n",
              "      <td>-18772.0</td>\n",
              "      <td>365243</td>\n",
              "      <td>1</td>\n",
              "      <td>0</td>\n",
              "      <td>0</td>\n",
              "      <td>0</td>\n",
              "      <td>NaN</td>\n",
              "      <td>2</td>\n",
              "      <td>1</td>\n",
              "    </tr>\n",
              "    <tr>\n",
              "      <th>1</th>\n",
              "      <td>5009744</td>\n",
              "      <td>F</td>\n",
              "      <td>Y</td>\n",
              "      <td>N</td>\n",
              "      <td>0</td>\n",
              "      <td>315000.0</td>\n",
              "      <td>Commercial associate</td>\n",
              "      <td>Higher education</td>\n",
              "      <td>Married</td>\n",
              "      <td>House / apartment</td>\n",
              "      <td>-13557.0</td>\n",
              "      <td>-586</td>\n",
              "      <td>1</td>\n",
              "      <td>1</td>\n",
              "      <td>1</td>\n",
              "      <td>0</td>\n",
              "      <td>NaN</td>\n",
              "      <td>2</td>\n",
              "      <td>1</td>\n",
              "    </tr>\n",
              "    <tr>\n",
              "      <th>2</th>\n",
              "      <td>5009746</td>\n",
              "      <td>F</td>\n",
              "      <td>Y</td>\n",
              "      <td>N</td>\n",
              "      <td>0</td>\n",
              "      <td>315000.0</td>\n",
              "      <td>Commercial associate</td>\n",
              "      <td>Higher education</td>\n",
              "      <td>Married</td>\n",
              "      <td>House / apartment</td>\n",
              "      <td>NaN</td>\n",
              "      <td>-586</td>\n",
              "      <td>1</td>\n",
              "      <td>1</td>\n",
              "      <td>1</td>\n",
              "      <td>0</td>\n",
              "      <td>NaN</td>\n",
              "      <td>2</td>\n",
              "      <td>1</td>\n",
              "    </tr>\n",
              "    <tr>\n",
              "      <th>3</th>\n",
              "      <td>5009749</td>\n",
              "      <td>F</td>\n",
              "      <td>Y</td>\n",
              "      <td>N</td>\n",
              "      <td>0</td>\n",
              "      <td>NaN</td>\n",
              "      <td>Commercial associate</td>\n",
              "      <td>Higher education</td>\n",
              "      <td>Married</td>\n",
              "      <td>House / apartment</td>\n",
              "      <td>-13557.0</td>\n",
              "      <td>-586</td>\n",
              "      <td>1</td>\n",
              "      <td>1</td>\n",
              "      <td>1</td>\n",
              "      <td>0</td>\n",
              "      <td>NaN</td>\n",
              "      <td>2</td>\n",
              "      <td>1</td>\n",
              "    </tr>\n",
              "    <tr>\n",
              "      <th>4</th>\n",
              "      <td>5009752</td>\n",
              "      <td>F</td>\n",
              "      <td>Y</td>\n",
              "      <td>N</td>\n",
              "      <td>0</td>\n",
              "      <td>315000.0</td>\n",
              "      <td>Commercial associate</td>\n",
              "      <td>Higher education</td>\n",
              "      <td>Married</td>\n",
              "      <td>House / apartment</td>\n",
              "      <td>-13557.0</td>\n",
              "      <td>-586</td>\n",
              "      <td>1</td>\n",
              "      <td>1</td>\n",
              "      <td>1</td>\n",
              "      <td>0</td>\n",
              "      <td>NaN</td>\n",
              "      <td>2</td>\n",
              "      <td>1</td>\n",
              "    </tr>\n",
              "  </tbody>\n",
              "</table>\n",
              "</div>\n",
              "      <button class=\"colab-df-convert\" onclick=\"convertToInteractive('df-e10a6172-3273-4227-a9e2-e5fcf7c85656')\"\n",
              "              title=\"Convert this dataframe to an interactive table.\"\n",
              "              style=\"display:none;\">\n",
              "        \n",
              "  <svg xmlns=\"http://www.w3.org/2000/svg\" height=\"24px\"viewBox=\"0 0 24 24\"\n",
              "       width=\"24px\">\n",
              "    <path d=\"M0 0h24v24H0V0z\" fill=\"none\"/>\n",
              "    <path d=\"M18.56 5.44l.94 2.06.94-2.06 2.06-.94-2.06-.94-.94-2.06-.94 2.06-2.06.94zm-11 1L8.5 8.5l.94-2.06 2.06-.94-2.06-.94L8.5 2.5l-.94 2.06-2.06.94zm10 10l.94 2.06.94-2.06 2.06-.94-2.06-.94-.94-2.06-.94 2.06-2.06.94z\"/><path d=\"M17.41 7.96l-1.37-1.37c-.4-.4-.92-.59-1.43-.59-.52 0-1.04.2-1.43.59L10.3 9.45l-7.72 7.72c-.78.78-.78 2.05 0 2.83L4 21.41c.39.39.9.59 1.41.59.51 0 1.02-.2 1.41-.59l7.78-7.78 2.81-2.81c.8-.78.8-2.07 0-2.86zM5.41 20L4 18.59l7.72-7.72 1.47 1.35L5.41 20z\"/>\n",
              "  </svg>\n",
              "      </button>\n",
              "      \n",
              "  <style>\n",
              "    .colab-df-container {\n",
              "      display:flex;\n",
              "      flex-wrap:wrap;\n",
              "      gap: 12px;\n",
              "    }\n",
              "\n",
              "    .colab-df-convert {\n",
              "      background-color: #E8F0FE;\n",
              "      border: none;\n",
              "      border-radius: 50%;\n",
              "      cursor: pointer;\n",
              "      display: none;\n",
              "      fill: #1967D2;\n",
              "      height: 32px;\n",
              "      padding: 0 0 0 0;\n",
              "      width: 32px;\n",
              "    }\n",
              "\n",
              "    .colab-df-convert:hover {\n",
              "      background-color: #E2EBFA;\n",
              "      box-shadow: 0px 1px 2px rgba(60, 64, 67, 0.3), 0px 1px 3px 1px rgba(60, 64, 67, 0.15);\n",
              "      fill: #174EA6;\n",
              "    }\n",
              "\n",
              "    [theme=dark] .colab-df-convert {\n",
              "      background-color: #3B4455;\n",
              "      fill: #D2E3FC;\n",
              "    }\n",
              "\n",
              "    [theme=dark] .colab-df-convert:hover {\n",
              "      background-color: #434B5C;\n",
              "      box-shadow: 0px 1px 3px 1px rgba(0, 0, 0, 0.15);\n",
              "      filter: drop-shadow(0px 1px 2px rgba(0, 0, 0, 0.3));\n",
              "      fill: #FFFFFF;\n",
              "    }\n",
              "  </style>\n",
              "\n",
              "      <script>\n",
              "        const buttonEl =\n",
              "          document.querySelector('#df-e10a6172-3273-4227-a9e2-e5fcf7c85656 button.colab-df-convert');\n",
              "        buttonEl.style.display =\n",
              "          google.colab.kernel.accessAllowed ? 'block' : 'none';\n",
              "\n",
              "        async function convertToInteractive(key) {\n",
              "          const element = document.querySelector('#df-e10a6172-3273-4227-a9e2-e5fcf7c85656');\n",
              "          const dataTable =\n",
              "            await google.colab.kernel.invokeFunction('convertToInteractive',\n",
              "                                                     [key], {});\n",
              "          if (!dataTable) return;\n",
              "\n",
              "          const docLinkHtml = 'Like what you see? Visit the ' +\n",
              "            '<a target=\"_blank\" href=https://colab.research.google.com/notebooks/data_table.ipynb>data table notebook</a>'\n",
              "            + ' to learn more about interactive tables.';\n",
              "          element.innerHTML = '';\n",
              "          dataTable['output_type'] = 'display_data';\n",
              "          await google.colab.output.renderOutput(dataTable, element);\n",
              "          const docLink = document.createElement('div');\n",
              "          docLink.innerHTML = docLinkHtml;\n",
              "          element.appendChild(docLink);\n",
              "        }\n",
              "      </script>\n",
              "    </div>\n",
              "  </div>\n",
              "  "
            ]
          },
          "metadata": {},
          "execution_count": 159
        }
      ],
      "source": [
        "#mergeing two datasets\n",
        "df3=df1.merge(df2,how='outer')\n",
        "df3.head()"
      ]
    },
    {
      "cell_type": "code",
      "execution_count": null,
      "id": "289b09f9",
      "metadata": {
        "colab": {
          "base_uri": "https://localhost:8080/"
        },
        "id": "289b09f9",
        "outputId": "a4819b40-ce08-400c-d4a7-12b30985e384"
      },
      "outputs": [
        {
          "output_type": "stream",
          "name": "stdout",
          "text": [
            "<class 'pandas.core.frame.DataFrame'>\n",
            "Int64Index: 1548 entries, 0 to 1547\n",
            "Data columns (total 19 columns):\n",
            " #   Column           Non-Null Count  Dtype  \n",
            "---  ------           --------------  -----  \n",
            " 0   Ind_ID           1548 non-null   int64  \n",
            " 1   GENDER           1541 non-null   object \n",
            " 2   Car_Owner        1548 non-null   object \n",
            " 3   Propert_Owner    1548 non-null   object \n",
            " 4   CHILDREN         1548 non-null   int64  \n",
            " 5   Annual_income    1525 non-null   float64\n",
            " 6   Type_Income      1548 non-null   object \n",
            " 7   EDUCATION        1548 non-null   object \n",
            " 8   Marital_status   1548 non-null   object \n",
            " 9   Housing_type     1548 non-null   object \n",
            " 10  Birthday_count   1526 non-null   float64\n",
            " 11  Employed_days    1548 non-null   int64  \n",
            " 12  Mobile_phone     1548 non-null   int64  \n",
            " 13  Work_Phone       1548 non-null   int64  \n",
            " 14  Phone            1548 non-null   int64  \n",
            " 15  EMAIL_ID         1548 non-null   int64  \n",
            " 16  Type_Occupation  1060 non-null   object \n",
            " 17  Family_Members   1548 non-null   int64  \n",
            " 18  label            1548 non-null   int64  \n",
            "dtypes: float64(2), int64(9), object(8)\n",
            "memory usage: 241.9+ KB\n"
          ]
        }
      ],
      "source": [
        "#To get information of a dataset\n",
        "df3.info()"
      ]
    },
    {
      "cell_type": "code",
      "execution_count": null,
      "id": "22dce9b9",
      "metadata": {
        "colab": {
          "base_uri": "https://localhost:8080/"
        },
        "id": "22dce9b9",
        "outputId": "3cb51b06-9aab-40ad-ffd9-ae33e557ca6c"
      },
      "outputs": [
        {
          "output_type": "execute_result",
          "data": {
            "text/plain": [
              "(1548, 19)"
            ]
          },
          "metadata": {},
          "execution_count": 161
        }
      ],
      "source": [
        "#To check the dimensions of a dataset\n",
        "df3.shape"
      ]
    },
    {
      "cell_type": "markdown",
      "id": "82f59b04",
      "metadata": {
        "id": "82f59b04"
      },
      "source": [
        "**observation:**\n",
        "The dataset contains 1548 rows and 19 columns in which ind id, children, employed days,mobile_phone,work_phone, phone, email id, family members, and label columns are discrete variables. Annual income and birth count are continuous variables. Gender, car owner, property owner, type of income, marital status, education, housing type, and type of occupation are categorical variables."
      ]
    },
    {
      "cell_type": "code",
      "execution_count": null,
      "id": "1deef251",
      "metadata": {
        "colab": {
          "base_uri": "https://localhost:8080/"
        },
        "id": "1deef251",
        "outputId": "729da22d-3206-4c1b-b77a-b46a6c81928b"
      },
      "outputs": [
        {
          "output_type": "execute_result",
          "data": {
            "text/plain": [
              "0       False\n",
              "1       False\n",
              "2       False\n",
              "3       False\n",
              "4       False\n",
              "        ...  \n",
              "1543    False\n",
              "1544    False\n",
              "1545    False\n",
              "1546    False\n",
              "1547    False\n",
              "Length: 1548, dtype: bool"
            ]
          },
          "metadata": {},
          "execution_count": 162
        }
      ],
      "source": [
        "df3.duplicated()"
      ]
    },
    {
      "cell_type": "code",
      "execution_count": null,
      "id": "7d0eb992",
      "metadata": {
        "colab": {
          "base_uri": "https://localhost:8080/"
        },
        "id": "7d0eb992",
        "outputId": "2f5dd6fb-09ab-42b0-dc6b-e9a1262ae1a3"
      },
      "outputs": [
        {
          "output_type": "execute_result",
          "data": {
            "text/plain": [
              "Ind_ID               0\n",
              "GENDER               7\n",
              "Car_Owner            0\n",
              "Propert_Owner        0\n",
              "CHILDREN             0\n",
              "Annual_income       23\n",
              "Type_Income          0\n",
              "EDUCATION            0\n",
              "Marital_status       0\n",
              "Housing_type         0\n",
              "Birthday_count      22\n",
              "Employed_days        0\n",
              "Mobile_phone         0\n",
              "Work_Phone           0\n",
              "Phone                0\n",
              "EMAIL_ID             0\n",
              "Type_Occupation    488\n",
              "Family_Members       0\n",
              "label                0\n",
              "dtype: int64"
            ]
          },
          "metadata": {},
          "execution_count": 163
        }
      ],
      "source": [
        "#To check the null values\n",
        "df3.isnull().sum()"
      ]
    },
    {
      "cell_type": "markdown",
      "id": "6b66861c",
      "metadata": {
        "id": "6b66861c"
      },
      "source": [
        "**Observation:**\n",
        "This dataset contains null values.Gender column contains 7 nullvalues,Annual_income contains 23,birthday_count contains 22 and type_occupation contains 488 nullvalues."
      ]
    },
    {
      "cell_type": "code",
      "execution_count": null,
      "id": "fb65f73b",
      "metadata": {
        "colab": {
          "base_uri": "https://localhost:8080/"
        },
        "id": "fb65f73b",
        "outputId": "1b46cea6-9d44-443c-8e7e-bcb3b818755a"
      },
      "outputs": [
        {
          "output_type": "execute_result",
          "data": {
            "text/plain": [
              "0       False\n",
              "1       False\n",
              "2       False\n",
              "3       False\n",
              "4       False\n",
              "        ...  \n",
              "1543    False\n",
              "1544    False\n",
              "1545    False\n",
              "1546    False\n",
              "1547    False\n",
              "Name: Ind_ID, Length: 1548, dtype: bool"
            ]
          },
          "metadata": {},
          "execution_count": 164
        }
      ],
      "source": [
        "df3[\"Ind_ID\"].duplicated()"
      ]
    },
    {
      "cell_type": "code",
      "execution_count": null,
      "id": "0ce493dd",
      "metadata": {
        "colab": {
          "base_uri": "https://localhost:8080/"
        },
        "id": "0ce493dd",
        "outputId": "a57435f9-6a3a-40b3-81e4-1df240b8829f"
      },
      "outputs": [
        {
          "output_type": "execute_result",
          "data": {
            "text/plain": [
              "1548"
            ]
          },
          "metadata": {},
          "execution_count": 165
        }
      ],
      "source": [
        "df3[\"Ind_ID\"].nunique()"
      ]
    },
    {
      "cell_type": "markdown",
      "id": "390fc167",
      "metadata": {
        "id": "390fc167"
      },
      "source": [
        "**Observation:** No duplicated values in ind_id column."
      ]
    },
    {
      "cell_type": "code",
      "execution_count": null,
      "id": "6a391907",
      "metadata": {
        "colab": {
          "base_uri": "https://localhost:8080/",
          "height": 364
        },
        "id": "6a391907",
        "outputId": "26fda6cb-b681-4d61-c051-5969e7269331"
      },
      "outputs": [
        {
          "output_type": "execute_result",
          "data": {
            "text/plain": [
              "             Ind_ID     CHILDREN  Annual_income  Birthday_count  \\\n",
              "count  1.548000e+03  1548.000000   1.525000e+03     1526.000000   \n",
              "mean   5.078920e+06     0.412791   1.913993e+05   -16040.342071   \n",
              "std    4.171759e+04     0.776691   1.132530e+05     4229.503202   \n",
              "min    5.008827e+06     0.000000   3.375000e+04   -24946.000000   \n",
              "25%    5.045070e+06     0.000000   1.215000e+05   -19553.000000   \n",
              "50%    5.078842e+06     0.000000   1.665000e+05   -15661.500000   \n",
              "75%    5.115673e+06     1.000000   2.250000e+05   -12417.000000   \n",
              "max    5.150412e+06    14.000000   1.575000e+06    -7705.000000   \n",
              "\n",
              "       Employed_days  Mobile_phone   Work_Phone        Phone     EMAIL_ID  \\\n",
              "count    1548.000000        1548.0  1548.000000  1548.000000  1548.000000   \n",
              "mean    59364.689922           1.0     0.208010     0.309432     0.092377   \n",
              "std    137808.062701           0.0     0.406015     0.462409     0.289651   \n",
              "min    -14887.000000           1.0     0.000000     0.000000     0.000000   \n",
              "25%     -3174.500000           1.0     0.000000     0.000000     0.000000   \n",
              "50%     -1565.000000           1.0     0.000000     0.000000     0.000000   \n",
              "75%      -431.750000           1.0     0.000000     1.000000     0.000000   \n",
              "max    365243.000000           1.0     1.000000     1.000000     1.000000   \n",
              "\n",
              "       Family_Members        label  \n",
              "count     1548.000000  1548.000000  \n",
              "mean         2.161499     0.113049  \n",
              "std          0.947772     0.316755  \n",
              "min          1.000000     0.000000  \n",
              "25%          2.000000     0.000000  \n",
              "50%          2.000000     0.000000  \n",
              "75%          3.000000     0.000000  \n",
              "max         15.000000     1.000000  "
            ],
            "text/html": [
              "\n",
              "  <div id=\"df-548fac5a-511f-4c3c-99ed-bf82f4219fb8\">\n",
              "    <div class=\"colab-df-container\">\n",
              "      <div>\n",
              "<style scoped>\n",
              "    .dataframe tbody tr th:only-of-type {\n",
              "        vertical-align: middle;\n",
              "    }\n",
              "\n",
              "    .dataframe tbody tr th {\n",
              "        vertical-align: top;\n",
              "    }\n",
              "\n",
              "    .dataframe thead th {\n",
              "        text-align: right;\n",
              "    }\n",
              "</style>\n",
              "<table border=\"1\" class=\"dataframe\">\n",
              "  <thead>\n",
              "    <tr style=\"text-align: right;\">\n",
              "      <th></th>\n",
              "      <th>Ind_ID</th>\n",
              "      <th>CHILDREN</th>\n",
              "      <th>Annual_income</th>\n",
              "      <th>Birthday_count</th>\n",
              "      <th>Employed_days</th>\n",
              "      <th>Mobile_phone</th>\n",
              "      <th>Work_Phone</th>\n",
              "      <th>Phone</th>\n",
              "      <th>EMAIL_ID</th>\n",
              "      <th>Family_Members</th>\n",
              "      <th>label</th>\n",
              "    </tr>\n",
              "  </thead>\n",
              "  <tbody>\n",
              "    <tr>\n",
              "      <th>count</th>\n",
              "      <td>1.548000e+03</td>\n",
              "      <td>1548.000000</td>\n",
              "      <td>1.525000e+03</td>\n",
              "      <td>1526.000000</td>\n",
              "      <td>1548.000000</td>\n",
              "      <td>1548.0</td>\n",
              "      <td>1548.000000</td>\n",
              "      <td>1548.000000</td>\n",
              "      <td>1548.000000</td>\n",
              "      <td>1548.000000</td>\n",
              "      <td>1548.000000</td>\n",
              "    </tr>\n",
              "    <tr>\n",
              "      <th>mean</th>\n",
              "      <td>5.078920e+06</td>\n",
              "      <td>0.412791</td>\n",
              "      <td>1.913993e+05</td>\n",
              "      <td>-16040.342071</td>\n",
              "      <td>59364.689922</td>\n",
              "      <td>1.0</td>\n",
              "      <td>0.208010</td>\n",
              "      <td>0.309432</td>\n",
              "      <td>0.092377</td>\n",
              "      <td>2.161499</td>\n",
              "      <td>0.113049</td>\n",
              "    </tr>\n",
              "    <tr>\n",
              "      <th>std</th>\n",
              "      <td>4.171759e+04</td>\n",
              "      <td>0.776691</td>\n",
              "      <td>1.132530e+05</td>\n",
              "      <td>4229.503202</td>\n",
              "      <td>137808.062701</td>\n",
              "      <td>0.0</td>\n",
              "      <td>0.406015</td>\n",
              "      <td>0.462409</td>\n",
              "      <td>0.289651</td>\n",
              "      <td>0.947772</td>\n",
              "      <td>0.316755</td>\n",
              "    </tr>\n",
              "    <tr>\n",
              "      <th>min</th>\n",
              "      <td>5.008827e+06</td>\n",
              "      <td>0.000000</td>\n",
              "      <td>3.375000e+04</td>\n",
              "      <td>-24946.000000</td>\n",
              "      <td>-14887.000000</td>\n",
              "      <td>1.0</td>\n",
              "      <td>0.000000</td>\n",
              "      <td>0.000000</td>\n",
              "      <td>0.000000</td>\n",
              "      <td>1.000000</td>\n",
              "      <td>0.000000</td>\n",
              "    </tr>\n",
              "    <tr>\n",
              "      <th>25%</th>\n",
              "      <td>5.045070e+06</td>\n",
              "      <td>0.000000</td>\n",
              "      <td>1.215000e+05</td>\n",
              "      <td>-19553.000000</td>\n",
              "      <td>-3174.500000</td>\n",
              "      <td>1.0</td>\n",
              "      <td>0.000000</td>\n",
              "      <td>0.000000</td>\n",
              "      <td>0.000000</td>\n",
              "      <td>2.000000</td>\n",
              "      <td>0.000000</td>\n",
              "    </tr>\n",
              "    <tr>\n",
              "      <th>50%</th>\n",
              "      <td>5.078842e+06</td>\n",
              "      <td>0.000000</td>\n",
              "      <td>1.665000e+05</td>\n",
              "      <td>-15661.500000</td>\n",
              "      <td>-1565.000000</td>\n",
              "      <td>1.0</td>\n",
              "      <td>0.000000</td>\n",
              "      <td>0.000000</td>\n",
              "      <td>0.000000</td>\n",
              "      <td>2.000000</td>\n",
              "      <td>0.000000</td>\n",
              "    </tr>\n",
              "    <tr>\n",
              "      <th>75%</th>\n",
              "      <td>5.115673e+06</td>\n",
              "      <td>1.000000</td>\n",
              "      <td>2.250000e+05</td>\n",
              "      <td>-12417.000000</td>\n",
              "      <td>-431.750000</td>\n",
              "      <td>1.0</td>\n",
              "      <td>0.000000</td>\n",
              "      <td>1.000000</td>\n",
              "      <td>0.000000</td>\n",
              "      <td>3.000000</td>\n",
              "      <td>0.000000</td>\n",
              "    </tr>\n",
              "    <tr>\n",
              "      <th>max</th>\n",
              "      <td>5.150412e+06</td>\n",
              "      <td>14.000000</td>\n",
              "      <td>1.575000e+06</td>\n",
              "      <td>-7705.000000</td>\n",
              "      <td>365243.000000</td>\n",
              "      <td>1.0</td>\n",
              "      <td>1.000000</td>\n",
              "      <td>1.000000</td>\n",
              "      <td>1.000000</td>\n",
              "      <td>15.000000</td>\n",
              "      <td>1.000000</td>\n",
              "    </tr>\n",
              "  </tbody>\n",
              "</table>\n",
              "</div>\n",
              "      <button class=\"colab-df-convert\" onclick=\"convertToInteractive('df-548fac5a-511f-4c3c-99ed-bf82f4219fb8')\"\n",
              "              title=\"Convert this dataframe to an interactive table.\"\n",
              "              style=\"display:none;\">\n",
              "        \n",
              "  <svg xmlns=\"http://www.w3.org/2000/svg\" height=\"24px\"viewBox=\"0 0 24 24\"\n",
              "       width=\"24px\">\n",
              "    <path d=\"M0 0h24v24H0V0z\" fill=\"none\"/>\n",
              "    <path d=\"M18.56 5.44l.94 2.06.94-2.06 2.06-.94-2.06-.94-.94-2.06-.94 2.06-2.06.94zm-11 1L8.5 8.5l.94-2.06 2.06-.94-2.06-.94L8.5 2.5l-.94 2.06-2.06.94zm10 10l.94 2.06.94-2.06 2.06-.94-2.06-.94-.94-2.06-.94 2.06-2.06.94z\"/><path d=\"M17.41 7.96l-1.37-1.37c-.4-.4-.92-.59-1.43-.59-.52 0-1.04.2-1.43.59L10.3 9.45l-7.72 7.72c-.78.78-.78 2.05 0 2.83L4 21.41c.39.39.9.59 1.41.59.51 0 1.02-.2 1.41-.59l7.78-7.78 2.81-2.81c.8-.78.8-2.07 0-2.86zM5.41 20L4 18.59l7.72-7.72 1.47 1.35L5.41 20z\"/>\n",
              "  </svg>\n",
              "      </button>\n",
              "      \n",
              "  <style>\n",
              "    .colab-df-container {\n",
              "      display:flex;\n",
              "      flex-wrap:wrap;\n",
              "      gap: 12px;\n",
              "    }\n",
              "\n",
              "    .colab-df-convert {\n",
              "      background-color: #E8F0FE;\n",
              "      border: none;\n",
              "      border-radius: 50%;\n",
              "      cursor: pointer;\n",
              "      display: none;\n",
              "      fill: #1967D2;\n",
              "      height: 32px;\n",
              "      padding: 0 0 0 0;\n",
              "      width: 32px;\n",
              "    }\n",
              "\n",
              "    .colab-df-convert:hover {\n",
              "      background-color: #E2EBFA;\n",
              "      box-shadow: 0px 1px 2px rgba(60, 64, 67, 0.3), 0px 1px 3px 1px rgba(60, 64, 67, 0.15);\n",
              "      fill: #174EA6;\n",
              "    }\n",
              "\n",
              "    [theme=dark] .colab-df-convert {\n",
              "      background-color: #3B4455;\n",
              "      fill: #D2E3FC;\n",
              "    }\n",
              "\n",
              "    [theme=dark] .colab-df-convert:hover {\n",
              "      background-color: #434B5C;\n",
              "      box-shadow: 0px 1px 3px 1px rgba(0, 0, 0, 0.15);\n",
              "      filter: drop-shadow(0px 1px 2px rgba(0, 0, 0, 0.3));\n",
              "      fill: #FFFFFF;\n",
              "    }\n",
              "  </style>\n",
              "\n",
              "      <script>\n",
              "        const buttonEl =\n",
              "          document.querySelector('#df-548fac5a-511f-4c3c-99ed-bf82f4219fb8 button.colab-df-convert');\n",
              "        buttonEl.style.display =\n",
              "          google.colab.kernel.accessAllowed ? 'block' : 'none';\n",
              "\n",
              "        async function convertToInteractive(key) {\n",
              "          const element = document.querySelector('#df-548fac5a-511f-4c3c-99ed-bf82f4219fb8');\n",
              "          const dataTable =\n",
              "            await google.colab.kernel.invokeFunction('convertToInteractive',\n",
              "                                                     [key], {});\n",
              "          if (!dataTable) return;\n",
              "\n",
              "          const docLinkHtml = 'Like what you see? Visit the ' +\n",
              "            '<a target=\"_blank\" href=https://colab.research.google.com/notebooks/data_table.ipynb>data table notebook</a>'\n",
              "            + ' to learn more about interactive tables.';\n",
              "          element.innerHTML = '';\n",
              "          dataTable['output_type'] = 'display_data';\n",
              "          await google.colab.output.renderOutput(dataTable, element);\n",
              "          const docLink = document.createElement('div');\n",
              "          docLink.innerHTML = docLinkHtml;\n",
              "          element.appendChild(docLink);\n",
              "        }\n",
              "      </script>\n",
              "    </div>\n",
              "  </div>\n",
              "  "
            ]
          },
          "metadata": {},
          "execution_count": 166
        }
      ],
      "source": [
        "#To check statistical values\n",
        "df3.describe()"
      ]
    },
    {
      "cell_type": "markdown",
      "source": [
        "**Observation:** We can see all statical values of the numerical variables such as the count of each variable, mean,standard deviation, min and max values, and quartiles."
      ],
      "metadata": {
        "id": "fyzDweTIYB3G"
      },
      "id": "fyzDweTIYB3G"
    },
    {
      "cell_type": "markdown",
      "id": "3197053e",
      "metadata": {
        "id": "3197053e"
      },
      "source": [
        "**In this dataset, there are some unnecessary columns for prediction such as children, marital status, work phone, phone, and email id.**"
      ]
    },
    {
      "cell_type": "code",
      "execution_count": null,
      "id": "c69285b5",
      "metadata": {
        "colab": {
          "base_uri": "https://localhost:8080/",
          "height": 357
        },
        "id": "c69285b5",
        "outputId": "5e4024c9-edd6-4075-cd65-591b7d350020"
      },
      "outputs": [
        {
          "output_type": "execute_result",
          "data": {
            "text/plain": [
              "    Ind_ID GENDER Car_Owner Propert_Owner  Annual_income  \\\n",
              "0  5008827      M         Y             Y       180000.0   \n",
              "1  5009744      F         Y             N       315000.0   \n",
              "2  5009746      F         Y             N       315000.0   \n",
              "3  5009749      F         Y             N            NaN   \n",
              "4  5009752      F         Y             N       315000.0   \n",
              "\n",
              "            Type_Income         EDUCATION       Housing_type  Birthday_count  \\\n",
              "0             Pensioner  Higher education  House / apartment        -18772.0   \n",
              "1  Commercial associate  Higher education  House / apartment        -13557.0   \n",
              "2  Commercial associate  Higher education  House / apartment             NaN   \n",
              "3  Commercial associate  Higher education  House / apartment        -13557.0   \n",
              "4  Commercial associate  Higher education  House / apartment        -13557.0   \n",
              "\n",
              "   Employed_days  Mobile_phone Type_Occupation  label  \n",
              "0         365243             1             NaN      1  \n",
              "1           -586             1             NaN      1  \n",
              "2           -586             1             NaN      1  \n",
              "3           -586             1             NaN      1  \n",
              "4           -586             1             NaN      1  "
            ],
            "text/html": [
              "\n",
              "  <div id=\"df-e4b476e2-cf4a-4732-8640-4894afef71cc\">\n",
              "    <div class=\"colab-df-container\">\n",
              "      <div>\n",
              "<style scoped>\n",
              "    .dataframe tbody tr th:only-of-type {\n",
              "        vertical-align: middle;\n",
              "    }\n",
              "\n",
              "    .dataframe tbody tr th {\n",
              "        vertical-align: top;\n",
              "    }\n",
              "\n",
              "    .dataframe thead th {\n",
              "        text-align: right;\n",
              "    }\n",
              "</style>\n",
              "<table border=\"1\" class=\"dataframe\">\n",
              "  <thead>\n",
              "    <tr style=\"text-align: right;\">\n",
              "      <th></th>\n",
              "      <th>Ind_ID</th>\n",
              "      <th>GENDER</th>\n",
              "      <th>Car_Owner</th>\n",
              "      <th>Propert_Owner</th>\n",
              "      <th>Annual_income</th>\n",
              "      <th>Type_Income</th>\n",
              "      <th>EDUCATION</th>\n",
              "      <th>Housing_type</th>\n",
              "      <th>Birthday_count</th>\n",
              "      <th>Employed_days</th>\n",
              "      <th>Mobile_phone</th>\n",
              "      <th>Type_Occupation</th>\n",
              "      <th>label</th>\n",
              "    </tr>\n",
              "  </thead>\n",
              "  <tbody>\n",
              "    <tr>\n",
              "      <th>0</th>\n",
              "      <td>5008827</td>\n",
              "      <td>M</td>\n",
              "      <td>Y</td>\n",
              "      <td>Y</td>\n",
              "      <td>180000.0</td>\n",
              "      <td>Pensioner</td>\n",
              "      <td>Higher education</td>\n",
              "      <td>House / apartment</td>\n",
              "      <td>-18772.0</td>\n",
              "      <td>365243</td>\n",
              "      <td>1</td>\n",
              "      <td>NaN</td>\n",
              "      <td>1</td>\n",
              "    </tr>\n",
              "    <tr>\n",
              "      <th>1</th>\n",
              "      <td>5009744</td>\n",
              "      <td>F</td>\n",
              "      <td>Y</td>\n",
              "      <td>N</td>\n",
              "      <td>315000.0</td>\n",
              "      <td>Commercial associate</td>\n",
              "      <td>Higher education</td>\n",
              "      <td>House / apartment</td>\n",
              "      <td>-13557.0</td>\n",
              "      <td>-586</td>\n",
              "      <td>1</td>\n",
              "      <td>NaN</td>\n",
              "      <td>1</td>\n",
              "    </tr>\n",
              "    <tr>\n",
              "      <th>2</th>\n",
              "      <td>5009746</td>\n",
              "      <td>F</td>\n",
              "      <td>Y</td>\n",
              "      <td>N</td>\n",
              "      <td>315000.0</td>\n",
              "      <td>Commercial associate</td>\n",
              "      <td>Higher education</td>\n",
              "      <td>House / apartment</td>\n",
              "      <td>NaN</td>\n",
              "      <td>-586</td>\n",
              "      <td>1</td>\n",
              "      <td>NaN</td>\n",
              "      <td>1</td>\n",
              "    </tr>\n",
              "    <tr>\n",
              "      <th>3</th>\n",
              "      <td>5009749</td>\n",
              "      <td>F</td>\n",
              "      <td>Y</td>\n",
              "      <td>N</td>\n",
              "      <td>NaN</td>\n",
              "      <td>Commercial associate</td>\n",
              "      <td>Higher education</td>\n",
              "      <td>House / apartment</td>\n",
              "      <td>-13557.0</td>\n",
              "      <td>-586</td>\n",
              "      <td>1</td>\n",
              "      <td>NaN</td>\n",
              "      <td>1</td>\n",
              "    </tr>\n",
              "    <tr>\n",
              "      <th>4</th>\n",
              "      <td>5009752</td>\n",
              "      <td>F</td>\n",
              "      <td>Y</td>\n",
              "      <td>N</td>\n",
              "      <td>315000.0</td>\n",
              "      <td>Commercial associate</td>\n",
              "      <td>Higher education</td>\n",
              "      <td>House / apartment</td>\n",
              "      <td>-13557.0</td>\n",
              "      <td>-586</td>\n",
              "      <td>1</td>\n",
              "      <td>NaN</td>\n",
              "      <td>1</td>\n",
              "    </tr>\n",
              "  </tbody>\n",
              "</table>\n",
              "</div>\n",
              "      <button class=\"colab-df-convert\" onclick=\"convertToInteractive('df-e4b476e2-cf4a-4732-8640-4894afef71cc')\"\n",
              "              title=\"Convert this dataframe to an interactive table.\"\n",
              "              style=\"display:none;\">\n",
              "        \n",
              "  <svg xmlns=\"http://www.w3.org/2000/svg\" height=\"24px\"viewBox=\"0 0 24 24\"\n",
              "       width=\"24px\">\n",
              "    <path d=\"M0 0h24v24H0V0z\" fill=\"none\"/>\n",
              "    <path d=\"M18.56 5.44l.94 2.06.94-2.06 2.06-.94-2.06-.94-.94-2.06-.94 2.06-2.06.94zm-11 1L8.5 8.5l.94-2.06 2.06-.94-2.06-.94L8.5 2.5l-.94 2.06-2.06.94zm10 10l.94 2.06.94-2.06 2.06-.94-2.06-.94-.94-2.06-.94 2.06-2.06.94z\"/><path d=\"M17.41 7.96l-1.37-1.37c-.4-.4-.92-.59-1.43-.59-.52 0-1.04.2-1.43.59L10.3 9.45l-7.72 7.72c-.78.78-.78 2.05 0 2.83L4 21.41c.39.39.9.59 1.41.59.51 0 1.02-.2 1.41-.59l7.78-7.78 2.81-2.81c.8-.78.8-2.07 0-2.86zM5.41 20L4 18.59l7.72-7.72 1.47 1.35L5.41 20z\"/>\n",
              "  </svg>\n",
              "      </button>\n",
              "      \n",
              "  <style>\n",
              "    .colab-df-container {\n",
              "      display:flex;\n",
              "      flex-wrap:wrap;\n",
              "      gap: 12px;\n",
              "    }\n",
              "\n",
              "    .colab-df-convert {\n",
              "      background-color: #E8F0FE;\n",
              "      border: none;\n",
              "      border-radius: 50%;\n",
              "      cursor: pointer;\n",
              "      display: none;\n",
              "      fill: #1967D2;\n",
              "      height: 32px;\n",
              "      padding: 0 0 0 0;\n",
              "      width: 32px;\n",
              "    }\n",
              "\n",
              "    .colab-df-convert:hover {\n",
              "      background-color: #E2EBFA;\n",
              "      box-shadow: 0px 1px 2px rgba(60, 64, 67, 0.3), 0px 1px 3px 1px rgba(60, 64, 67, 0.15);\n",
              "      fill: #174EA6;\n",
              "    }\n",
              "\n",
              "    [theme=dark] .colab-df-convert {\n",
              "      background-color: #3B4455;\n",
              "      fill: #D2E3FC;\n",
              "    }\n",
              "\n",
              "    [theme=dark] .colab-df-convert:hover {\n",
              "      background-color: #434B5C;\n",
              "      box-shadow: 0px 1px 3px 1px rgba(0, 0, 0, 0.15);\n",
              "      filter: drop-shadow(0px 1px 2px rgba(0, 0, 0, 0.3));\n",
              "      fill: #FFFFFF;\n",
              "    }\n",
              "  </style>\n",
              "\n",
              "      <script>\n",
              "        const buttonEl =\n",
              "          document.querySelector('#df-e4b476e2-cf4a-4732-8640-4894afef71cc button.colab-df-convert');\n",
              "        buttonEl.style.display =\n",
              "          google.colab.kernel.accessAllowed ? 'block' : 'none';\n",
              "\n",
              "        async function convertToInteractive(key) {\n",
              "          const element = document.querySelector('#df-e4b476e2-cf4a-4732-8640-4894afef71cc');\n",
              "          const dataTable =\n",
              "            await google.colab.kernel.invokeFunction('convertToInteractive',\n",
              "                                                     [key], {});\n",
              "          if (!dataTable) return;\n",
              "\n",
              "          const docLinkHtml = 'Like what you see? Visit the ' +\n",
              "            '<a target=\"_blank\" href=https://colab.research.google.com/notebooks/data_table.ipynb>data table notebook</a>'\n",
              "            + ' to learn more about interactive tables.';\n",
              "          element.innerHTML = '';\n",
              "          dataTable['output_type'] = 'display_data';\n",
              "          await google.colab.output.renderOutput(dataTable, element);\n",
              "          const docLink = document.createElement('div');\n",
              "          docLink.innerHTML = docLinkHtml;\n",
              "          element.appendChild(docLink);\n",
              "        }\n",
              "      </script>\n",
              "    </div>\n",
              "  </div>\n",
              "  "
            ]
          },
          "metadata": {},
          "execution_count": 167
        }
      ],
      "source": [
        "#Removing uncessary columns\n",
        "df3.drop([\"CHILDREN\",\"Marital_status\",\"Work_Phone\",\"Phone\",\"EMAIL_ID\",\"Family_Members\"],axis=1,inplace=True)\n",
        "df3.head()"
      ]
    },
    {
      "cell_type": "markdown",
      "id": "a38c9065",
      "metadata": {
        "id": "a38c9065"
      },
      "source": [
        "**Dealing with missing values**"
      ]
    },
    {
      "cell_type": "code",
      "execution_count": null,
      "id": "1b83e062",
      "metadata": {
        "colab": {
          "base_uri": "https://localhost:8080/",
          "height": 573
        },
        "id": "1b83e062",
        "outputId": "77a39f23-a1c2-448b-eb43-f06062ab4d25"
      },
      "outputs": [
        {
          "output_type": "execute_result",
          "data": {
            "text/plain": [
              "<Axes: >"
            ]
          },
          "metadata": {},
          "execution_count": 168
        },
        {
          "output_type": "display_data",
          "data": {
            "text/plain": [
              "<Figure size 1000x500 with 2 Axes>"
            ],
            "image/png": "[encoded data removed]"
          },
          "metadata": {}
        }
      ],
      "source": [
        "#Checking relation between missingness\n",
        "import missingno as msno\n",
        "msno.matrix(df3, figsize=(10,5), fontsize=12, color=(1, 0.38, 0.27))"
      ]
    },
    {
      "cell_type": "markdown",
      "id": "43cc1d57",
      "metadata": {
        "id": "43cc1d57"
      },
      "source": [
        "**OBSERVATION:**\n",
        "There is relation between missingness in the variables.Hence,it is MCAR."
      ]
    },
    {
      "cell_type": "code",
      "execution_count": null,
      "id": "d7ea1f35",
      "metadata": {
        "scrolled": false,
        "colab": {
          "base_uri": "https://localhost:8080/",
          "height": 613
        },
        "id": "d7ea1f35",
        "outputId": "feb92d60-4f58-4574-a1a4-2ec9b9d2a2d8"
      },
      "outputs": [
        {
          "output_type": "execute_result",
          "data": {
            "text/plain": [
              "<Axes: >"
            ]
          },
          "metadata": {},
          "execution_count": 169
        },
        {
          "output_type": "display_data",
          "data": {
            "text/plain": [
              "<Figure size 1000x500 with 3 Axes>"
            ],
            "image/png": "[encoded data removed]"
          },
          "metadata": {}
        }
      ],
      "source": [
        "#create bar graph for missing values\n",
        "msno.bar(df3.sample(1548),color=\"dodgerblue\", sort=\"ascending\", figsize=(10,5), fontsize=12)"
      ]
    },
    {
      "cell_type": "code",
      "execution_count": null,
      "id": "4dfc1e47",
      "metadata": {
        "colab": {
          "base_uri": "https://localhost:8080/",
          "height": 566
        },
        "id": "4dfc1e47",
        "outputId": "afc5edb5-ad34-492e-a83a-820e1a9f983f"
      },
      "outputs": [
        {
          "output_type": "execute_result",
          "data": {
            "text/plain": [
              "<Axes: >"
            ]
          },
          "metadata": {},
          "execution_count": 170
        },
        {
          "output_type": "display_data",
          "data": {
            "text/plain": [
              "<Figure size 1000x500 with 2 Axes>"
            ],
            "image/png": "[encoded data removed]"
          },
          "metadata": {}
        }
      ],
      "source": [
        "msno.heatmap(df3,cmap=\"RdYlGn\",figsize=(10,5), fontsize=12)"
      ]
    },
    {
      "cell_type": "markdown",
      "id": "d21428b9",
      "metadata": {
        "id": "d21428b9"
      },
      "source": [
        "**OBSERVATION:** There is relation between missingness in the variables.Hence,it is MCAR."
      ]
    },
    {
      "cell_type": "code",
      "execution_count": null,
      "id": "044ec4b5",
      "metadata": {
        "colab": {
          "base_uri": "https://localhost:8080/"
        },
        "id": "044ec4b5",
        "outputId": "18508148-e539-42dd-f59c-4f132b56b017"
      },
      "outputs": [
        {
          "output_type": "execute_result",
          "data": {
            "text/plain": [
              "488"
            ]
          },
          "metadata": {},
          "execution_count": 171
        }
      ],
      "source": [
        "df3[\"Type_Occupation\"].isnull().sum()"
      ]
    },
    {
      "cell_type": "code",
      "execution_count": null,
      "id": "54e5671e",
      "metadata": {
        "colab": {
          "base_uri": "https://localhost:8080/"
        },
        "id": "54e5671e",
        "outputId": "1e0b483b-4dcf-466e-fe03-caedae28cd21"
      },
      "outputs": [
        {
          "output_type": "stream",
          "name": "stdout",
          "text": [
            "percent of missing values in type_occupation:\n",
            "31.52\n"
          ]
        }
      ],
      "source": [
        "print(\"percent of missing values in type_occupation:\")\n",
        "percent= (df3[\"Type_Occupation\"].isnull().sum()/df3.shape[0])*100\n",
        "print(round(percent,2))"
      ]
    },
    {
      "cell_type": "markdown",
      "id": "a050d564",
      "metadata": {
        "id": "a050d564"
      },
      "source": [
        "**Observation:** column type_occupation contains 31% null values. As per my knowledge, it is a very high amount of null values and this column is not very important for analysis.so I want to drop this column."
      ]
    },
    {
      "cell_type": "code",
      "execution_count": null,
      "id": "ff5f834a",
      "metadata": {
        "colab": {
          "base_uri": "https://localhost:8080/",
          "height": 357
        },
        "id": "ff5f834a",
        "outputId": "4bbb17ed-a952-41c3-ada2-022cace80d52"
      },
      "outputs": [
        {
          "output_type": "execute_result",
          "data": {
            "text/plain": [
              "    Ind_ID GENDER Car_Owner Propert_Owner  Annual_income  \\\n",
              "0  5008827      M         Y             Y       180000.0   \n",
              "1  5009744      F         Y             N       315000.0   \n",
              "2  5009746      F         Y             N       315000.0   \n",
              "3  5009749      F         Y             N            NaN   \n",
              "4  5009752      F         Y             N       315000.0   \n",
              "\n",
              "            Type_Income         EDUCATION       Housing_type  Birthday_count  \\\n",
              "0             Pensioner  Higher education  House / apartment        -18772.0   \n",
              "1  Commercial associate  Higher education  House / apartment        -13557.0   \n",
              "2  Commercial associate  Higher education  House / apartment             NaN   \n",
              "3  Commercial associate  Higher education  House / apartment        -13557.0   \n",
              "4  Commercial associate  Higher education  House / apartment        -13557.0   \n",
              "\n",
              "   Employed_days  Mobile_phone  label  \n",
              "0         365243             1      1  \n",
              "1           -586             1      1  \n",
              "2           -586             1      1  \n",
              "3           -586             1      1  \n",
              "4           -586             1      1  "
            ],
            "text/html": [
              "\n",
              "  <div id=\"df-6c7021ae-0b51-40f9-88cf-6968c2379e41\">\n",
              "    <div class=\"colab-df-container\">\n",
              "      <div>\n",
              "<style scoped>\n",
              "    .dataframe tbody tr th:only-of-type {\n",
              "        vertical-align: middle;\n",
              "    }\n",
              "\n",
              "    .dataframe tbody tr th {\n",
              "        vertical-align: top;\n",
              "    }\n",
              "\n",
              "    .dataframe thead th {\n",
              "        text-align: right;\n",
              "    }\n",
              "</style>\n",
              "<table border=\"1\" class=\"dataframe\">\n",
              "  <thead>\n",
              "    <tr style=\"text-align: right;\">\n",
              "      <th></th>\n",
              "      <th>Ind_ID</th>\n",
              "      <th>GENDER</th>\n",
              "      <th>Car_Owner</th>\n",
              "      <th>Propert_Owner</th>\n",
              "      <th>Annual_income</th>\n",
              "      <th>Type_Income</th>\n",
              "      <th>EDUCATION</th>\n",
              "      <th>Housing_type</th>\n",
              "      <th>Birthday_count</th>\n",
              "      <th>Employed_days</th>\n",
              "      <th>Mobile_phone</th>\n",
              "      <th>label</th>\n",
              "    </tr>\n",
              "  </thead>\n",
              "  <tbody>\n",
              "    <tr>\n",
              "      <th>0</th>\n",
              "      <td>5008827</td>\n",
              "      <td>M</td>\n",
              "      <td>Y</td>\n",
              "      <td>Y</td>\n",
              "      <td>180000.0</td>\n",
              "      <td>Pensioner</td>\n",
              "      <td>Higher education</td>\n",
              "      <td>House / apartment</td>\n",
              "      <td>-18772.0</td>\n",
              "      <td>365243</td>\n",
              "      <td>1</td>\n",
              "      <td>1</td>\n",
              "    </tr>\n",
              "    <tr>\n",
              "      <th>1</th>\n",
              "      <td>5009744</td>\n",
              "      <td>F</td>\n",
              "      <td>Y</td>\n",
              "      <td>N</td>\n",
              "      <td>315000.0</td>\n",
              "      <td>Commercial associate</td>\n",
              "      <td>Higher education</td>\n",
              "      <td>House / apartment</td>\n",
              "      <td>-13557.0</td>\n",
              "      <td>-586</td>\n",
              "      <td>1</td>\n",
              "      <td>1</td>\n",
              "    </tr>\n",
              "    <tr>\n",
              "      <th>2</th>\n",
              "      <td>5009746</td>\n",
              "      <td>F</td>\n",
              "      <td>Y</td>\n",
              "      <td>N</td>\n",
              "      <td>315000.0</td>\n",
              "      <td>Commercial associate</td>\n",
              "      <td>Higher education</td>\n",
              "      <td>House / apartment</td>\n",
              "      <td>NaN</td>\n",
              "      <td>-586</td>\n",
              "      <td>1</td>\n",
              "      <td>1</td>\n",
              "    </tr>\n",
              "    <tr>\n",
              "      <th>3</th>\n",
              "      <td>5009749</td>\n",
              "      <td>F</td>\n",
              "      <td>Y</td>\n",
              "      <td>N</td>\n",
              "      <td>NaN</td>\n",
              "      <td>Commercial associate</td>\n",
              "      <td>Higher education</td>\n",
              "      <td>House / apartment</td>\n",
              "      <td>-13557.0</td>\n",
              "      <td>-586</td>\n",
              "      <td>1</td>\n",
              "      <td>1</td>\n",
              "    </tr>\n",
              "    <tr>\n",
              "      <th>4</th>\n",
              "      <td>5009752</td>\n",
              "      <td>F</td>\n",
              "      <td>Y</td>\n",
              "      <td>N</td>\n",
              "      <td>315000.0</td>\n",
              "      <td>Commercial associate</td>\n",
              "      <td>Higher education</td>\n",
              "      <td>House / apartment</td>\n",
              "      <td>-13557.0</td>\n",
              "      <td>-586</td>\n",
              "      <td>1</td>\n",
              "      <td>1</td>\n",
              "    </tr>\n",
              "  </tbody>\n",
              "</table>\n",
              "</div>\n",
              "      <button class=\"colab-df-convert\" onclick=\"convertToInteractive('df-6c7021ae-0b51-40f9-88cf-6968c2379e41')\"\n",
              "              title=\"Convert this dataframe to an interactive table.\"\n",
              "              style=\"display:none;\">\n",
              "        \n",
              "  <svg xmlns=\"http://www.w3.org/2000/svg\" height=\"24px\"viewBox=\"0 0 24 24\"\n",
              "       width=\"24px\">\n",
              "    <path d=\"M0 0h24v24H0V0z\" fill=\"none\"/>\n",
              "    <path d=\"M18.56 5.44l.94 2.06.94-2.06 2.06-.94-2.06-.94-.94-2.06-.94 2.06-2.06.94zm-11 1L8.5 8.5l.94-2.06 2.06-.94-2.06-.94L8.5 2.5l-.94 2.06-2.06.94zm10 10l.94 2.06.94-2.06 2.06-.94-2.06-.94-.94-2.06-.94 2.06-2.06.94z\"/><path d=\"M17.41 7.96l-1.37-1.37c-.4-.4-.92-.59-1.43-.59-.52 0-1.04.2-1.43.59L10.3 9.45l-7.72 7.72c-.78.78-.78 2.05 0 2.83L4 21.41c.39.39.9.59 1.41.59.51 0 1.02-.2 1.41-.59l7.78-7.78 2.81-2.81c.8-.78.8-2.07 0-2.86zM5.41 20L4 18.59l7.72-7.72 1.47 1.35L5.41 20z\"/>\n",
              "  </svg>\n",
              "      </button>\n",
              "      \n",
              "  <style>\n",
              "    .colab-df-container {\n",
              "      display:flex;\n",
              "      flex-wrap:wrap;\n",
              "      gap: 12px;\n",
              "    }\n",
              "\n",
              "    .colab-df-convert {\n",
              "      background-color: #E8F0FE;\n",
              "      border: none;\n",
              "      border-radius: 50%;\n",
              "      cursor: pointer;\n",
              "      display: none;\n",
              "      fill: #1967D2;\n",
              "      height: 32px;\n",
              "      padding: 0 0 0 0;\n",
              "      width: 32px;\n",
              "    }\n",
              "\n",
              "    .colab-df-convert:hover {\n",
              "      background-color: #E2EBFA;\n",
              "      box-shadow: 0px 1px 2px rgba(60, 64, 67, 0.3), 0px 1px 3px 1px rgba(60, 64, 67, 0.15);\n",
              "      fill: #174EA6;\n",
              "    }\n",
              "\n",
              "    [theme=dark] .colab-df-convert {\n",
              "      background-color: #3B4455;\n",
              "      fill: #D2E3FC;\n",
              "    }\n",
              "\n",
              "    [theme=dark] .colab-df-convert:hover {\n",
              "      background-color: #434B5C;\n",
              "      box-shadow: 0px 1px 3px 1px rgba(0, 0, 0, 0.15);\n",
              "      filter: drop-shadow(0px 1px 2px rgba(0, 0, 0, 0.3));\n",
              "      fill: #FFFFFF;\n",
              "    }\n",
              "  </style>\n",
              "\n",
              "      <script>\n",
              "        const buttonEl =\n",
              "          document.querySelector('#df-6c7021ae-0b51-40f9-88cf-6968c2379e41 button.colab-df-convert');\n",
              "        buttonEl.style.display =\n",
              "          google.colab.kernel.accessAllowed ? 'block' : 'none';\n",
              "\n",
              "        async function convertToInteractive(key) {\n",
              "          const element = document.querySelector('#df-6c7021ae-0b51-40f9-88cf-6968c2379e41');\n",
              "          const dataTable =\n",
              "            await google.colab.kernel.invokeFunction('convertToInteractive',\n",
              "                                                     [key], {});\n",
              "          if (!dataTable) return;\n",
              "\n",
              "          const docLinkHtml = 'Like what you see? Visit the ' +\n",
              "            '<a target=\"_blank\" href=https://colab.research.google.com/notebooks/data_table.ipynb>data table notebook</a>'\n",
              "            + ' to learn more about interactive tables.';\n",
              "          element.innerHTML = '';\n",
              "          dataTable['output_type'] = 'display_data';\n",
              "          await google.colab.output.renderOutput(dataTable, element);\n",
              "          const docLink = document.createElement('div');\n",
              "          docLink.innerHTML = docLinkHtml;\n",
              "          element.appendChild(docLink);\n",
              "        }\n",
              "      </script>\n",
              "    </div>\n",
              "  </div>\n",
              "  "
            ]
          },
          "metadata": {},
          "execution_count": 173
        }
      ],
      "source": [
        "#dropping type occupation column\n",
        "df3.drop([\"Type_Occupation\"],axis=1,inplace=True)\n",
        "df3.head()"
      ]
    },
    {
      "cell_type": "code",
      "execution_count": null,
      "id": "856f9132",
      "metadata": {
        "colab": {
          "base_uri": "https://localhost:8080/"
        },
        "id": "856f9132",
        "outputId": "c801cb76-7411-4d8c-a51c-e0b85728fcc9"
      },
      "outputs": [
        {
          "output_type": "execute_result",
          "data": {
            "text/plain": [
              "7"
            ]
          },
          "metadata": {},
          "execution_count": 174
        }
      ],
      "source": [
        "#checking null values in gender column\n",
        "df3[\"GENDER\"].isnull().sum()"
      ]
    },
    {
      "cell_type": "markdown",
      "id": "93547841",
      "metadata": {
        "id": "93547841"
      },
      "source": [
        "**Observation:**\n",
        "\n",
        "GENDER is a categorical column containing 7 null values only.\n",
        "\n"
      ]
    },
    {
      "cell_type": "code",
      "execution_count": null,
      "id": "70fa74d9",
      "metadata": {
        "colab": {
          "base_uri": "https://localhost:8080/"
        },
        "id": "70fa74d9",
        "outputId": "b989d867-a6a5-4823-ffe3-ac73f50c3b80"
      },
      "outputs": [
        {
          "output_type": "execute_result",
          "data": {
            "text/plain": [
              "Ind_ID             0\n",
              "GENDER             7\n",
              "Car_Owner          0\n",
              "Propert_Owner      0\n",
              "Annual_income     23\n",
              "Type_Income        0\n",
              "EDUCATION          0\n",
              "Housing_type       0\n",
              "Birthday_count    22\n",
              "Employed_days      0\n",
              "Mobile_phone       0\n",
              "label              0\n",
              "dtype: int64"
            ]
          },
          "metadata": {},
          "execution_count": 175
        }
      ],
      "source": [
        "df3.isnull().sum()"
      ]
    },
    {
      "cell_type": "code",
      "execution_count": null,
      "id": "f93b98ee",
      "metadata": {
        "colab": {
          "base_uri": "https://localhost:8080/",
          "height": 489
        },
        "id": "f93b98ee",
        "outputId": "832aa166-82cb-4228-fa9c-22ab93581bf1"
      },
      "outputs": [
        {
          "output_type": "execute_result",
          "data": {
            "text/plain": [
              "<matplotlib.legend.Legend at 0x7f35ce872b90>"
            ]
          },
          "metadata": {},
          "execution_count": 176
        },
        {
          "output_type": "display_data",
          "data": {
            "text/plain": [
              "<Figure size 640x480 with 1 Axes>"
            ],
            "image/png": "[encoded data removed]"
          },
          "metadata": {}
        }
      ],
      "source": [
        "#plotting histogram for Annual income\n",
        "sns.histplot(data=df3,x=\"Annual_income\",bins=20,kde=True,color=\"red\")\n",
        "plt.axvline(x=df3.Annual_income.mean(),color='green',alpha=0.5,label='Mean') # adding vertical line as mean\n",
        "plt.axvline(x=df3.Annual_income.median(),c='green',ls='--',alpha=0.5,label='Median') # adding vertical line as median\n",
        "plt.title(\"Annual income\")\n",
        "plt.legend() # adding legend"
      ]
    },
    {
      "cell_type": "code",
      "execution_count": null,
      "id": "6f53e3a7",
      "metadata": {
        "colab": {
          "base_uri": "https://localhost:8080/",
          "height": 467
        },
        "id": "6f53e3a7",
        "outputId": "ae19b5b8-510c-4bf2-8b38-913fe4ff993b"
      },
      "outputs": [
        {
          "output_type": "execute_result",
          "data": {
            "text/plain": [
              "<Axes: xlabel='Annual_income'>"
            ]
          },
          "metadata": {},
          "execution_count": 177
        },
        {
          "output_type": "display_data",
          "data": {
            "text/plain": [
              "<Figure size 640x480 with 1 Axes>"
            ],
            "image/png": "[encoded data removed]"
          },
          "metadata": {}
        }
      ],
      "source": [
        "#plotting boxplot to check the outliers and distribution\n",
        "sns.boxplot(data=df3,x=\"Annual_income\")"
      ]
    },
    {
      "cell_type": "markdown",
      "id": "0c2193eb",
      "metadata": {
        "id": "0c2193eb"
      },
      "source": [
        "**OBSERVATION:** Annul_income contains outliers.so need to perform log transform"
      ]
    },
    {
      "cell_type": "code",
      "execution_count": null,
      "id": "1965233a",
      "metadata": {
        "id": "1965233a"
      },
      "outputs": [],
      "source": [
        "#performing log transformation to annual income\n",
        "df3[\"Annual_income_log\"]=np.log(df3[\"Annual_income\"])"
      ]
    },
    {
      "cell_type": "code",
      "execution_count": null,
      "id": "d1b776f1",
      "metadata": {
        "colab": {
          "base_uri": "https://localhost:8080/",
          "height": 467
        },
        "id": "d1b776f1",
        "outputId": "651d716e-314a-443f-c631-0bc866f60b82"
      },
      "outputs": [
        {
          "output_type": "execute_result",
          "data": {
            "text/plain": [
              "<Axes: xlabel='Annual_income_log'>"
            ]
          },
          "metadata": {},
          "execution_count": 179
        },
        {
          "output_type": "display_data",
          "data": {
            "text/plain": [
              "<Figure size 640x480 with 1 Axes>"
            ],
            "image/png": "[encoded data removed]"
          },
          "metadata": {}
        }
      ],
      "source": [
        "#plotting boxplot to see the distribution of Annual income log\n",
        "sns.boxplot(data=df3,x=\"Annual_income_log\")"
      ]
    },
    {
      "cell_type": "code",
      "execution_count": null,
      "id": "ecc33b19",
      "metadata": {
        "colab": {
          "base_uri": "https://localhost:8080/",
          "height": 489
        },
        "id": "ecc33b19",
        "outputId": "5656f369-f33f-4183-ede9-68376b62a8e4"
      },
      "outputs": [
        {
          "output_type": "execute_result",
          "data": {
            "text/plain": [
              "<matplotlib.legend.Legend at 0x7f35cd2d9ed0>"
            ]
          },
          "metadata": {},
          "execution_count": 180
        },
        {
          "output_type": "display_data",
          "data": {
            "text/plain": [
              "<Figure size 640x480 with 1 Axes>"
            ],
            "image/png": "[encoded data removed]"
          },
          "metadata": {}
        }
      ],
      "source": [
        "#creating histogram to see the districbution of the birthday count variable\n",
        "sns.histplot(data=df3,x=\"Birthday_count\",bins=10,kde=True,color=\"red\")\n",
        "plt.axvline(x=df3.Birthday_count.mean(),color='green',alpha=0.5,label='Mean') # adding vertical line as mean\n",
        "plt.axvline(x=df3.Birthday_count.median(),c='green',ls='--',alpha=0.5,label='Median') # adding vertical line as median\n",
        "plt.title(\"Birthday_count\")\n",
        "plt.legend() # adding legend"
      ]
    },
    {
      "cell_type": "markdown",
      "id": "95ff4e60",
      "metadata": {
        "id": "95ff4e60"
      },
      "source": [
        "**Observation:**\n",
        "\n",
        "As per the graph, the Annual income column is right-skewed.The number of people with highest Birthday count is between -12500 to -10000 and lowest count is between -10000 to -7500."
      ]
    },
    {
      "cell_type": "code",
      "execution_count": null,
      "id": "5f97e448",
      "metadata": {
        "colab": {
          "base_uri": "https://localhost:8080/",
          "height": 313
        },
        "id": "5f97e448",
        "outputId": "f644dff0-7d51-4a7e-846b-e60820c9118c"
      },
      "outputs": [
        {
          "output_type": "execute_result",
          "data": {
            "text/plain": [
              "                     Ind_ID  Annual_income  Birthday_count  Employed_days  \\\n",
              "Ind_ID             1.000000       0.030147        0.022909      -0.055396   \n",
              "Annual_income      0.030147       1.000000        0.111638      -0.160175   \n",
              "Birthday_count     0.022909       0.111638        1.000000      -0.619039   \n",
              "Employed_days     -0.055396      -0.160175       -0.619039       1.000000   \n",
              "Mobile_phone            NaN            NaN             NaN            NaN   \n",
              "label              0.016796       0.027456       -0.045097       0.031408   \n",
              "Annual_income_log  0.006085       0.896596        0.129279      -0.213121   \n",
              "\n",
              "                   Mobile_phone     label  Annual_income_log  \n",
              "Ind_ID                      NaN  0.016796           0.006085  \n",
              "Annual_income               NaN  0.027456           0.896596  \n",
              "Birthday_count              NaN -0.045097           0.129279  \n",
              "Employed_days               NaN  0.031408          -0.213121  \n",
              "Mobile_phone                NaN       NaN                NaN  \n",
              "label                       NaN  1.000000           0.020872  \n",
              "Annual_income_log           NaN  0.020872           1.000000  "
            ],
            "text/html": [
              "\n",
              "  <div id=\"df-d54b71c9-f01f-4ebc-ae2b-0fb3dfd4ea5d\">\n",
              "    <div class=\"colab-df-container\">\n",
              "      <div>\n",
              "<style scoped>\n",
              "    .dataframe tbody tr th:only-of-type {\n",
              "        vertical-align: middle;\n",
              "    }\n",
              "\n",
              "    .dataframe tbody tr th {\n",
              "        vertical-align: top;\n",
              "    }\n",
              "\n",
              "    .dataframe thead th {\n",
              "        text-align: right;\n",
              "    }\n",
              "</style>\n",
              "<table border=\"1\" class=\"dataframe\">\n",
              "  <thead>\n",
              "    <tr style=\"text-align: right;\">\n",
              "      <th></th>\n",
              "      <th>Ind_ID</th>\n",
              "      <th>Annual_income</th>\n",
              "      <th>Birthday_count</th>\n",
              "      <th>Employed_days</th>\n",
              "      <th>Mobile_phone</th>\n",
              "      <th>label</th>\n",
              "      <th>Annual_income_log</th>\n",
              "    </tr>\n",
              "  </thead>\n",
              "  <tbody>\n",
              "    <tr>\n",
              "      <th>Ind_ID</th>\n",
              "      <td>1.000000</td>\n",
              "      <td>0.030147</td>\n",
              "      <td>0.022909</td>\n",
              "      <td>-0.055396</td>\n",
              "      <td>NaN</td>\n",
              "      <td>0.016796</td>\n",
              "      <td>0.006085</td>\n",
              "    </tr>\n",
              "    <tr>\n",
              "      <th>Annual_income</th>\n",
              "      <td>0.030147</td>\n",
              "      <td>1.000000</td>\n",
              "      <td>0.111638</td>\n",
              "      <td>-0.160175</td>\n",
              "      <td>NaN</td>\n",
              "      <td>0.027456</td>\n",
              "      <td>0.896596</td>\n",
              "    </tr>\n",
              "    <tr>\n",
              "      <th>Birthday_count</th>\n",
              "      <td>0.022909</td>\n",
              "      <td>0.111638</td>\n",
              "      <td>1.000000</td>\n",
              "      <td>-0.619039</td>\n",
              "      <td>NaN</td>\n",
              "      <td>-0.045097</td>\n",
              "      <td>0.129279</td>\n",
              "    </tr>\n",
              "    <tr>\n",
              "      <th>Employed_days</th>\n",
              "      <td>-0.055396</td>\n",
              "      <td>-0.160175</td>\n",
              "      <td>-0.619039</td>\n",
              "      <td>1.000000</td>\n",
              "      <td>NaN</td>\n",
              "      <td>0.031408</td>\n",
              "      <td>-0.213121</td>\n",
              "    </tr>\n",
              "    <tr>\n",
              "      <th>Mobile_phone</th>\n",
              "      <td>NaN</td>\n",
              "      <td>NaN</td>\n",
              "      <td>NaN</td>\n",
              "      <td>NaN</td>\n",
              "      <td>NaN</td>\n",
              "      <td>NaN</td>\n",
              "      <td>NaN</td>\n",
              "    </tr>\n",
              "    <tr>\n",
              "      <th>label</th>\n",
              "      <td>0.016796</td>\n",
              "      <td>0.027456</td>\n",
              "      <td>-0.045097</td>\n",
              "      <td>0.031408</td>\n",
              "      <td>NaN</td>\n",
              "      <td>1.000000</td>\n",
              "      <td>0.020872</td>\n",
              "    </tr>\n",
              "    <tr>\n",
              "      <th>Annual_income_log</th>\n",
              "      <td>0.006085</td>\n",
              "      <td>0.896596</td>\n",
              "      <td>0.129279</td>\n",
              "      <td>-0.213121</td>\n",
              "      <td>NaN</td>\n",
              "      <td>0.020872</td>\n",
              "      <td>1.000000</td>\n",
              "    </tr>\n",
              "  </tbody>\n",
              "</table>\n",
              "</div>\n",
              "      <button class=\"colab-df-convert\" onclick=\"convertToInteractive('df-d54b71c9-f01f-4ebc-ae2b-0fb3dfd4ea5d')\"\n",
              "              title=\"Convert this dataframe to an interactive table.\"\n",
              "              style=\"display:none;\">\n",
              "        \n",
              "  <svg xmlns=\"http://www.w3.org/2000/svg\" height=\"24px\"viewBox=\"0 0 24 24\"\n",
              "       width=\"24px\">\n",
              "    <path d=\"M0 0h24v24H0V0z\" fill=\"none\"/>\n",
              "    <path d=\"M18.56 5.44l.94 2.06.94-2.06 2.06-.94-2.06-.94-.94-2.06-.94 2.06-2.06.94zm-11 1L8.5 8.5l.94-2.06 2.06-.94-2.06-.94L8.5 2.5l-.94 2.06-2.06.94zm10 10l.94 2.06.94-2.06 2.06-.94-2.06-.94-.94-2.06-.94 2.06-2.06.94z\"/><path d=\"M17.41 7.96l-1.37-1.37c-.4-.4-.92-.59-1.43-.59-.52 0-1.04.2-1.43.59L10.3 9.45l-7.72 7.72c-.78.78-.78 2.05 0 2.83L4 21.41c.39.39.9.59 1.41.59.51 0 1.02-.2 1.41-.59l7.78-7.78 2.81-2.81c.8-.78.8-2.07 0-2.86zM5.41 20L4 18.59l7.72-7.72 1.47 1.35L5.41 20z\"/>\n",
              "  </svg>\n",
              "      </button>\n",
              "      \n",
              "  <style>\n",
              "    .colab-df-container {\n",
              "      display:flex;\n",
              "      flex-wrap:wrap;\n",
              "      gap: 12px;\n",
              "    }\n",
              "\n",
              "    .colab-df-convert {\n",
              "      background-color: #E8F0FE;\n",
              "      border: none;\n",
              "      border-radius: 50%;\n",
              "      cursor: pointer;\n",
              "      display: none;\n",
              "      fill: #1967D2;\n",
              "      height: 32px;\n",
              "      padding: 0 0 0 0;\n",
              "      width: 32px;\n",
              "    }\n",
              "\n",
              "    .colab-df-convert:hover {\n",
              "      background-color: #E2EBFA;\n",
              "      box-shadow: 0px 1px 2px rgba(60, 64, 67, 0.3), 0px 1px 3px 1px rgba(60, 64, 67, 0.15);\n",
              "      fill: #174EA6;\n",
              "    }\n",
              "\n",
              "    [theme=dark] .colab-df-convert {\n",
              "      background-color: #3B4455;\n",
              "      fill: #D2E3FC;\n",
              "    }\n",
              "\n",
              "    [theme=dark] .colab-df-convert:hover {\n",
              "      background-color: #434B5C;\n",
              "      box-shadow: 0px 1px 3px 1px rgba(0, 0, 0, 0.15);\n",
              "      filter: drop-shadow(0px 1px 2px rgba(0, 0, 0, 0.3));\n",
              "      fill: #FFFFFF;\n",
              "    }\n",
              "  </style>\n",
              "\n",
              "      <script>\n",
              "        const buttonEl =\n",
              "          document.querySelector('#df-d54b71c9-f01f-4ebc-ae2b-0fb3dfd4ea5d button.colab-df-convert');\n",
              "        buttonEl.style.display =\n",
              "          google.colab.kernel.accessAllowed ? 'block' : 'none';\n",
              "\n",
              "        async function convertToInteractive(key) {\n",
              "          const element = document.querySelector('#df-d54b71c9-f01f-4ebc-ae2b-0fb3dfd4ea5d');\n",
              "          const dataTable =\n",
              "            await google.colab.kernel.invokeFunction('convertToInteractive',\n",
              "                                                     [key], {});\n",
              "          if (!dataTable) return;\n",
              "\n",
              "          const docLinkHtml = 'Like what you see? Visit the ' +\n",
              "            '<a target=\"_blank\" href=https://colab.research.google.com/notebooks/data_table.ipynb>data table notebook</a>'\n",
              "            + ' to learn more about interactive tables.';\n",
              "          element.innerHTML = '';\n",
              "          dataTable['output_type'] = 'display_data';\n",
              "          await google.colab.output.renderOutput(dataTable, element);\n",
              "          const docLink = document.createElement('div');\n",
              "          docLink.innerHTML = docLinkHtml;\n",
              "          element.appendChild(docLink);\n",
              "        }\n",
              "      </script>\n",
              "    </div>\n",
              "  </div>\n",
              "  "
            ]
          },
          "metadata": {},
          "execution_count": 181
        }
      ],
      "source": [
        "#checking correlation between variables\n",
        "df3.corr()"
      ]
    },
    {
      "cell_type": "code",
      "execution_count": null,
      "id": "5be374c7",
      "metadata": {
        "colab": {
          "base_uri": "https://localhost:8080/",
          "height": 390
        },
        "id": "5be374c7",
        "outputId": "5221417d-25a2-49d0-e3aa-871f969a32e6"
      },
      "outputs": [
        {
          "output_type": "display_data",
          "data": {
            "text/plain": [
              "<Figure size 1600x600 with 2 Axes>"
            ],
            "image/png": "[encoded data removed]"
          },
          "metadata": {}
        }
      ],
      "source": [
        "#plotting heatmap to check the relation between the variables\n",
        "plt.figure(figsize=(16, 6))\n",
        "heatmap = sns.heatmap(df3.corr(), vmin=-1, vmax=1, annot=True)"
      ]
    },
    {
      "cell_type": "markdown",
      "id": "b5901ca9",
      "metadata": {
        "id": "b5901ca9"
      },
      "source": [
        "**Obervation:**\n",
        "Birth count and employed days have a negative linear relationship means if birth count increases, employed days decrease."
      ]
    },
    {
      "cell_type": "code",
      "execution_count": null,
      "id": "9723a857",
      "metadata": {
        "colab": {
          "base_uri": "https://localhost:8080/",
          "height": 524
        },
        "id": "9723a857",
        "outputId": "545203be-a8d0-4cbf-d0d3-83369f4c35e4"
      },
      "outputs": [
        {
          "output_type": "stream",
          "name": "stdout",
          "text": [
            "F    973\n",
            "M    568\n",
            "Name: GENDER, dtype: int64\n"
          ]
        },
        {
          "output_type": "display_data",
          "data": {
            "text/plain": [
              "<Figure size 640x480 with 1 Axes>"
            ],
            "image/png": "[encoded data removed]"
          },
          "metadata": {}
        }
      ],
      "source": [
        "print(df3[\"GENDER\"].value_counts())\n",
        "sns.countplot(data=df3, x=\"GENDER\", hue=\"label\")\n",
        "plt.title(\"Comparing the gender ratio in approval category\")\n",
        "plt.xlabel(\"Sex\")\n",
        "plt.ylabel(\"Count\")\n",
        "plt.show()"
      ]
    },
    {
      "cell_type": "markdown",
      "id": "6dfce395",
      "metadata": {
        "id": "6dfce395"
      },
      "source": [
        "**Observation:**\n",
        "Females are applying for credit cards more than males. Female applications are approved more than male applications."
      ]
    },
    {
      "cell_type": "code",
      "execution_count": null,
      "id": "9263fb67",
      "metadata": {
        "colab": {
          "base_uri": "https://localhost:8080/"
        },
        "id": "9263fb67",
        "outputId": "928f7490-69a7-43f7-e4cb-3cdf099ad67c"
      },
      "outputs": [
        {
          "output_type": "execute_result",
          "data": {
            "text/plain": [
              "Index(['Ind_ID', 'GENDER', 'Car_Owner', 'Propert_Owner', 'Annual_income',\n",
              "       'Type_Income', 'EDUCATION', 'Housing_type', 'Birthday_count',\n",
              "       'Employed_days', 'Mobile_phone', 'label', 'Annual_income_log'],\n",
              "      dtype='object')"
            ]
          },
          "metadata": {},
          "execution_count": 184
        }
      ],
      "source": [
        "#cheking column names\n",
        "df3.columns"
      ]
    },
    {
      "cell_type": "code",
      "execution_count": null,
      "id": "4131b9ec",
      "metadata": {
        "colab": {
          "base_uri": "https://localhost:8080/",
          "height": 575
        },
        "id": "4131b9ec",
        "outputId": "781b0c1b-aedd-4c49-a8e1-753093790e53"
      },
      "outputs": [
        {
          "output_type": "stream",
          "name": "stdout",
          "text": [
            "0    1373\n",
            "1     175\n",
            "Name: label, dtype: int64\n"
          ]
        },
        {
          "output_type": "execute_result",
          "data": {
            "text/plain": [
              "<seaborn.axisgrid.FacetGrid at 0x7f35cd1b2950>"
            ]
          },
          "metadata": {},
          "execution_count": 185
        },
        {
          "output_type": "display_data",
          "data": {
            "text/plain": [
              "<Figure size 570.111x500 with 1 Axes>"
            ],
            "image/png": "[encoded data removed]"
          },
          "metadata": {}
        }
      ],
      "source": [
        "print(df3[\"label\"].value_counts())\n",
        "sns.catplot(data=df3, x=\"Car_Owner\",y=\"label\",hue=\"GENDER\", kind=\"bar\")"
      ]
    },
    {
      "cell_type": "markdown",
      "id": "16b357c4",
      "metadata": {
        "id": "16b357c4"
      },
      "source": [
        "**Observation:** Males own cars more than females. Males without cars got more rejections. Females with cars and without cars got an equal number of rejections and approvals."
      ]
    },
    {
      "cell_type": "code",
      "execution_count": null,
      "id": "432cd7d7",
      "metadata": {
        "colab": {
          "base_uri": "https://localhost:8080/",
          "height": 575
        },
        "id": "432cd7d7",
        "outputId": "14a93442-92e6-45d7-b2a0-a42fad586f4d"
      },
      "outputs": [
        {
          "output_type": "stream",
          "name": "stdout",
          "text": [
            "0    1373\n",
            "1     175\n",
            "Name: label, dtype: int64\n"
          ]
        },
        {
          "output_type": "execute_result",
          "data": {
            "text/plain": [
              "<seaborn.axisgrid.FacetGrid at 0x7f35cd0e0340>"
            ]
          },
          "metadata": {},
          "execution_count": 186
        },
        {
          "output_type": "display_data",
          "data": {
            "text/plain": [
              "<Figure size 570.111x500 with 1 Axes>"
            ],
            "image/png": "[encoded data removed]"
          },
          "metadata": {}
        }
      ],
      "source": [
        "print(df3[\"label\"].value_counts())\n",
        "sns.catplot(data=df3, x=\"Propert_Owner\",y=\"label\",hue=\"GENDER\", kind=\"bar\")\n"
      ]
    },
    {
      "cell_type": "markdown",
      "id": "ac50102c",
      "metadata": {
        "id": "ac50102c"
      },
      "source": [
        "**Observation:**\n",
        "Males with no property are higher than females in the dataset."
      ]
    },
    {
      "cell_type": "code",
      "execution_count": null,
      "id": "a44b0586",
      "metadata": {
        "colab": {
          "base_uri": "https://localhost:8080/",
          "height": 594
        },
        "id": "a44b0586",
        "outputId": "584a62ff-d6f0-4ec9-ab8e-5f3f15f47ce8"
      },
      "outputs": [
        {
          "output_type": "stream",
          "name": "stdout",
          "text": [
            "F    973\n",
            "M    568\n",
            "Name: GENDER, dtype: int64\n"
          ]
        },
        {
          "output_type": "display_data",
          "data": {
            "text/html": [
              "<html>\n",
              "<head><meta charset=\"utf-8\" /></head>\n",
              "<body>\n",
              "    <div>            <script src=\"https://cdnjs.cloudflare.com/ajax/libs/mathjax/2.7.5/MathJax.js?config=TeX-AMS-MML_SVG\"></script><script type=\"text/javascript\">if (window.MathJax && window.MathJax.Hub && window.MathJax.Hub.Config) {window.MathJax.Hub.Config({SVG: {font: \"STIX-Web\"}});}</script>                <script type=\"text/javascript\">window.PlotlyConfig = {MathJaxConfig: 'local'};</script>\n",
              "        <script src=\"https://cdn.plot.ly/plotly-2.18.2.min.js\"></script>                <div id=\"f89bf6ce-728b-4012-9cc7-63fa29d0675b\" class=\"plotly-graph-div\" style=\"height:525px; width:100%;\"></div>            <script type=\"text/javascript\">                                    window.PLOTLYENV=window.PLOTLYENV || {};                                    if (document.getElementById(\"f89bf6ce-728b-4012-9cc7-63fa29d0675b\")) {                    Plotly.newPlot(                        \"f89bf6ce-728b-4012-9cc7-63fa29d0675b\",                        [{\"alignmentgroup\":\"True\",\"bingroup\":\"x\",\"hovertemplate\":\"GENDER=M<br>Annual_income=%{x}<br>count=%{y}<extra></extra>\",\"legendgroup\":\"M\",\"marker\":{\"color\":\"blue\",\"pattern\":{\"shape\":\"\"}},\"name\":\"M\",\"offsetgroup\":\"M\",\"orientation\":\"v\",\"showlegend\":true,\"x\":[180000.0,450000.0,450000.0,450000.0,472500.0,270000.0,270000.0,90000.0,202500.0,202500.0,157500.0,540000.0,180000.0,112500.0,292500.0,215100.0,450000.0,180000.0,180000.0,157500.0,157500.0,171000.0,135000.0,135000.0,225000.0,225000.0,225000.0,157500.0,157500.0,99000.0,391500.0,391500.0,391500.0,65250.0,72900.0,180000.0,null,157500.0,202500.0,202500.0,202500.0,315000.0,126000.0,135000.0,135000.0,247500.0,85500.0,180000.0,225000.0,null,225000.0,130500.0,130500.0,126000.0,126000.0,211500.0,112500.0,270000.0,135000.0,112500.0,112500.0,112500.0,195750.0,null,450000.0,450000.0,112500.0,112500.0,216000.0,225000.0,108000.0,108000.0,450000.0,450000.0,315000.0,225000.0,180000.0,256500.0,126000.0,90000.0,131400.0,180000.0,445500.0,157500.0,112500.0,234000.0,247500.0,180000.0,180000.0,225000.0,270000.0,270000.0,135000.0,157500.0,202500.0,900000.0,270000.0,270000.0,292500.0,180000.0,360000.0,202500.0,337500.0,360000.0,337500.0,270000.0,292500.0,225000.0,81000.0,315000.0,306000.0,234000.0,171000.0,180000.0,85500.0,135000.0,157500.0,180000.0,180000.0,270000.0,270000.0,202500.0,315000.0,135000.0,153000.0,157500.0,112500.0,315000.0,450000.0,225000.0,270000.0,247500.0,85500.0,202500.0,null,450000.0,495000.0,180000.0,306000.0,112500.0,292500.0,315000.0,270000.0,157500.0,157500.0,427500.0,135000.0,252000.0,247500.0,180000.0,null,202500.0,247500.0,99000.0,247500.0,202500.0,126000.0,225000.0,157500.0,157500.0,270000.0,202500.0,103500.0,135000.0,135000.0,231750.0,247500.0,117000.0,112500.0,135000.0,157500.0,null,90900.0,126000.0,202500.0,270000.0,162000.0,270000.0,270000.0,202500.0,148500.0,360000.0,225000.0,202500.0,225000.0,112500.0,202500.0,328500.0,112500.0,202500.0,135000.0,157500.0,157500.0,90000.0,198000.0,225000.0,72000.0,202500.0,157500.0,112500.0,450000.0,180000.0,157500.0,225000.0,225000.0,157500.0,360000.0,450000.0,315000.0,157500.0,225000.0,292500.0,112500.0,585000.0,112500.0,180000.0,135000.0,270000.0,157500.0,121500.0,135000.0,225000.0,225000.0,112500.0,202500.0,315000.0,180000.0,495000.0,112500.0,180000.0,81000.0,225000.0,202500.0,180000.0,225000.0,225000.0,225000.0,225000.0,202500.0,247500.0,225000.0,112500.0,112500.0,225000.0,225000.0,135000.0,450000.0,900000.0,337500.0,90000.0,157500.0,270000.0,135000.0,112500.0,225000.0,180000.0,315000.0,112500.0,180000.0,112500.0,135000.0,360000.0,135000.0,270000.0,null,180000.0,315000.0,108000.0,90000.0,292500.0,202500.0,225000.0,180000.0,360000.0,157500.0,225000.0,270000.0,207000.0,180000.0,202500.0,202500.0,180000.0,157500.0,225000.0,90000.0,135000.0,67500.0,202500.0,292500.0,180000.0,450000.0,180000.0,202500.0,135000.0,202500.0,126000.0,337500.0,193500.0,180000.0,180000.0,157500.0,315000.0,99000.0,900000.0,270000.0,202500.0,135000.0,292500.0,202500.0,180000.0,180000.0,67500.0,202500.0,180000.0,135000.0,135000.0,360000.0,112500.0,157500.0,247500.0,112500.0,360000.0,360000.0,135000.0,180000.0,225000.0,247500.0,405000.0,270000.0,180000.0,112500.0,337500.0,202500.0,81000.0,180000.0,292500.0,225000.0,166500.0,445500.0,450000.0,148500.0,144000.0,135000.0,360000.0,157500.0,135000.0,126000.0,135000.0,337500.0,112500.0,135000.0,301500.0,90000.0,292500.0,189000.0,157500.0,180000.0,180000.0,450000.0,315000.0,360000.0,292500.0,360000.0,225000.0,337500.0,225000.0,225000.0,351000.0,202500.0,270000.0,157500.0,157500.0,180000.0,306000.0,292500.0,225000.0,189000.0,247500.0,180000.0,450000.0,261000.0,225000.0,135000.0,180000.0,135000.0,202500.0,157500.0,135000.0,180000.0,121500.0,112500.0,270000.0,360000.0,116100.0,225000.0,450000.0,225000.0,297000.0,202500.0,180000.0,202500.0,360000.0,112500.0,900000.0,112500.0,261000.0,121500.0,225000.0,157500.0,81000.0,315000.0,225000.0,157500.0,162000.0,315000.0,157500.0,202500.0,450000.0,157500.0,225000.0,418500.0,225000.0,135000.0,180000.0,315000.0,247500.0,360000.0,112500.0,225000.0,173250.0,148500.0,315000.0,225000.0,216000.0,211500.0,202500.0,166500.0,148500.0,360000.0,270000.0,450000.0,270000.0,72000.0,292500.0,360000.0,198000.0,202500.0,90000.0,135000.0,225000.0,157500.0,225000.0,135000.0,405000.0,270000.0,90000.0,135000.0,202500.0,247500.0,360000.0,193500.0,360000.0,157500.0,180000.0,225000.0,292500.0,180000.0,225000.0,360000.0,180000.0,247500.0,135000.0,null,202500.0,112500.0,135000.0,144000.0,315000.0,202500.0,270000.0,292500.0,405000.0,180000.0,202500.0,225000.0,202500.0,85500.0,135000.0,225000.0,225000.0,225000.0,135000.0,90000.0,495000.0,135000.0,360000.0,225000.0,450000.0,225000.0,225000.0,225000.0,810000.0,157500.0,270000.0,112500.0,67500.0,135000.0,337500.0,180000.0,null,315000.0,112500.0,202500.0,112500.0,270000.0,247500.0,360000.0,247500.0,315000.0,337500.0,135000.0,450000.0,135000.0,180000.0,135000.0,270000.0,202500.0,202500.0,247500.0,67500.0,112500.0,180000.0,405000.0,247500.0,337500.0,83250.0,202500.0,450000.0,135000.0,225000.0,157500.0,270000.0,114750.0,225000.0,90000.0,112500.0,202500.0,180000.0,180000.0,157500.0,225000.0,157500.0,198000.0,157500.0,157500.0,270000.0,135000.0,112500.0,148500.0,225000.0,126000.0,157500.0,270000.0,180000.0,225000.0,360000.0,180000.0,270000.0],\"xaxis\":\"x\",\"yaxis\":\"y\",\"type\":\"histogram\"},{\"alignmentgroup\":\"True\",\"bingroup\":\"x\",\"hovertemplate\":\"GENDER=F<br>Annual_income=%{x}<br>count=%{y}<extra></extra>\",\"legendgroup\":\"F\",\"marker\":{\"color\":\"red\",\"pattern\":{\"shape\":\"\"}},\"name\":\"F\",\"offsetgroup\":\"F\",\"orientation\":\"v\",\"showlegend\":true,\"x\":[315000.0,315000.0,null,315000.0,315000.0,180000.0,90000.0,null,90000.0,126000.0,126000.0,112500.0,180000.0,540000.0,112500.0,null,90000.0,112500.0,135000.0,135000.0,76500.0,270000.0,225000.0,225000.0,225000.0,157500.0,157500.0,67500.0,103500.0,103500.0,180000.0,180000.0,180000.0,99000.0,null,99000.0,225000.0,67500.0,202500.0,157500.0,202500.0,270000.0,135000.0,256500.0,256500.0,225000.0,180000.0,180000.0,225000.0,675000.0,103500.0,135000.0,135000.0,180000.0,121500.0,135000.0,67500.0,135000.0,202500.0,202500.0,202500.0,202500.0,202500.0,180000.0,180000.0,180000.0,180000.0,null,157500.0,81000.0,81000.0,112500.0,112500.0,112500.0,112500.0,72000.0,202500.0,148500.0,135000.0,135000.0,135000.0,135000.0,135000.0,585000.0,585000.0,67500.0,67500.0,67500.0,306000.0,90000.0,108000.0,135000.0,135000.0,157500.0,157500.0,81000.0,180000.0,135000.0,135000.0,63000.0,135000.0,112500.0,112500.0,45000.0,null,202500.0,90000.0,180000.0,90000.0,135000.0,126000.0,337500.0,247500.0,121500.0,117000.0,90000.0,180000.0,157500.0,117000.0,1575000.0,144000.0,null,216000.0,90000.0,171000.0,225000.0,67050.0,73350.0,112500.0,144000.0,225000.0,112500.0,292500.0,1575000.0,157500.0,157500.0,135000.0,112500.0,193500.0,108000.0,292500.0,292500.0,157500.0,76500.0,157500.0,135000.0,112500.0,157500.0,225000.0,112500.0,121500.0,112500.0,135000.0,103500.0,157500.0,180000.0,112500.0,157500.0,135000.0,135000.0,360000.0,null,450000.0,270000.0,270000.0,450000.0,157500.0,112500.0,112500.0,247500.0,157500.0,94500.0,180000.0,198000.0,180000.0,67500.0,180000.0,202500.0,112500.0,90000.0,270000.0,270000.0,225000.0,94500.0,117000.0,202500.0,54000.0,112500.0,166500.0,247500.0,72000.0,202500.0,202500.0,360000.0,270000.0,112500.0,null,157500.0,99000.0,162000.0,225000.0,225000.0,72000.0,135000.0,167400.0,180000.0,99000.0,225000.0,423000.0,90000.0,360000.0,247500.0,225000.0,67500.0,112500.0,90000.0,90000.0,225000.0,112500.0,135000.0,90000.0,270000.0,180000.0,135000.0,243000.0,112500.0,234000.0,180000.0,121500.0,121500.0,180000.0,90000.0,135000.0,76500.0,157500.0,225000.0,225000.0,540000.0,283500.0,90000.0,252000.0,135000.0,315000.0,180000.0,270000.0,157500.0,180000.0,612000.0,36000.0,180000.0,202500.0,292500.0,135000.0,337500.0,157500.0,360000.0,135000.0,139500.0,135000.0,133650.0,81000.0,225000.0,126000.0,94500.0,180000.0,157500.0,202500.0,117000.0,180000.0,180000.0,157500.0,135000.0,90000.0,90000.0,121500.0,157500.0,121500.0,135000.0,180000.0,144000.0,261000.0,135000.0,157500.0,112500.0,202500.0,135000.0,135000.0,112500.0,135000.0,103500.0,315000.0,180000.0,247500.0,157500.0,315000.0,247500.0,247500.0,166500.0,112500.0,112500.0,45900.0,103500.0,119250.0,157500.0,112500.0,315000.0,112500.0,58500.0,94500.0,270000.0,99000.0,315000.0,157500.0,180000.0,211500.0,180000.0,144000.0,144000.0,270000.0,157500.0,90000.0,148500.0,99000.0,315000.0,162000.0,202500.0,225000.0,612000.0,292500.0,67500.0,157500.0,135000.0,67500.0,144000.0,90000.0,112500.0,112500.0,135000.0,112500.0,112500.0,202500.0,270000.0,193500.0,103500.0,202500.0,247500.0,225000.0,108000.0,787500.0,202500.0,90000.0,null,90000.0,72000.0,216000.0,157500.0,315000.0,594000.0,135000.0,180000.0,234000.0,99000.0,198000.0,90000.0,247500.0,157500.0,112500.0,180000.0,225000.0,225000.0,135000.0,112500.0,112500.0,117000.0,135000.0,243000.0,157500.0,337500.0,103500.0,99000.0,67500.0,112500.0,270000.0,135000.0,225000.0,85500.0,135000.0,119700.0,153000.0,216000.0,202500.0,90000.0,108000.0,270000.0,76500.0,69372.0,135000.0,117000.0,202500.0,126000.0,135000.0,225000.0,157500.0,90000.0,157500.0,103500.0,37800.0,135000.0,157500.0,135000.0,157500.0,387000.0,126000.0,135000.0,202500.0,157500.0,135000.0,207000.0,270000.0,315000.0,315000.0,112500.0,121500.0,225000.0,157500.0,225000.0,135000.0,270000.0,202500.0,112500.0,157500.0,202500.0,135000.0,94500.0,112500.0,270000.0,54000.0,189000.0,135000.0,157500.0,121500.0,121500.0,225000.0,180000.0,90000.0,90000.0,45000.0,99000.0,157500.0,112500.0,180000.0,225000.0,157500.0,135000.0,315000.0,225000.0,333000.0,171000.0,130500.0,112500.0,126000.0,135000.0,112500.0,105750.0,135000.0,90000.0,112500.0,180000.0,67500.0,202500.0,144000.0,126000.0,202500.0,103500.0,135000.0,382500.0,270000.0,225000.0,135000.0,76500.0,90000.0,157500.0,306000.0,90000.0,135000.0,193500.0,270000.0,112500.0,180000.0,139500.0,112500.0,193500.0,112500.0,157500.0,180000.0,315000.0,90000.0,112500.0,135000.0,112500.0,135000.0,112500.0,180000.0,141750.0,180000.0,112500.0,225000.0,270000.0,202500.0,99000.0,306000.0,148500.0,135000.0,180000.0,157500.0,247500.0,112500.0,103500.0,198000.0,135000.0,315000.0,292500.0,148500.0,202500.0,90000.0,135000.0,261000.0,135000.0,112500.0,135000.0,171000.0,40500.0,130500.0,306000.0,202500.0,112500.0,90000.0,153000.0,135000.0,180000.0,112500.0,90000.0,67500.0,315000.0,157500.0,166500.0,135000.0,135000.0,193500.0,315000.0,405000.0,90000.0,243000.0,135000.0,117000.0,202500.0,270000.0,135000.0,216000.0,135000.0,225000.0,157500.0,157500.0,180000.0,45000.0,315000.0,180000.0,90000.0,null,135000.0,90000.0,292500.0,112500.0,216000.0,189000.0,44550.0,112500.0,157500.0,135000.0,112500.0,67500.0,315000.0,117000.0,157500.0,67500.0,202500.0,225000.0,112500.0,202500.0,225000.0,157500.0,112500.0,81000.0,90000.0,180000.0,94500.0,180000.0,54000.0,112500.0,157500.0,180000.0,225000.0,112500.0,126000.0,135000.0,270000.0,157500.0,216000.0,108000.0,180000.0,180000.0,135000.0,180000.0,112500.0,270000.0,270000.0,270000.0,135000.0,189000.0,144000.0,67500.0,247500.0,157500.0,315000.0,99000.0,351000.0,175500.0,157500.0,58500.0,null,247500.0,90000.0,148500.0,180000.0,121900.5,112500.0,180000.0,225000.0,225000.0,135000.0,157500.0,238500.0,180000.0,112500.0,171000.0,33750.0,135000.0,135000.0,67500.0,153000.0,180000.0,405000.0,112500.0,157500.0,202500.0,315000.0,121500.0,112500.0,135000.0,202500.0,94500.0,630000.0,202500.0,360000.0,247500.0,360000.0,126000.0,225000.0,135000.0,112500.0,40500.0,157500.0,67500.0,315000.0,270000.0,180000.0,157500.0,252000.0,270000.0,270000.0,202500.0,180000.0,112500.0,135000.0,225000.0,112500.0,162000.0,270000.0,90000.0,67500.0,135000.0,135000.0,157500.0,180000.0,360000.0,135000.0,112500.0,225000.0,202500.0,315000.0,112500.0,83250.0,261000.0,135000.0,225000.0,270000.0,112500.0,135000.0,157500.0,76500.0,157500.0,90000.0,112500.0,112500.0,72000.0,135000.0,157500.0,67500.0,135000.0,207000.0,112500.0,112500.0,202500.0,67500.0,67500.0,306000.0,90000.0,112500.0,67500.0,180000.0,315000.0,247500.0,81000.0,171000.0,135000.0,135000.0,202500.0,315000.0,405000.0,225000.0,166500.0,73350.0,103500.0,202500.0,76500.0,126000.0,211500.0,112500.0,135000.0,112500.0,247500.0,225000.0,135000.0,67500.0,193500.0,135000.0,135000.0,180000.0,112500.0,67500.0,306000.0,153000.0,171000.0,112500.0,112500.0,292500.0,315000.0,135000.0,180000.0,292500.0,135000.0,225000.0,135000.0,180000.0,274500.0,225000.0,126000.0,54000.0,76500.0,112500.0,81000.0,135000.0,99000.0,67500.0,58500.0,135000.0,135000.0,180000.0,112500.0,144000.0,81000.0,193500.0,292500.0,157500.0,135000.0,180000.0,112500.0,112500.0,76500.0,193500.0,180000.0,115200.0,56250.0,157500.0,135000.0,202500.0,157500.0,null,157500.0,270000.0,157500.0,360000.0,90000.0,90000.0,112500.0,202500.0,202500.0,108000.0,225000.0,180000.0,112500.0,90000.0,103500.0,72000.0,135000.0,135000.0,135000.0,81000.0,90000.0,360000.0,202500.0,202500.0,95850.0,112500.0,126000.0,99000.0,112500.0,180000.0,202500.0,180000.0,135000.0,315000.0,387000.0,45000.0,185400.0,76500.0,225000.0,126000.0,135000.0,90000.0,180000.0,112500.0,135000.0,103500.0,130500.0,90000.0,157500.0,202500.0,189000.0,180000.0,135000.0,166500.0,90000.0,90000.0,157500.0,112500.0,112500.0,135000.0,135000.0,135000.0,126000.0,247500.0,184500.0,165600.0,112500.0,72000.0,202500.0,391500.0,157500.0,112500.0,270000.0,189000.0,157500.0,405000.0,157500.0,130500.0,135000.0,90000.0,67500.0,135000.0,157500.0,135000.0,126000.0,180000.0,112500.0,247500.0,112500.0,67500.0,337500.0,112500.0,157500.0,292500.0,180000.0,180000.0,202500.0,112500.0,81000.0,135000.0,247500.0,225000.0,157500.0,216000.0,135000.0,180000.0,130500.0,99000.0,247500.0,225000.0,171000.0,180000.0,315000.0,247500.0,180000.0,216000.0,99000.0,47250.0,49500.0,135000.0,225000.0,450000.0,180000.0,103500.0,135000.0,225000.0,270000.0,270000.0,108000.0,225000.0,405000.0,216000.0,135000.0,112500.0,135000.0,157500.0,45000.0,234000.0,157500.0,207000.0,198000.0,157500.0,180000.0,216000.0,112500.0,94500.0,69750.0,103500.0,112500.0,67500.0,112500.0,126000.0,175500.0,126000.0,180000.0,157500.0,144000.0,112500.0,450000.0,180000.0,144000.0,225000.0,null,225000.0,225000.0],\"xaxis\":\"x\",\"yaxis\":\"y\",\"type\":\"histogram\"}],                        {\"template\":{\"data\":{\"histogram2dcontour\":[{\"type\":\"histogram2dcontour\",\"colorbar\":{\"outlinewidth\":0,\"ticks\":\"\"},\"colorscale\":[[0.0,\"#0d0887\"],[0.1111111111111111,\"#46039f\"],[0.2222222222222222,\"#7201a8\"],[0.3333333333333333,\"#9c179e\"],[0.4444444444444444,\"#bd3786\"],[0.5555555555555556,\"#d8576b\"],[0.6666666666666666,\"#ed7953\"],[0.7777777777777778,\"#fb9f3a\"],[0.8888888888888888,\"#fdca26\"],[1.0,\"#f0f921\"]]}],\"choropleth\":[{\"type\":\"choropleth\",\"colorbar\":{\"outlinewidth\":0,\"ticks\":\"\"}}],\"histogram2d\":[{\"type\":\"histogram2d\",\"colorbar\":{\"outlinewidth\":0,\"ticks\":\"\"},\"colorscale\":[[0.0,\"#0d0887\"],[0.1111111111111111,\"#46039f\"],[0.2222222222222222,\"#7201a8\"],[0.3333333333333333,\"#9c179e\"],[0.4444444444444444,\"#bd3786\"],[0.5555555555555556,\"#d8576b\"],[0.6666666666666666,\"#ed7953\"],[0.7777777777777778,\"#fb9f3a\"],[0.8888888888888888,\"#fdca26\"],[1.0,\"#f0f921\"]]}],\"heatmap\":[{\"type\":\"heatmap\",\"colorbar\":{\"outlinewidth\":0,\"ticks\":\"\"},\"colorscale\":[[0.0,\"#0d0887\"],[0.1111111111111111,\"#46039f\"],[0.2222222222222222,\"#7201a8\"],[0.3333333333333333,\"#9c179e\"],[0.4444444444444444,\"#bd3786\"],[0.5555555555555556,\"#d8576b\"],[0.6666666666666666,\"#ed7953\"],[0.7777777777777778,\"#fb9f3a\"],[0.8888888888888888,\"#fdca26\"],[1.0,\"#f0f921\"]]}],\"heatmapgl\":[{\"type\":\"heatmapgl\",\"colorbar\":{\"outlinewidth\":0,\"ticks\":\"\"},\"colorscale\":[[0.0,\"#0d0887\"],[0.1111111111111111,\"#46039f\"],[0.2222222222222222,\"#7201a8\"],[0.3333333333333333,\"#9c179e\"],[0.4444444444444444,\"#bd3786\"],[0.5555555555555556,\"#d8576b\"],[0.6666666666666666,\"#ed7953\"],[0.7777777777777778,\"#fb9f3a\"],[0.8888888888888888,\"#fdca26\"],[1.0,\"#f0f921\"]]}],\"contourcarpet\":[{\"type\":\"contourcarpet\",\"colorbar\":{\"outlinewidth\":0,\"ticks\":\"\"}}],\"contour\":[{\"type\":\"contour\",\"colorbar\":{\"outlinewidth\":0,\"ticks\":\"\"},\"colorscale\":[[0.0,\"#0d0887\"],[0.1111111111111111,\"#46039f\"],[0.2222222222222222,\"#7201a8\"],[0.3333333333333333,\"#9c179e\"],[0.4444444444444444,\"#bd3786\"],[0.5555555555555556,\"#d8576b\"],[0.6666666666666666,\"#ed7953\"],[0.7777777777777778,\"#fb9f3a\"],[0.8888888888888888,\"#fdca26\"],[1.0,\"#f0f921\"]]}],\"surface\":[{\"type\":\"surface\",\"colorbar\":{\"outlinewidth\":0,\"ticks\":\"\"},\"colorscale\":[[0.0,\"#0d0887\"],[0.1111111111111111,\"#46039f\"],[0.2222222222222222,\"#7201a8\"],[0.3333333333333333,\"#9c179e\"],[0.4444444444444444,\"#bd3786\"],[0.5555555555555556,\"#d8576b\"],[0.6666666666666666,\"#ed7953\"],[0.7777777777777778,\"#fb9f3a\"],[0.8888888888888888,\"#fdca26\"],[1.0,\"#f0f921\"]]}],\"mesh3d\":[{\"type\":\"mesh3d\",\"colorbar\":{\"outlinewidth\":0,\"ticks\":\"\"}}],\"scatter\":[{\"fillpattern\":{\"fillmode\":\"overlay\",\"size\":10,\"solidity\":0.2},\"type\":\"scatter\"}],\"parcoords\":[{\"type\":\"parcoords\",\"line\":{\"colorbar\":{\"outlinewidth\":0,\"ticks\":\"\"}}}],\"scatterpolargl\":[{\"type\":\"scatterpolargl\",\"marker\":{\"colorbar\":{\"outlinewidth\":0,\"ticks\":\"\"}}}],\"bar\":[{\"error_x\":{\"color\":\"#2a3f5f\"},\"error_y\":{\"color\":\"#2a3f5f\"},\"marker\":{\"line\":{\"color\":\"#E5ECF6\",\"width\":0.5},\"pattern\":{\"fillmode\":\"overlay\",\"size\":10,\"solidity\":0.2}},\"type\":\"bar\"}],\"scattergeo\":[{\"type\":\"scattergeo\",\"marker\":{\"colorbar\":{\"outlinewidth\":0,\"ticks\":\"\"}}}],\"scatterpolar\":[{\"type\":\"scatterpolar\",\"marker\":{\"colorbar\":{\"outlinewidth\":0,\"ticks\":\"\"}}}],\"histogram\":[{\"marker\":{\"pattern\":{\"fillmode\":\"overlay\",\"size\":10,\"solidity\":0.2}},\"type\":\"histogram\"}],\"scattergl\":[{\"type\":\"scattergl\",\"marker\":{\"colorbar\":{\"outlinewidth\":0,\"ticks\":\"\"}}}],\"scatter3d\":[{\"type\":\"scatter3d\",\"line\":{\"colorbar\":{\"outlinewidth\":0,\"ticks\":\"\"}},\"marker\":{\"colorbar\":{\"outlinewidth\":0,\"ticks\":\"\"}}}],\"scattermapbox\":[{\"type\":\"scattermapbox\",\"marker\":{\"colorbar\":{\"outlinewidth\":0,\"ticks\":\"\"}}}],\"scatterternary\":[{\"type\":\"scatterternary\",\"marker\":{\"colorbar\":{\"outlinewidth\":0,\"ticks\":\"\"}}}],\"scattercarpet\":[{\"type\":\"scattercarpet\",\"marker\":{\"colorbar\":{\"outlinewidth\":0,\"ticks\":\"\"}}}],\"carpet\":[{\"aaxis\":{\"endlinecolor\":\"#2a3f5f\",\"gridcolor\":\"white\",\"linecolor\":\"white\",\"minorgridcolor\":\"white\",\"startlinecolor\":\"#2a3f5f\"},\"baxis\":{\"endlinecolor\":\"#2a3f5f\",\"gridcolor\":\"white\",\"linecolor\":\"white\",\"minorgridcolor\":\"white\",\"startlinecolor\":\"#2a3f5f\"},\"type\":\"carpet\"}],\"table\":[{\"cells\":{\"fill\":{\"color\":\"#EBF0F8\"},\"line\":{\"color\":\"white\"}},\"header\":{\"fill\":{\"color\":\"#C8D4E3\"},\"line\":{\"color\":\"white\"}},\"type\":\"table\"}],\"barpolar\":[{\"marker\":{\"line\":{\"color\":\"#E5ECF6\",\"width\":0.5},\"pattern\":{\"fillmode\":\"overlay\",\"size\":10,\"solidity\":0.2}},\"type\":\"barpolar\"}],\"pie\":[{\"automargin\":true,\"type\":\"pie\"}]},\"layout\":{\"autotypenumbers\":\"strict\",\"colorway\":[\"#636efa\",\"#EF553B\",\"#00cc96\",\"#ab63fa\",\"#FFA15A\",\"#19d3f3\",\"#FF6692\",\"#B6E880\",\"#FF97FF\",\"#FECB52\"],\"font\":{\"color\":\"#2a3f5f\"},\"hovermode\":\"closest\",\"hoverlabel\":{\"align\":\"left\"},\"paper_bgcolor\":\"white\",\"plot_bgcolor\":\"#E5ECF6\",\"polar\":{\"bgcolor\":\"#E5ECF6\",\"angularaxis\":{\"gridcolor\":\"white\",\"linecolor\":\"white\",\"ticks\":\"\"},\"radialaxis\":{\"gridcolor\":\"white\",\"linecolor\":\"white\",\"ticks\":\"\"}},\"ternary\":{\"bgcolor\":\"#E5ECF6\",\"aaxis\":{\"gridcolor\":\"white\",\"linecolor\":\"white\",\"ticks\":\"\"},\"baxis\":{\"gridcolor\":\"white\",\"linecolor\":\"white\",\"ticks\":\"\"},\"caxis\":{\"gridcolor\":\"white\",\"linecolor\":\"white\",\"ticks\":\"\"}},\"coloraxis\":{\"colorbar\":{\"outlinewidth\":0,\"ticks\":\"\"}},\"colorscale\":{\"sequential\":[[0.0,\"#0d0887\"],[0.1111111111111111,\"#46039f\"],[0.2222222222222222,\"#7201a8\"],[0.3333333333333333,\"#9c179e\"],[0.4444444444444444,\"#bd3786\"],[0.5555555555555556,\"#d8576b\"],[0.6666666666666666,\"#ed7953\"],[0.7777777777777778,\"#fb9f3a\"],[0.8888888888888888,\"#fdca26\"],[1.0,\"#f0f921\"]],\"sequentialminus\":[[0.0,\"#0d0887\"],[0.1111111111111111,\"#46039f\"],[0.2222222222222222,\"#7201a8\"],[0.3333333333333333,\"#9c179e\"],[0.4444444444444444,\"#bd3786\"],[0.5555555555555556,\"#d8576b\"],[0.6666666666666666,\"#ed7953\"],[0.7777777777777778,\"#fb9f3a\"],[0.8888888888888888,\"#fdca26\"],[1.0,\"#f0f921\"]],\"diverging\":[[0,\"#8e0152\"],[0.1,\"#c51b7d\"],[0.2,\"#de77ae\"],[0.3,\"#f1b6da\"],[0.4,\"#fde0ef\"],[0.5,\"#f7f7f7\"],[0.6,\"#e6f5d0\"],[0.7,\"#b8e186\"],[0.8,\"#7fbc41\"],[0.9,\"#4d9221\"],[1,\"#276419\"]]},\"xaxis\":{\"gridcolor\":\"white\",\"linecolor\":\"white\",\"ticks\":\"\",\"title\":{\"standoff\":15},\"zerolinecolor\":\"white\",\"automargin\":true,\"zerolinewidth\":2},\"yaxis\":{\"gridcolor\":\"white\",\"linecolor\":\"white\",\"ticks\":\"\",\"title\":{\"standoff\":15},\"zerolinecolor\":\"white\",\"automargin\":true,\"zerolinewidth\":2},\"scene\":{\"xaxis\":{\"backgroundcolor\":\"#E5ECF6\",\"gridcolor\":\"white\",\"linecolor\":\"white\",\"showbackground\":true,\"ticks\":\"\",\"zerolinecolor\":\"white\",\"gridwidth\":2},\"yaxis\":{\"backgroundcolor\":\"#E5ECF6\",\"gridcolor\":\"white\",\"linecolor\":\"white\",\"showbackground\":true,\"ticks\":\"\",\"zerolinecolor\":\"white\",\"gridwidth\":2},\"zaxis\":{\"backgroundcolor\":\"#E5ECF6\",\"gridcolor\":\"white\",\"linecolor\":\"white\",\"showbackground\":true,\"ticks\":\"\",\"zerolinecolor\":\"white\",\"gridwidth\":2}},\"shapedefaults\":{\"line\":{\"color\":\"#2a3f5f\"}},\"annotationdefaults\":{\"arrowcolor\":\"#2a3f5f\",\"arrowhead\":0,\"arrowwidth\":1},\"geo\":{\"bgcolor\":\"white\",\"landcolor\":\"#E5ECF6\",\"subunitcolor\":\"white\",\"showland\":true,\"showlakes\":true,\"lakecolor\":\"white\"},\"title\":{\"x\":0.05},\"mapbox\":{\"style\":\"light\"}}},\"xaxis\":{\"anchor\":\"y\",\"domain\":[0.0,1.0],\"title\":{\"text\":\"Annual_income\"}},\"yaxis\":{\"anchor\":\"x\",\"domain\":[0.0,1.0],\"title\":{\"text\":\"count\"}},\"legend\":{\"title\":{\"text\":\"GENDER\"},\"tracegroupgap\":0},\"title\":{\"text\":\"Annual_income  over genders\"},\"barmode\":\"relative\",\"bargap\":0.1},                        {\"responsive\": true}                    ).then(function(){\n",
              "                            \n",
              "var gd = document.getElementById('f89bf6ce-728b-4012-9cc7-63fa29d0675b');\n",
              "var x = new MutationObserver(function (mutations, observer) {{\n",
              "        var display = window.getComputedStyle(gd).display;\n",
              "        if (!display || display === 'none') {{\n",
              "            console.log([gd, 'removed!']);\n",
              "            Plotly.purge(gd);\n",
              "            observer.disconnect();\n",
              "        }}\n",
              "}});\n",
              "\n",
              "// Listen for the removal of the full notebook cells\n",
              "var notebookContainer = gd.closest('#notebook-container');\n",
              "if (notebookContainer) {{\n",
              "    x.observe(notebookContainer, {childList: true});\n",
              "}}\n",
              "\n",
              "// Listen for the clearing of the current output cell\n",
              "var outputEl = gd.closest('.output');\n",
              "if (outputEl) {{\n",
              "    x.observe(outputEl, {childList: true});\n",
              "}}\n",
              "\n",
              "                        })                };                            </script>        </div>\n",
              "</body>\n",
              "</html>"
            ]
          },
          "metadata": {}
        }
      ],
      "source": [
        "#importing plotly express sub module\n",
        "import plotly.express as px\n",
        "print(df3[\"GENDER\"].value_counts())\n",
        "#plotting histogram for annual_income of genders\n",
        "fig = px.histogram(df3,x = 'Annual_income',\n",
        "                   color = 'GENDER',\n",
        "                   color_discrete_sequence = [\"blue\",\"red\"],\n",
        "                   title = 'Annual_income  over genders')\n",
        "fig.update_layout(bargap=0.1)\n",
        "fig.show()"
      ]
    },
    {
      "cell_type": "markdown",
      "id": "19240916",
      "metadata": {
        "id": "19240916"
      },
      "source": [
        "**Observation:** The female count is higher than the male and the female count of annual income is also very high."
      ]
    },
    {
      "cell_type": "code",
      "execution_count": null,
      "id": "fa4393fb",
      "metadata": {
        "colab": {
          "base_uri": "https://localhost:8080/",
          "height": 507
        },
        "id": "fa4393fb",
        "outputId": "58b84ebf-c0dd-4d58-e9b6-2984558e14bb"
      },
      "outputs": [
        {
          "output_type": "stream",
          "name": "stdout",
          "text": [
            "['Higher education' 'Secondary / secondary special' 'Lower secondary'\n",
            " 'Incomplete higher' 'Academic degree']\n"
          ]
        },
        {
          "output_type": "display_data",
          "data": {
            "text/plain": [
              "<Figure size 640x480 with 1 Axes>"
            ],
            "image/png": "[encoded data removed]"
          },
          "metadata": {}
        }
      ],
      "source": [
        "#plotting bar graph genders with their education\n",
        "print(df3[\"EDUCATION\"].unique())\n",
        "sns.countplot(data=df3, x=\"GENDER\", hue=\"EDUCATION\")\n",
        "plt.title(\"Comparing the gender ratio in EDUCATION category\")\n",
        "plt.xlabel(\"GENDER\")\n",
        "plt.ylabel(\"Count\")\n",
        "plt.show()"
      ]
    },
    {
      "cell_type": "markdown",
      "id": "ee8e950b",
      "metadata": {
        "id": "ee8e950b"
      },
      "source": [
        "**Observation:** Females are educated more than males."
      ]
    },
    {
      "cell_type": "code",
      "execution_count": null,
      "id": "e709a92d",
      "metadata": {
        "colab": {
          "base_uri": "https://localhost:8080/",
          "height": 542
        },
        "id": "e709a92d",
        "outputId": "78c62c3f-5588-4aa0-8a28-48bf548cc5b9"
      },
      "outputs": [
        {
          "output_type": "display_data",
          "data": {
            "text/html": [
              "<html>\n",
              "<head><meta charset=\"utf-8\" /></head>\n",
              "<body>\n",
              "    <div>            <script src=\"https://cdnjs.cloudflare.com/ajax/libs/mathjax/2.7.5/MathJax.js?config=TeX-AMS-MML_SVG\"></script><script type=\"text/javascript\">if (window.MathJax && window.MathJax.Hub && window.MathJax.Hub.Config) {window.MathJax.Hub.Config({SVG: {font: \"STIX-Web\"}});}</script>                <script type=\"text/javascript\">window.PlotlyConfig = {MathJaxConfig: 'local'};</script>\n",
              "        <script src=\"https://cdn.plot.ly/plotly-2.18.2.min.js\"></script>                <div id=\"17da313f-76e8-4aeb-b881-97e6deb77c0b\" class=\"plotly-graph-div\" style=\"height:525px; width:100%;\"></div>            <script type=\"text/javascript\">                                    window.PLOTLYENV=window.PLOTLYENV || {};                                    if (document.getElementById(\"17da313f-76e8-4aeb-b881-97e6deb77c0b\")) {                    Plotly.newPlot(                        \"17da313f-76e8-4aeb-b881-97e6deb77c0b\",                        [{\"alignmentgroup\":\"True\",\"bingroup\":\"x\",\"hovertemplate\":\"Type_Income=Pensioner<br>label=%{x}<br>count=%{y}<extra></extra>\",\"legendgroup\":\"Pensioner\",\"marker\":{\"color\":\"#636efa\",\"pattern\":{\"shape\":\"\"}},\"name\":\"Pensioner\",\"offsetgroup\":\"Pensioner\",\"orientation\":\"v\",\"showlegend\":true,\"x\":[1,1,1,1,1,1,1,1,1,1,1,1,1,1,1,1,1,1,1,1,1,1,1,1,1,1,1,1,1,1,1,1,1,1,1,1,1,1,1,1,1,1,0,0,0,0,0,0,0,0,0,0,0,0,0,0,0,0,0,0,0,0,0,0,0,0,0,0,0,0,0,0,0,0,0,0,0,0,0,0,0,0,0,0,0,0,0,0,0,0,0,0,0,0,0,0,0,0,0,0,0,0,0,0,0,0,0,0,0,0,0,0,0,0,0,0,0,0,0,0,0,0,0,0,0,0,0,0,0,0,0,0,0,0,0,0,0,0,0,0,0,0,0,0,0,0,0,0,0,0,0,0,0,0,0,0,0,0,0,0,0,0,0,0,0,0,0,0,0,0,0,0,0,0,0,0,0,0,0,0,0,0,0,0,0,0,0,0,0,0,0,0,0,0,0,0,0,0,0,0,0,0,0,0,0,0,0,0,0,0,0,0,0,0,0,0,0,0,0,0,0,0,0,0,0,0,0,0,0,0,0,0,0,0,0,0,0,0,0,0,0,0,0,0,0,0,0,0,0,0,0,0,0,0,0,0,0,0,0,0,0,0,0,0,0,0,0,0,0],\"xaxis\":\"x\",\"yaxis\":\"y\",\"type\":\"histogram\"},{\"alignmentgroup\":\"True\",\"hovertemplate\":\"Type_Income=Pensioner<br>label=%{x}<extra></extra>\",\"legendgroup\":\"Pensioner\",\"marker\":{\"color\":\"#636efa\"},\"name\":\"Pensioner\",\"notched\":true,\"offsetgroup\":\"Pensioner\",\"showlegend\":false,\"x\":[1,1,1,1,1,1,1,1,1,1,1,1,1,1,1,1,1,1,1,1,1,1,1,1,1,1,1,1,1,1,1,1,1,1,1,1,1,1,1,1,1,1,0,0,0,0,0,0,0,0,0,0,0,0,0,0,0,0,0,0,0,0,0,0,0,0,0,0,0,0,0,0,0,0,0,0,0,0,0,0,0,0,0,0,0,0,0,0,0,0,0,0,0,0,0,0,0,0,0,0,0,0,0,0,0,0,0,0,0,0,0,0,0,0,0,0,0,0,0,0,0,0,0,0,0,0,0,0,0,0,0,0,0,0,0,0,0,0,0,0,0,0,0,0,0,0,0,0,0,0,0,0,0,0,0,0,0,0,0,0,0,0,0,0,0,0,0,0,0,0,0,0,0,0,0,0,0,0,0,0,0,0,0,0,0,0,0,0,0,0,0,0,0,0,0,0,0,0,0,0,0,0,0,0,0,0,0,0,0,0,0,0,0,0,0,0,0,0,0,0,0,0,0,0,0,0,0,0,0,0,0,0,0,0,0,0,0,0,0,0,0,0,0,0,0,0,0,0,0,0,0,0,0,0,0,0,0,0,0,0,0,0,0,0,0,0,0,0,0],\"xaxis\":\"x2\",\"yaxis\":\"y2\",\"type\":\"box\"},{\"alignmentgroup\":\"True\",\"bingroup\":\"x\",\"hovertemplate\":\"Type_Income=Commercial associate<br>label=%{x}<br>count=%{y}<extra></extra>\",\"legendgroup\":\"Commercial associate\",\"marker\":{\"color\":\"#EF553B\",\"pattern\":{\"shape\":\"\"}},\"name\":\"Commercial associate\",\"offsetgroup\":\"Commercial associate\",\"orientation\":\"v\",\"showlegend\":true,\"x\":[1,1,1,1,1,1,1,1,1,1,1,1,1,1,1,1,1,1,1,1,1,1,1,1,1,1,1,1,1,1,1,1,1,1,1,1,1,1,1,1,1,1,1,1,1,1,1,1,1,1,0,0,0,0,0,0,0,0,0,0,0,0,0,0,0,0,0,0,0,0,0,0,0,0,0,0,0,0,0,0,0,0,0,0,0,0,0,0,0,0,0,0,0,0,0,0,0,0,0,0,0,0,0,0,0,0,0,0,0,0,0,0,0,0,0,0,0,0,0,0,0,0,0,0,0,0,0,0,0,0,0,0,0,0,0,0,0,0,0,0,0,0,0,0,0,0,0,0,0,0,0,0,0,0,0,0,0,0,0,0,0,0,0,0,0,0,0,0,0,0,0,0,0,0,0,0,0,0,0,0,0,0,0,0,0,0,0,0,0,0,0,0,0,0,0,0,0,0,0,0,0,0,0,0,0,0,0,0,0,0,0,0,0,0,0,0,0,0,0,0,0,0,0,0,0,0,0,0,0,0,0,0,0,0,0,0,0,0,0,0,0,0,0,0,0,0,0,0,0,0,0,0,0,0,0,0,0,0,0,0,0,0,0,0,0,0,0,0,0,0,0,0,0,0,0,0,0,0,0,0,0,0,0,0,0,0,0,0,0,0,0,0,0,0,0,0,0,0,0,0,0,0,0,0,0,0,0,0,0,0,0,0,0,0,0,0,0,0,0,0,0,0,0,0,0,0,0,0,0,0,0,0,0,0,0,0,0,0,0,0,0,0,0,0,0,0,0,0,0,0,0,0,0,0,0,0,0,0,0,0,0,0,0,0,0],\"xaxis\":\"x\",\"yaxis\":\"y\",\"type\":\"histogram\"},{\"alignmentgroup\":\"True\",\"hovertemplate\":\"Type_Income=Commercial associate<br>label=%{x}<extra></extra>\",\"legendgroup\":\"Commercial associate\",\"marker\":{\"color\":\"#EF553B\"},\"name\":\"Commercial associate\",\"notched\":true,\"offsetgroup\":\"Commercial associate\",\"showlegend\":false,\"x\":[1,1,1,1,1,1,1,1,1,1,1,1,1,1,1,1,1,1,1,1,1,1,1,1,1,1,1,1,1,1,1,1,1,1,1,1,1,1,1,1,1,1,1,1,1,1,1,1,1,1,0,0,0,0,0,0,0,0,0,0,0,0,0,0,0,0,0,0,0,0,0,0,0,0,0,0,0,0,0,0,0,0,0,0,0,0,0,0,0,0,0,0,0,0,0,0,0,0,0,0,0,0,0,0,0,0,0,0,0,0,0,0,0,0,0,0,0,0,0,0,0,0,0,0,0,0,0,0,0,0,0,0,0,0,0,0,0,0,0,0,0,0,0,0,0,0,0,0,0,0,0,0,0,0,0,0,0,0,0,0,0,0,0,0,0,0,0,0,0,0,0,0,0,0,0,0,0,0,0,0,0,0,0,0,0,0,0,0,0,0,0,0,0,0,0,0,0,0,0,0,0,0,0,0,0,0,0,0,0,0,0,0,0,0,0,0,0,0,0,0,0,0,0,0,0,0,0,0,0,0,0,0,0,0,0,0,0,0,0,0,0,0,0,0,0,0,0,0,0,0,0,0,0,0,0,0,0,0,0,0,0,0,0,0,0,0,0,0,0,0,0,0,0,0,0,0,0,0,0,0,0,0,0,0,0,0,0,0,0,0,0,0,0,0,0,0,0,0,0,0,0,0,0,0,0,0,0,0,0,0,0,0,0,0,0,0,0,0,0,0,0,0,0,0,0,0,0,0,0,0,0,0,0,0,0,0,0,0,0,0,0,0,0,0,0,0,0,0,0,0,0,0,0,0,0,0,0,0,0,0,0,0,0,0,0],\"xaxis\":\"x2\",\"yaxis\":\"y2\",\"type\":\"box\"},{\"alignmentgroup\":\"True\",\"bingroup\":\"x\",\"hovertemplate\":\"Type_Income=Working<br>label=%{x}<br>count=%{y}<extra></extra>\",\"legendgroup\":\"Working\",\"marker\":{\"color\":\"#00cc96\",\"pattern\":{\"shape\":\"\"}},\"name\":\"Working\",\"offsetgroup\":\"Working\",\"orientation\":\"v\",\"showlegend\":true,\"x\":[1,1,1,1,1,1,1,1,1,1,1,1,1,1,1,1,1,1,1,1,1,1,1,1,1,1,1,1,1,1,1,1,1,1,1,1,1,1,1,1,1,1,1,1,1,1,1,1,1,1,1,1,1,1,1,1,1,1,1,1,1,1,1,1,1,1,1,1,1,1,1,1,1,1,1,1,1,0,0,0,0,0,0,0,0,0,0,0,0,0,0,0,0,0,0,0,0,0,0,0,0,0,0,0,0,0,0,0,0,0,0,0,0,0,0,0,0,0,0,0,0,0,0,0,0,0,0,0,0,0,0,0,0,0,0,0,0,0,0,0,0,0,0,0,0,0,0,0,0,0,0,0,0,0,0,0,0,0,0,0,0,0,0,0,0,0,0,0,0,0,0,0,0,0,0,0,0,0,0,0,0,0,0,0,0,0,0,0,0,0,0,0,0,0,0,0,0,0,0,0,0,0,0,0,0,0,0,0,0,0,0,0,0,0,0,0,0,0,0,0,0,0,0,0,0,0,0,0,0,0,0,0,0,0,0,0,0,0,0,0,0,0,0,0,0,0,0,0,0,0,0,0,0,0,0,0,0,0,0,0,0,0,0,0,0,0,0,0,0,0,0,0,0,0,0,0,0,0,0,0,0,0,0,0,0,0,0,0,0,0,0,0,0,0,0,0,0,0,0,0,0,0,0,0,0,0,0,0,0,0,0,0,0,0,0,0,0,0,0,0,0,0,0,0,0,0,0,0,0,0,0,0,0,0,0,0,0,0,0,0,0,0,0,0,0,0,0,0,0,0,0,0,0,0,0,0,0,0,0,0,0,0,0,0,0,0,0,0,0,0,0,0,0,0,0,0,0,0,0,0,0,0,0,0,0,0,0,0,0,0,0,0,0,0,0,0,0,0,0,0,0,0,0,0,0,0,0,0,0,0,0,0,0,0,0,0,0,0,0,0,0,0,0,0,0,0,0,0,0,0,0,0,0,0,0,0,0,0,0,0,0,0,0,0,0,0,0,0,0,0,0,0,0,0,0,0,0,0,0,0,0,0,0,0,0,0,0,0,0,0,0,0,0,0,0,0,0,0,0,0,0,0,0,0,0,0,0,0,0,0,0,0,0,0,0,0,0,0,0,0,0,0,0,0,0,0,0,0,0,0,0,0,0,0,0,0,0,0,0,0,0,0,0,0,0,0,0,0,0,0,0,0,0,0,0,0,0,0,0,0,0,0,0,0,0,0,0,0,0,0,0,0,0,0,0,0,0,0,0,0,0,0,0,0,0,0,0,0,0,0,0,0,0,0,0,0,0,0,0,0,0,0,0,0,0,0,0,0,0,0,0,0,0,0,0,0,0,0,0,0,0,0,0,0,0,0,0,0,0,0,0,0,0,0,0,0,0,0,0,0,0,0,0,0,0,0,0,0,0,0,0,0,0,0,0,0,0,0,0,0,0,0,0,0,0,0,0,0,0,0,0,0,0,0,0,0,0,0,0,0,0,0,0,0,0,0,0,0,0,0,0,0,0,0,0,0,0,0,0,0,0,0,0,0,0,0,0,0,0,0,0,0,0,0,0,0,0,0,0,0,0,0,0,0,0,0,0,0,0,0,0,0,0,0,0,0,0,0,0,0,0,0,0,0,0,0,0,0,0,0,0,0,0,0,0,0,0,0,0,0,0,0,0,0,0,0,0,0,0,0,0,0,0,0,0,0,0,0,0,0,0,0,0,0,0,0,0,0,0,0,0,0,0,0,0,0,0,0,0,0,0,0,0,0,0,0,0,0,0,0,0,0,0,0,0,0,0,0],\"xaxis\":\"x\",\"yaxis\":\"y\",\"type\":\"histogram\"},{\"alignmentgroup\":\"True\",\"hovertemplate\":\"Type_Income=Working<br>label=%{x}<extra></extra>\",\"legendgroup\":\"Working\",\"marker\":{\"color\":\"#00cc96\"},\"name\":\"Working\",\"notched\":true,\"offsetgroup\":\"Working\",\"showlegend\":false,\"x\":[1,1,1,1,1,1,1,1,1,1,1,1,1,1,1,1,1,1,1,1,1,1,1,1,1,1,1,1,1,1,1,1,1,1,1,1,1,1,1,1,1,1,1,1,1,1,1,1,1,1,1,1,1,1,1,1,1,1,1,1,1,1,1,1,1,1,1,1,1,1,1,1,1,1,1,1,1,0,0,0,0,0,0,0,0,0,0,0,0,0,0,0,0,0,0,0,0,0,0,0,0,0,0,0,0,0,0,0,0,0,0,0,0,0,0,0,0,0,0,0,0,0,0,0,0,0,0,0,0,0,0,0,0,0,0,0,0,0,0,0,0,0,0,0,0,0,0,0,0,0,0,0,0,0,0,0,0,0,0,0,0,0,0,0,0,0,0,0,0,0,0,0,0,0,0,0,0,0,0,0,0,0,0,0,0,0,0,0,0,0,0,0,0,0,0,0,0,0,0,0,0,0,0,0,0,0,0,0,0,0,0,0,0,0,0,0,0,0,0,0,0,0,0,0,0,0,0,0,0,0,0,0,0,0,0,0,0,0,0,0,0,0,0,0,0,0,0,0,0,0,0,0,0,0,0,0,0,0,0,0,0,0,0,0,0,0,0,0,0,0,0,0,0,0,0,0,0,0,0,0,0,0,0,0,0,0,0,0,0,0,0,0,0,0,0,0,0,0,0,0,0,0,0,0,0,0,0,0,0,0,0,0,0,0,0,0,0,0,0,0,0,0,0,0,0,0,0,0,0,0,0,0,0,0,0,0,0,0,0,0,0,0,0,0,0,0,0,0,0,0,0,0,0,0,0,0,0,0,0,0,0,0,0,0,0,0,0,0,0,0,0,0,0,0,0,0,0,0,0,0,0,0,0,0,0,0,0,0,0,0,0,0,0,0,0,0,0,0,0,0,0,0,0,0,0,0,0,0,0,0,0,0,0,0,0,0,0,0,0,0,0,0,0,0,0,0,0,0,0,0,0,0,0,0,0,0,0,0,0,0,0,0,0,0,0,0,0,0,0,0,0,0,0,0,0,0,0,0,0,0,0,0,0,0,0,0,0,0,0,0,0,0,0,0,0,0,0,0,0,0,0,0,0,0,0,0,0,0,0,0,0,0,0,0,0,0,0,0,0,0,0,0,0,0,0,0,0,0,0,0,0,0,0,0,0,0,0,0,0,0,0,0,0,0,0,0,0,0,0,0,0,0,0,0,0,0,0,0,0,0,0,0,0,0,0,0,0,0,0,0,0,0,0,0,0,0,0,0,0,0,0,0,0,0,0,0,0,0,0,0,0,0,0,0,0,0,0,0,0,0,0,0,0,0,0,0,0,0,0,0,0,0,0,0,0,0,0,0,0,0,0,0,0,0,0,0,0,0,0,0,0,0,0,0,0,0,0,0,0,0,0,0,0,0,0,0,0,0,0,0,0,0,0,0,0,0,0,0,0,0,0,0,0,0,0,0,0,0,0,0,0,0,0,0,0,0,0,0,0,0,0,0,0,0,0,0,0,0,0,0,0,0,0,0,0,0,0,0,0,0,0,0,0,0,0,0,0,0,0,0,0,0,0,0,0,0,0,0,0,0,0,0,0,0,0,0,0,0,0,0,0,0,0,0,0,0,0,0,0,0,0,0,0,0,0,0,0,0,0,0,0,0,0,0,0,0,0,0,0,0,0,0,0,0,0,0,0,0,0,0,0,0,0,0,0,0,0,0,0,0,0,0,0,0,0,0,0,0,0,0,0,0,0,0,0,0,0,0,0,0,0,0,0,0,0,0,0,0,0,0,0,0,0,0,0,0,0,0],\"xaxis\":\"x2\",\"yaxis\":\"y2\",\"type\":\"box\"},{\"alignmentgroup\":\"True\",\"bingroup\":\"x\",\"hovertemplate\":\"Type_Income=State servant<br>label=%{x}<br>count=%{y}<extra></extra>\",\"legendgroup\":\"State servant\",\"marker\":{\"color\":\"#ab63fa\",\"pattern\":{\"shape\":\"\"}},\"name\":\"State servant\",\"offsetgroup\":\"State servant\",\"orientation\":\"v\",\"showlegend\":true,\"x\":[1,1,1,1,1,1,0,0,0,0,0,0,0,0,0,0,0,0,0,0,0,0,0,0,0,0,0,0,0,0,0,0,0,0,0,0,0,0,0,0,0,0,0,0,0,0,0,0,0,0,0,0,0,0,0,0,0,0,0,0,0,0,0,0,0,0,0,0,0,0,0,0,0,0,0,0,0,0,0,0,0,0,0,0,0,0,0,0,0,0,0,0,0,0,0,0,0,0,0,0,0,0,0,0,0,0,0,0,0,0,0,0,0,0,0,0],\"xaxis\":\"x\",\"yaxis\":\"y\",\"type\":\"histogram\"},{\"alignmentgroup\":\"True\",\"hovertemplate\":\"Type_Income=State servant<br>label=%{x}<extra></extra>\",\"legendgroup\":\"State servant\",\"marker\":{\"color\":\"#ab63fa\"},\"name\":\"State servant\",\"notched\":true,\"offsetgroup\":\"State servant\",\"showlegend\":false,\"x\":[1,1,1,1,1,1,0,0,0,0,0,0,0,0,0,0,0,0,0,0,0,0,0,0,0,0,0,0,0,0,0,0,0,0,0,0,0,0,0,0,0,0,0,0,0,0,0,0,0,0,0,0,0,0,0,0,0,0,0,0,0,0,0,0,0,0,0,0,0,0,0,0,0,0,0,0,0,0,0,0,0,0,0,0,0,0,0,0,0,0,0,0,0,0,0,0,0,0,0,0,0,0,0,0,0,0,0,0,0,0,0,0,0,0,0,0],\"xaxis\":\"x2\",\"yaxis\":\"y2\",\"type\":\"box\"}],                        {\"template\":{\"data\":{\"histogram2dcontour\":[{\"type\":\"histogram2dcontour\",\"colorbar\":{\"outlinewidth\":0,\"ticks\":\"\"},\"colorscale\":[[0.0,\"#0d0887\"],[0.1111111111111111,\"#46039f\"],[0.2222222222222222,\"#7201a8\"],[0.3333333333333333,\"#9c179e\"],[0.4444444444444444,\"#bd3786\"],[0.5555555555555556,\"#d8576b\"],[0.6666666666666666,\"#ed7953\"],[0.7777777777777778,\"#fb9f3a\"],[0.8888888888888888,\"#fdca26\"],[1.0,\"#f0f921\"]]}],\"choropleth\":[{\"type\":\"choropleth\",\"colorbar\":{\"outlinewidth\":0,\"ticks\":\"\"}}],\"histogram2d\":[{\"type\":\"histogram2d\",\"colorbar\":{\"outlinewidth\":0,\"ticks\":\"\"},\"colorscale\":[[0.0,\"#0d0887\"],[0.1111111111111111,\"#46039f\"],[0.2222222222222222,\"#7201a8\"],[0.3333333333333333,\"#9c179e\"],[0.4444444444444444,\"#bd3786\"],[0.5555555555555556,\"#d8576b\"],[0.6666666666666666,\"#ed7953\"],[0.7777777777777778,\"#fb9f3a\"],[0.8888888888888888,\"#fdca26\"],[1.0,\"#f0f921\"]]}],\"heatmap\":[{\"type\":\"heatmap\",\"colorbar\":{\"outlinewidth\":0,\"ticks\":\"\"},\"colorscale\":[[0.0,\"#0d0887\"],[0.1111111111111111,\"#46039f\"],[0.2222222222222222,\"#7201a8\"],[0.3333333333333333,\"#9c179e\"],[0.4444444444444444,\"#bd3786\"],[0.5555555555555556,\"#d8576b\"],[0.6666666666666666,\"#ed7953\"],[0.7777777777777778,\"#fb9f3a\"],[0.8888888888888888,\"#fdca26\"],[1.0,\"#f0f921\"]]}],\"heatmapgl\":[{\"type\":\"heatmapgl\",\"colorbar\":{\"outlinewidth\":0,\"ticks\":\"\"},\"colorscale\":[[0.0,\"#0d0887\"],[0.1111111111111111,\"#46039f\"],[0.2222222222222222,\"#7201a8\"],[0.3333333333333333,\"#9c179e\"],[0.4444444444444444,\"#bd3786\"],[0.5555555555555556,\"#d8576b\"],[0.6666666666666666,\"#ed7953\"],[0.7777777777777778,\"#fb9f3a\"],[0.8888888888888888,\"#fdca26\"],[1.0,\"#f0f921\"]]}],\"contourcarpet\":[{\"type\":\"contourcarpet\",\"colorbar\":{\"outlinewidth\":0,\"ticks\":\"\"}}],\"contour\":[{\"type\":\"contour\",\"colorbar\":{\"outlinewidth\":0,\"ticks\":\"\"},\"colorscale\":[[0.0,\"#0d0887\"],[0.1111111111111111,\"#46039f\"],[0.2222222222222222,\"#7201a8\"],[0.3333333333333333,\"#9c179e\"],[0.4444444444444444,\"#bd3786\"],[0.5555555555555556,\"#d8576b\"],[0.6666666666666666,\"#ed7953\"],[0.7777777777777778,\"#fb9f3a\"],[0.8888888888888888,\"#fdca26\"],[1.0,\"#f0f921\"]]}],\"surface\":[{\"type\":\"surface\",\"colorbar\":{\"outlinewidth\":0,\"ticks\":\"\"},\"colorscale\":[[0.0,\"#0d0887\"],[0.1111111111111111,\"#46039f\"],[0.2222222222222222,\"#7201a8\"],[0.3333333333333333,\"#9c179e\"],[0.4444444444444444,\"#bd3786\"],[0.5555555555555556,\"#d8576b\"],[0.6666666666666666,\"#ed7953\"],[0.7777777777777778,\"#fb9f3a\"],[0.8888888888888888,\"#fdca26\"],[1.0,\"#f0f921\"]]}],\"mesh3d\":[{\"type\":\"mesh3d\",\"colorbar\":{\"outlinewidth\":0,\"ticks\":\"\"}}],\"scatter\":[{\"fillpattern\":{\"fillmode\":\"overlay\",\"size\":10,\"solidity\":0.2},\"type\":\"scatter\"}],\"parcoords\":[{\"type\":\"parcoords\",\"line\":{\"colorbar\":{\"outlinewidth\":0,\"ticks\":\"\"}}}],\"scatterpolargl\":[{\"type\":\"scatterpolargl\",\"marker\":{\"colorbar\":{\"outlinewidth\":0,\"ticks\":\"\"}}}],\"bar\":[{\"error_x\":{\"color\":\"#2a3f5f\"},\"error_y\":{\"color\":\"#2a3f5f\"},\"marker\":{\"line\":{\"color\":\"#E5ECF6\",\"width\":0.5},\"pattern\":{\"fillmode\":\"overlay\",\"size\":10,\"solidity\":0.2}},\"type\":\"bar\"}],\"scattergeo\":[{\"type\":\"scattergeo\",\"marker\":{\"colorbar\":{\"outlinewidth\":0,\"ticks\":\"\"}}}],\"scatterpolar\":[{\"type\":\"scatterpolar\",\"marker\":{\"colorbar\":{\"outlinewidth\":0,\"ticks\":\"\"}}}],\"histogram\":[{\"marker\":{\"pattern\":{\"fillmode\":\"overlay\",\"size\":10,\"solidity\":0.2}},\"type\":\"histogram\"}],\"scattergl\":[{\"type\":\"scattergl\",\"marker\":{\"colorbar\":{\"outlinewidth\":0,\"ticks\":\"\"}}}],\"scatter3d\":[{\"type\":\"scatter3d\",\"line\":{\"colorbar\":{\"outlinewidth\":0,\"ticks\":\"\"}},\"marker\":{\"colorbar\":{\"outlinewidth\":0,\"ticks\":\"\"}}}],\"scattermapbox\":[{\"type\":\"scattermapbox\",\"marker\":{\"colorbar\":{\"outlinewidth\":0,\"ticks\":\"\"}}}],\"scatterternary\":[{\"type\":\"scatterternary\",\"marker\":{\"colorbar\":{\"outlinewidth\":0,\"ticks\":\"\"}}}],\"scattercarpet\":[{\"type\":\"scattercarpet\",\"marker\":{\"colorbar\":{\"outlinewidth\":0,\"ticks\":\"\"}}}],\"carpet\":[{\"aaxis\":{\"endlinecolor\":\"#2a3f5f\",\"gridcolor\":\"white\",\"linecolor\":\"white\",\"minorgridcolor\":\"white\",\"startlinecolor\":\"#2a3f5f\"},\"baxis\":{\"endlinecolor\":\"#2a3f5f\",\"gridcolor\":\"white\",\"linecolor\":\"white\",\"minorgridcolor\":\"white\",\"startlinecolor\":\"#2a3f5f\"},\"type\":\"carpet\"}],\"table\":[{\"cells\":{\"fill\":{\"color\":\"#EBF0F8\"},\"line\":{\"color\":\"white\"}},\"header\":{\"fill\":{\"color\":\"#C8D4E3\"},\"line\":{\"color\":\"white\"}},\"type\":\"table\"}],\"barpolar\":[{\"marker\":{\"line\":{\"color\":\"#E5ECF6\",\"width\":0.5},\"pattern\":{\"fillmode\":\"overlay\",\"size\":10,\"solidity\":0.2}},\"type\":\"barpolar\"}],\"pie\":[{\"automargin\":true,\"type\":\"pie\"}]},\"layout\":{\"autotypenumbers\":\"strict\",\"colorway\":[\"#636efa\",\"#EF553B\",\"#00cc96\",\"#ab63fa\",\"#FFA15A\",\"#19d3f3\",\"#FF6692\",\"#B6E880\",\"#FF97FF\",\"#FECB52\"],\"font\":{\"color\":\"#2a3f5f\"},\"hovermode\":\"closest\",\"hoverlabel\":{\"align\":\"left\"},\"paper_bgcolor\":\"white\",\"plot_bgcolor\":\"#E5ECF6\",\"polar\":{\"bgcolor\":\"#E5ECF6\",\"angularaxis\":{\"gridcolor\":\"white\",\"linecolor\":\"white\",\"ticks\":\"\"},\"radialaxis\":{\"gridcolor\":\"white\",\"linecolor\":\"white\",\"ticks\":\"\"}},\"ternary\":{\"bgcolor\":\"#E5ECF6\",\"aaxis\":{\"gridcolor\":\"white\",\"linecolor\":\"white\",\"ticks\":\"\"},\"baxis\":{\"gridcolor\":\"white\",\"linecolor\":\"white\",\"ticks\":\"\"},\"caxis\":{\"gridcolor\":\"white\",\"linecolor\":\"white\",\"ticks\":\"\"}},\"coloraxis\":{\"colorbar\":{\"outlinewidth\":0,\"ticks\":\"\"}},\"colorscale\":{\"sequential\":[[0.0,\"#0d0887\"],[0.1111111111111111,\"#46039f\"],[0.2222222222222222,\"#7201a8\"],[0.3333333333333333,\"#9c179e\"],[0.4444444444444444,\"#bd3786\"],[0.5555555555555556,\"#d8576b\"],[0.6666666666666666,\"#ed7953\"],[0.7777777777777778,\"#fb9f3a\"],[0.8888888888888888,\"#fdca26\"],[1.0,\"#f0f921\"]],\"sequentialminus\":[[0.0,\"#0d0887\"],[0.1111111111111111,\"#46039f\"],[0.2222222222222222,\"#7201a8\"],[0.3333333333333333,\"#9c179e\"],[0.4444444444444444,\"#bd3786\"],[0.5555555555555556,\"#d8576b\"],[0.6666666666666666,\"#ed7953\"],[0.7777777777777778,\"#fb9f3a\"],[0.8888888888888888,\"#fdca26\"],[1.0,\"#f0f921\"]],\"diverging\":[[0,\"#8e0152\"],[0.1,\"#c51b7d\"],[0.2,\"#de77ae\"],[0.3,\"#f1b6da\"],[0.4,\"#fde0ef\"],[0.5,\"#f7f7f7\"],[0.6,\"#e6f5d0\"],[0.7,\"#b8e186\"],[0.8,\"#7fbc41\"],[0.9,\"#4d9221\"],[1,\"#276419\"]]},\"xaxis\":{\"gridcolor\":\"white\",\"linecolor\":\"white\",\"ticks\":\"\",\"title\":{\"standoff\":15},\"zerolinecolor\":\"white\",\"automargin\":true,\"zerolinewidth\":2},\"yaxis\":{\"gridcolor\":\"white\",\"linecolor\":\"white\",\"ticks\":\"\",\"title\":{\"standoff\":15},\"zerolinecolor\":\"white\",\"automargin\":true,\"zerolinewidth\":2},\"scene\":{\"xaxis\":{\"backgroundcolor\":\"#E5ECF6\",\"gridcolor\":\"white\",\"linecolor\":\"white\",\"showbackground\":true,\"ticks\":\"\",\"zerolinecolor\":\"white\",\"gridwidth\":2},\"yaxis\":{\"backgroundcolor\":\"#E5ECF6\",\"gridcolor\":\"white\",\"linecolor\":\"white\",\"showbackground\":true,\"ticks\":\"\",\"zerolinecolor\":\"white\",\"gridwidth\":2},\"zaxis\":{\"backgroundcolor\":\"#E5ECF6\",\"gridcolor\":\"white\",\"linecolor\":\"white\",\"showbackground\":true,\"ticks\":\"\",\"zerolinecolor\":\"white\",\"gridwidth\":2}},\"shapedefaults\":{\"line\":{\"color\":\"#2a3f5f\"}},\"annotationdefaults\":{\"arrowcolor\":\"#2a3f5f\",\"arrowhead\":0,\"arrowwidth\":1},\"geo\":{\"bgcolor\":\"white\",\"landcolor\":\"#E5ECF6\",\"subunitcolor\":\"white\",\"showland\":true,\"showlakes\":true,\"lakecolor\":\"white\"},\"title\":{\"x\":0.05},\"mapbox\":{\"style\":\"light\"}}},\"xaxis\":{\"anchor\":\"y\",\"domain\":[0.0,1.0],\"title\":{\"text\":\"label\"}},\"yaxis\":{\"anchor\":\"x\",\"domain\":[0.0,0.7326],\"title\":{\"text\":\"count\"}},\"xaxis2\":{\"anchor\":\"y2\",\"domain\":[0.0,1.0],\"matches\":\"x\",\"showticklabels\":false,\"showgrid\":true},\"yaxis2\":{\"anchor\":\"x2\",\"domain\":[0.7426,1.0],\"matches\":\"y2\",\"showticklabels\":false,\"showline\":false,\"ticks\":\"\",\"showgrid\":false},\"legend\":{\"title\":{\"text\":\"Type_Income\"},\"tracegroupgap\":0},\"title\":{\"text\":\"Creditcard approved over type Income \"},\"barmode\":\"relative\",\"bargap\":0.2},                        {\"responsive\": true}                    ).then(function(){\n",
              "                            \n",
              "var gd = document.getElementById('17da313f-76e8-4aeb-b881-97e6deb77c0b');\n",
              "var x = new MutationObserver(function (mutations, observer) {{\n",
              "        var display = window.getComputedStyle(gd).display;\n",
              "        if (!display || display === 'none') {{\n",
              "            console.log([gd, 'removed!']);\n",
              "            Plotly.purge(gd);\n",
              "            observer.disconnect();\n",
              "        }}\n",
              "}});\n",
              "\n",
              "// Listen for the removal of the full notebook cells\n",
              "var notebookContainer = gd.closest('#notebook-container');\n",
              "if (notebookContainer) {{\n",
              "    x.observe(notebookContainer, {childList: true});\n",
              "}}\n",
              "\n",
              "// Listen for the clearing of the current output cell\n",
              "var outputEl = gd.closest('.output');\n",
              "if (outputEl) {{\n",
              "    x.observe(outputEl, {childList: true});\n",
              "}}\n",
              "\n",
              "                        })                };                            </script>        </div>\n",
              "</body>\n",
              "</html>"
            ]
          },
          "metadata": {}
        }
      ],
      "source": [
        "#plotting credit card approved over type income\n",
        "fig = px.histogram(df3,\n",
        "                  x = \"label\",\n",
        "                  marginal = 'box', \n",
        "                   color=\"Type_Income\",\n",
        "                  title = \"Creditcard approved over type Income \")\n",
        "fig.update_layout(bargap=0.2)\n",
        "fig.show()"
      ]
    },
    {
      "cell_type": "markdown",
      "id": "7b9cd9e9",
      "metadata": {
        "id": "7b9cd9e9"
      },
      "source": [
        "**Observation:** Working professionals got more approvals and state servants got less number of approvals."
      ]
    },
    {
      "cell_type": "markdown",
      "id": "3b62d8b2",
      "metadata": {
        "id": "3b62d8b2"
      },
      "source": [
        " **Encoding categorical varibles into numerical variables:**"
      ]
    },
    {
      "cell_type": "code",
      "execution_count": null,
      "id": "7e2b3f1d",
      "metadata": {
        "colab": {
          "base_uri": "https://localhost:8080/"
        },
        "id": "7e2b3f1d",
        "outputId": "ccd1810a-1c1c-43b4-9188-4eb970e5a77f"
      },
      "outputs": [
        {
          "output_type": "execute_result",
          "data": {
            "text/plain": [
              "Index(['Ind_ID', 'GENDER', 'Car_Owner', 'Propert_Owner', 'Annual_income',\n",
              "       'Type_Income', 'EDUCATION', 'Housing_type', 'Birthday_count',\n",
              "       'Employed_days', 'Mobile_phone', 'label', 'Annual_income_log'],\n",
              "      dtype='object')"
            ]
          },
          "metadata": {},
          "execution_count": 190
        }
      ],
      "source": [
        "df3.columns"
      ]
    },
    {
      "cell_type": "code",
      "execution_count": null,
      "id": "3b8aa188",
      "metadata": {
        "colab": {
          "base_uri": "https://localhost:8080/"
        },
        "id": "3b8aa188",
        "outputId": "bcb5ce1d-8ce6-46e7-b053-066f8180dd39"
      },
      "outputs": [
        {
          "output_type": "stream",
          "name": "stdout",
          "text": [
            "<class 'pandas.core.frame.DataFrame'>\n",
            "Int64Index: 1548 entries, 0 to 1547\n",
            "Data columns (total 13 columns):\n",
            " #   Column             Non-Null Count  Dtype  \n",
            "---  ------             --------------  -----  \n",
            " 0   Ind_ID             1548 non-null   int64  \n",
            " 1   GENDER             1541 non-null   object \n",
            " 2   Car_Owner          1548 non-null   object \n",
            " 3   Propert_Owner      1548 non-null   object \n",
            " 4   Annual_income      1525 non-null   float64\n",
            " 5   Type_Income        1548 non-null   object \n",
            " 6   EDUCATION          1548 non-null   object \n",
            " 7   Housing_type       1548 non-null   object \n",
            " 8   Birthday_count     1526 non-null   float64\n",
            " 9   Employed_days      1548 non-null   int64  \n",
            " 10  Mobile_phone       1548 non-null   int64  \n",
            " 11  label              1548 non-null   int64  \n",
            " 12  Annual_income_log  1525 non-null   float64\n",
            "dtypes: float64(3), int64(4), object(6)\n",
            "memory usage: 169.3+ KB\n"
          ]
        }
      ],
      "source": [
        "df3.info()"
      ]
    },
    {
      "cell_type": "code",
      "execution_count": null,
      "id": "32d468cc",
      "metadata": {
        "colab": {
          "base_uri": "https://localhost:8080/"
        },
        "id": "32d468cc",
        "outputId": "6708fc87-7401-4c74-f0fc-d25681c20d28"
      },
      "outputs": [
        {
          "output_type": "execute_result",
          "data": {
            "text/plain": [
              "array(['M', 'F', nan], dtype=object)"
            ]
          },
          "metadata": {},
          "execution_count": 192
        }
      ],
      "source": [
        "#to get the unique values of gender column\n",
        "df3[\"GENDER\"].unique()"
      ]
    },
    {
      "cell_type": "code",
      "execution_count": null,
      "id": "1b55964c",
      "metadata": {
        "colab": {
          "base_uri": "https://localhost:8080/"
        },
        "id": "1b55964c",
        "outputId": "b25a12d2-bd92-4e58-d953-0e93ca5dab00"
      },
      "outputs": [
        {
          "output_type": "execute_result",
          "data": {
            "text/plain": [
              "array(['Y', 'N'], dtype=object)"
            ]
          },
          "metadata": {},
          "execution_count": 193
        }
      ],
      "source": [
        "#to get the unique values of car owner column\n",
        "df3[\"Car_Owner\"].unique()"
      ]
    },
    {
      "cell_type": "code",
      "execution_count": null,
      "id": "4fb434e9",
      "metadata": {
        "colab": {
          "base_uri": "https://localhost:8080/"
        },
        "id": "4fb434e9",
        "outputId": "8ac47ef2-f808-4e3f-a029-2ad3b398a2c5"
      },
      "outputs": [
        {
          "output_type": "execute_result",
          "data": {
            "text/plain": [
              "array(['Y', 'N'], dtype=object)"
            ]
          },
          "metadata": {},
          "execution_count": 194
        }
      ],
      "source": [
        "##to get the unique values of property owner column\n",
        "df3[\"Propert_Owner\"].unique()"
      ]
    },
    {
      "cell_type": "code",
      "execution_count": null,
      "id": "549e46c4",
      "metadata": {
        "colab": {
          "base_uri": "https://localhost:8080/"
        },
        "id": "549e46c4",
        "outputId": "e3c8879e-1180-4c2f-e585-9fd17fe37aff"
      },
      "outputs": [
        {
          "output_type": "execute_result",
          "data": {
            "text/plain": [
              "array(['Pensioner', 'Commercial associate', 'Working', 'State servant'],\n",
              "      dtype=object)"
            ]
          },
          "metadata": {},
          "execution_count": 195
        }
      ],
      "source": [
        "#to get the unique values of type of income column\n",
        "df3[\"Type_Income\"].unique()"
      ]
    },
    {
      "cell_type": "code",
      "execution_count": null,
      "id": "08ad6e85",
      "metadata": {
        "colab": {
          "base_uri": "https://localhost:8080/"
        },
        "id": "08ad6e85",
        "outputId": "c28bef15-ba88-49a9-8317-ade74510859f"
      },
      "outputs": [
        {
          "output_type": "execute_result",
          "data": {
            "text/plain": [
              "array(['Higher education', 'Secondary / secondary special',\n",
              "       'Lower secondary', 'Incomplete higher', 'Academic degree'],\n",
              "      dtype=object)"
            ]
          },
          "metadata": {},
          "execution_count": 196
        }
      ],
      "source": [
        "#to get the unique values of education column\n",
        "df3[\"EDUCATION\"].unique()"
      ]
    },
    {
      "cell_type": "code",
      "execution_count": null,
      "id": "3773bf62",
      "metadata": {
        "id": "3773bf62"
      },
      "outputs": [],
      "source": [
        "#performing ordinal encoding using map fuction\n",
        "df3['GENDER'] = df3.GENDER.map({'M': 0, 'F':1})\n",
        "\n",
        "df3['Car_Owner'] = df3.Car_Owner.map({'Y': 0, 'N':1})\n",
        "\n",
        "df3['Propert_Owner'] = df3.Propert_Owner.map({'Y': 0, 'N':1})\n",
        "df3['Type_Income'] = df3.Type_Income.map({\"Pensioner\":0,\"Commercial associate\":1,\"Working\":2,\"State servant\":3})\n",
        "df3['EDUCATION'] = df3.EDUCATION.map({'Higher education':0, 'Secondary / secondary special':1,\n",
        "       'Lower secondary':2, 'Incomplete higher':3, 'Academic degree':4})\n",
        "df3['Housing_type'] = df3.Housing_type.map({'House / apartment':0, 'With parents':1, 'Rented apartment':2,\n",
        "       'Municipal apartment':3, 'Co-op apartment':4, 'Office apartment':5})"
      ]
    },
    {
      "cell_type": "code",
      "execution_count": null,
      "id": "50c77406",
      "metadata": {
        "colab": {
          "base_uri": "https://localhost:8080/",
          "height": 270
        },
        "id": "50c77406",
        "outputId": "cac0ba8d-b2ff-45c2-b7fe-eb59074e7497"
      },
      "outputs": [
        {
          "output_type": "execute_result",
          "data": {
            "text/plain": [
              "    Ind_ID  GENDER  Car_Owner  Propert_Owner  Annual_income  Type_Income  \\\n",
              "0  5008827     0.0          0              0       180000.0            0   \n",
              "1  5009744     1.0          0              1       315000.0            1   \n",
              "2  5009746     1.0          0              1       315000.0            1   \n",
              "3  5009749     1.0          0              1            NaN            1   \n",
              "4  5009752     1.0          0              1       315000.0            1   \n",
              "\n",
              "   EDUCATION  Housing_type  Birthday_count  Employed_days  Mobile_phone  \\\n",
              "0          0             0        -18772.0         365243             1   \n",
              "1          0             0        -13557.0           -586             1   \n",
              "2          0             0             NaN           -586             1   \n",
              "3          0             0        -13557.0           -586             1   \n",
              "4          0             0        -13557.0           -586             1   \n",
              "\n",
              "   label  Annual_income_log  \n",
              "0      1          12.100712  \n",
              "1      1          12.660328  \n",
              "2      1          12.660328  \n",
              "3      1                NaN  \n",
              "4      1          12.660328  "
            ],
            "text/html": [
              "\n",
              "  <div id=\"df-6ee0ca61-d56d-4630-be49-5933b2486e98\">\n",
              "    <div class=\"colab-df-container\">\n",
              "      <div>\n",
              "<style scoped>\n",
              "    .dataframe tbody tr th:only-of-type {\n",
              "        vertical-align: middle;\n",
              "    }\n",
              "\n",
              "    .dataframe tbody tr th {\n",
              "        vertical-align: top;\n",
              "    }\n",
              "\n",
              "    .dataframe thead th {\n",
              "        text-align: right;\n",
              "    }\n",
              "</style>\n",
              "<table border=\"1\" class=\"dataframe\">\n",
              "  <thead>\n",
              "    <tr style=\"text-align: right;\">\n",
              "      <th></th>\n",
              "      <th>Ind_ID</th>\n",
              "      <th>GENDER</th>\n",
              "      <th>Car_Owner</th>\n",
              "      <th>Propert_Owner</th>\n",
              "      <th>Annual_income</th>\n",
              "      <th>Type_Income</th>\n",
              "      <th>EDUCATION</th>\n",
              "      <th>Housing_type</th>\n",
              "      <th>Birthday_count</th>\n",
              "      <th>Employed_days</th>\n",
              "      <th>Mobile_phone</th>\n",
              "      <th>label</th>\n",
              "      <th>Annual_income_log</th>\n",
              "    </tr>\n",
              "  </thead>\n",
              "  <tbody>\n",
              "    <tr>\n",
              "      <th>0</th>\n",
              "      <td>5008827</td>\n",
              "      <td>0.0</td>\n",
              "      <td>0</td>\n",
              "      <td>0</td>\n",
              "      <td>180000.0</td>\n",
              "      <td>0</td>\n",
              "      <td>0</td>\n",
              "      <td>0</td>\n",
              "      <td>-18772.0</td>\n",
              "      <td>365243</td>\n",
              "      <td>1</td>\n",
              "      <td>1</td>\n",
              "      <td>12.100712</td>\n",
              "    </tr>\n",
              "    <tr>\n",
              "      <th>1</th>\n",
              "      <td>5009744</td>\n",
              "      <td>1.0</td>\n",
              "      <td>0</td>\n",
              "      <td>1</td>\n",
              "      <td>315000.0</td>\n",
              "      <td>1</td>\n",
              "      <td>0</td>\n",
              "      <td>0</td>\n",
              "      <td>-13557.0</td>\n",
              "      <td>-586</td>\n",
              "      <td>1</td>\n",
              "      <td>1</td>\n",
              "      <td>12.660328</td>\n",
              "    </tr>\n",
              "    <tr>\n",
              "      <th>2</th>\n",
              "      <td>5009746</td>\n",
              "      <td>1.0</td>\n",
              "      <td>0</td>\n",
              "      <td>1</td>\n",
              "      <td>315000.0</td>\n",
              "      <td>1</td>\n",
              "      <td>0</td>\n",
              "      <td>0</td>\n",
              "      <td>NaN</td>\n",
              "      <td>-586</td>\n",
              "      <td>1</td>\n",
              "      <td>1</td>\n",
              "      <td>12.660328</td>\n",
              "    </tr>\n",
              "    <tr>\n",
              "      <th>3</th>\n",
              "      <td>5009749</td>\n",
              "      <td>1.0</td>\n",
              "      <td>0</td>\n",
              "      <td>1</td>\n",
              "      <td>NaN</td>\n",
              "      <td>1</td>\n",
              "      <td>0</td>\n",
              "      <td>0</td>\n",
              "      <td>-13557.0</td>\n",
              "      <td>-586</td>\n",
              "      <td>1</td>\n",
              "      <td>1</td>\n",
              "      <td>NaN</td>\n",
              "    </tr>\n",
              "    <tr>\n",
              "      <th>4</th>\n",
              "      <td>5009752</td>\n",
              "      <td>1.0</td>\n",
              "      <td>0</td>\n",
              "      <td>1</td>\n",
              "      <td>315000.0</td>\n",
              "      <td>1</td>\n",
              "      <td>0</td>\n",
              "      <td>0</td>\n",
              "      <td>-13557.0</td>\n",
              "      <td>-586</td>\n",
              "      <td>1</td>\n",
              "      <td>1</td>\n",
              "      <td>12.660328</td>\n",
              "    </tr>\n",
              "  </tbody>\n",
              "</table>\n",
              "</div>\n",
              "      <button class=\"colab-df-convert\" onclick=\"convertToInteractive('df-6ee0ca61-d56d-4630-be49-5933b2486e98')\"\n",
              "              title=\"Convert this dataframe to an interactive table.\"\n",
              "              style=\"display:none;\">\n",
              "        \n",
              "  <svg xmlns=\"http://www.w3.org/2000/svg\" height=\"24px\"viewBox=\"0 0 24 24\"\n",
              "       width=\"24px\">\n",
              "    <path d=\"M0 0h24v24H0V0z\" fill=\"none\"/>\n",
              "    <path d=\"M18.56 5.44l.94 2.06.94-2.06 2.06-.94-2.06-.94-.94-2.06-.94 2.06-2.06.94zm-11 1L8.5 8.5l.94-2.06 2.06-.94-2.06-.94L8.5 2.5l-.94 2.06-2.06.94zm10 10l.94 2.06.94-2.06 2.06-.94-2.06-.94-.94-2.06-.94 2.06-2.06.94z\"/><path d=\"M17.41 7.96l-1.37-1.37c-.4-.4-.92-.59-1.43-.59-.52 0-1.04.2-1.43.59L10.3 9.45l-7.72 7.72c-.78.78-.78 2.05 0 2.83L4 21.41c.39.39.9.59 1.41.59.51 0 1.02-.2 1.41-.59l7.78-7.78 2.81-2.81c.8-.78.8-2.07 0-2.86zM5.41 20L4 18.59l7.72-7.72 1.47 1.35L5.41 20z\"/>\n",
              "  </svg>\n",
              "      </button>\n",
              "      \n",
              "  <style>\n",
              "    .colab-df-container {\n",
              "      display:flex;\n",
              "      flex-wrap:wrap;\n",
              "      gap: 12px;\n",
              "    }\n",
              "\n",
              "    .colab-df-convert {\n",
              "      background-color: #E8F0FE;\n",
              "      border: none;\n",
              "      border-radius: 50%;\n",
              "      cursor: pointer;\n",
              "      display: none;\n",
              "      fill: #1967D2;\n",
              "      height: 32px;\n",
              "      padding: 0 0 0 0;\n",
              "      width: 32px;\n",
              "    }\n",
              "\n",
              "    .colab-df-convert:hover {\n",
              "      background-color: #E2EBFA;\n",
              "      box-shadow: 0px 1px 2px rgba(60, 64, 67, 0.3), 0px 1px 3px 1px rgba(60, 64, 67, 0.15);\n",
              "      fill: #174EA6;\n",
              "    }\n",
              "\n",
              "    [theme=dark] .colab-df-convert {\n",
              "      background-color: #3B4455;\n",
              "      fill: #D2E3FC;\n",
              "    }\n",
              "\n",
              "    [theme=dark] .colab-df-convert:hover {\n",
              "      background-color: #434B5C;\n",
              "      box-shadow: 0px 1px 3px 1px rgba(0, 0, 0, 0.15);\n",
              "      filter: drop-shadow(0px 1px 2px rgba(0, 0, 0, 0.3));\n",
              "      fill: #FFFFFF;\n",
              "    }\n",
              "  </style>\n",
              "\n",
              "      <script>\n",
              "        const buttonEl =\n",
              "          document.querySelector('#df-6ee0ca61-d56d-4630-be49-5933b2486e98 button.colab-df-convert');\n",
              "        buttonEl.style.display =\n",
              "          google.colab.kernel.accessAllowed ? 'block' : 'none';\n",
              "\n",
              "        async function convertToInteractive(key) {\n",
              "          const element = document.querySelector('#df-6ee0ca61-d56d-4630-be49-5933b2486e98');\n",
              "          const dataTable =\n",
              "            await google.colab.kernel.invokeFunction('convertToInteractive',\n",
              "                                                     [key], {});\n",
              "          if (!dataTable) return;\n",
              "\n",
              "          const docLinkHtml = 'Like what you see? Visit the ' +\n",
              "            '<a target=\"_blank\" href=https://colab.research.google.com/notebooks/data_table.ipynb>data table notebook</a>'\n",
              "            + ' to learn more about interactive tables.';\n",
              "          element.innerHTML = '';\n",
              "          dataTable['output_type'] = 'display_data';\n",
              "          await google.colab.output.renderOutput(dataTable, element);\n",
              "          const docLink = document.createElement('div');\n",
              "          docLink.innerHTML = docLinkHtml;\n",
              "          element.appendChild(docLink);\n",
              "        }\n",
              "      </script>\n",
              "    </div>\n",
              "  </div>\n",
              "  "
            ]
          },
          "metadata": {},
          "execution_count": 198
        }
      ],
      "source": [
        "df3.head()"
      ]
    },
    {
      "cell_type": "markdown",
      "id": "8fe1fd53",
      "metadata": {
        "id": "8fe1fd53"
      },
      "source": [
        "**Imputing null values:**"
      ]
    },
    {
      "cell_type": "markdown",
      "source": [
        "Lets see the all Imputation techniques plots\n",
        "\n",
        "Mean Imputation technique"
      ],
      "metadata": {
        "id": "Bj2Xiqq0bTDS"
      },
      "id": "Bj2Xiqq0bTDS"
    },
    {
      "cell_type": "code",
      "source": [
        "from sklearn.impute import SimpleImputer # importing simple imputer\n",
        "df3_mean = df3.copy(deep=True) # creating a copy for further evaluation\n",
        "mean_imputer = SimpleImputer(strategy='mean') # using mean to impute the value\n",
        "df3_mean.iloc[:, :] = mean_imputer.fit_transform(df3_mean) #  both fit a model to the data and then transform the data using that model"
      ],
      "metadata": {
        "id": "_2wE2bG_bQdq"
      },
      "id": "_2wE2bG_bQdq",
      "execution_count": null,
      "outputs": []
    },
    {
      "cell_type": "markdown",
      "source": [
        "**Mode imputation technique**"
      ],
      "metadata": {
        "id": "nAlOiJaIbnxo"
      },
      "id": "nAlOiJaIbnxo"
    },
    {
      "cell_type": "code",
      "source": [
        "df3_mode = df3.copy(deep=True) # creating a copy for further evaluation\n",
        "mode_imputer = SimpleImputer(strategy='most_frequent') # using most frequent to impute the value\n",
        "df3_mode.iloc[:, :] = mode_imputer.fit_transform(df3_mode)"
      ],
      "metadata": {
        "id": "aSeQevk8bnNg"
      },
      "id": "aSeQevk8bnNg",
      "execution_count": null,
      "outputs": []
    },
    {
      "cell_type": "markdown",
      "source": [
        "**Median imputation technique**"
      ],
      "metadata": {
        "id": "wuvOUX5rdIDQ"
      },
      "id": "wuvOUX5rdIDQ"
    },
    {
      "cell_type": "code",
      "source": [
        "df3_median = df3.copy(deep=True) # creating a copy for further evaluation\n",
        "median_imputer = SimpleImputer(strategy='median') # using median to impute the value\n",
        "df3_median.iloc[:, :] = median_imputer.fit_transform(df3_median)"
      ],
      "metadata": {
        "id": "g6erUR6mdObU"
      },
      "id": "g6erUR6mdObU",
      "execution_count": null,
      "outputs": []
    },
    {
      "cell_type": "markdown",
      "source": [
        "**MICE Imputation technique**"
      ],
      "metadata": {
        "id": "n3mjaE6Db9Xt"
      },
      "id": "n3mjaE6Db9Xt"
    },
    {
      "cell_type": "code",
      "source": [
        "from fancyimpute import IterativeImputer # importing iterative imputers\n",
        "MICE_imputer = IterativeImputer() # calling iterativeIMputer\n",
        "df3_MICE = df3.copy(deep=True) # creating a copy of penguin\n",
        "df3_MICE.iloc[:, :] = MICE_imputer.fit_transform(df3_MICE)"
      ],
      "metadata": {
        "id": "lWEZjgLdbN32"
      },
      "id": "lWEZjgLdbN32",
      "execution_count": null,
      "outputs": []
    },
    {
      "cell_type": "markdown",
      "id": "b62c2fda",
      "metadata": {
        "id": "b62c2fda"
      },
      "source": [
        "Imputing knn values:"
      ]
    },
    {
      "cell_type": "code",
      "execution_count": null,
      "id": "ecfc2b6d",
      "metadata": {
        "colab": {
          "base_uri": "https://localhost:8080/"
        },
        "id": "ecfc2b6d",
        "outputId": "056428a9-9625-4181-d0c5-11d47baf9749"
      },
      "outputs": [
        {
          "output_type": "stream",
          "name": "stdout",
          "text": [
            "Imputing row 1/1548 with 0 missing, elapsed time: 0.559\n",
            "Imputing row 101/1548 with 0 missing, elapsed time: 0.562\n",
            "Imputing row 201/1548 with 0 missing, elapsed time: 0.563\n",
            "Imputing row 301/1548 with 0 missing, elapsed time: 0.565\n",
            "Imputing row 401/1548 with 0 missing, elapsed time: 0.566\n",
            "Imputing row 501/1548 with 0 missing, elapsed time: 0.569\n",
            "Imputing row 601/1548 with 0 missing, elapsed time: 0.570\n",
            "Imputing row 701/1548 with 0 missing, elapsed time: 0.570\n",
            "Imputing row 801/1548 with 0 missing, elapsed time: 0.573\n",
            "Imputing row 901/1548 with 0 missing, elapsed time: 0.574\n",
            "Imputing row 1001/1548 with 0 missing, elapsed time: 0.576\n",
            "Imputing row 1101/1548 with 0 missing, elapsed time: 0.577\n",
            "Imputing row 1201/1548 with 0 missing, elapsed time: 0.579\n",
            "Imputing row 1301/1548 with 0 missing, elapsed time: 0.580\n",
            "Imputing row 1401/1548 with 0 missing, elapsed time: 0.582\n",
            "Imputing row 1501/1548 with 0 missing, elapsed time: 0.583\n"
          ]
        }
      ],
      "source": [
        "# Using KNN technique i am going to fill the missing values\n",
        "from fancyimpute import KNN\n",
        "knn_imputer = KNN()\n",
        "df3_knn = df3.copy(deep=True)\n",
        "df3_knn.iloc[:, :] = knn_imputer.fit_transform(df3_knn)"
      ]
    },
    {
      "cell_type": "markdown",
      "source": [],
      "metadata": {
        "id": "4uGsSW1tc1Nz"
      },
      "id": "4uGsSW1tc1Nz"
    },
    {
      "cell_type": "code",
      "source": [
        "fig, axes = plt.subplots(nrows=2, ncols=3, figsize=(10, 10)) # creating 2 rows and 3 columns\n",
        "nullity = df3['Birthday_count'].isnull() + df3['Annual_income'].isnull() # creating null columns between gender and annaul income\n",
        "imputations = {'Mean Imputation': df3_mean, # creating a python dictionary\n",
        "               'Median Imputation': df3_median,\n",
        "               'Most Frequent Imputation': df3_mode,\n",
        "               'KNN Imputation': df3_knn,\n",
        "              'MICE Imputation': df3_MICE}\n",
        "\n",
        "for ax, df_key in zip(axes.flatten(), imputations): # a for loop to iterate over the subplots and the imputed data\n",
        "    imputations[df_key].plot(x='Birthday_count', y='Annual_income', kind='scatter',\n",
        "                             alpha=0.5, c=nullity, cmap='rainbow', ax=ax,\n",
        "                             colorbar=False, title=df_key)"
      ],
      "metadata": {
        "colab": {
          "base_uri": "https://localhost:8080/",
          "height": 887
        },
        "id": "pW41kEYNc0R8",
        "outputId": "c87799e9-1463-41c5-d42c-3768bea89138"
      },
      "id": "pW41kEYNc0R8",
      "execution_count": null,
      "outputs": [
        {
          "output_type": "display_data",
          "data": {
            "text/plain": [
              "<Figure size 1000x1000 with 6 Axes>"
            ],
            "image/png": "[encoded data removed]"
          },
          "metadata": {}
        }
      ]
    },
    {
      "cell_type": "markdown",
      "source": [
        "**Observation:** As per the above graph, Both KNN and MICE are good imputation methods for the dataset. Here I am going to choose KNN for the model."
      ],
      "metadata": {
        "id": "zOrKp9NXpr9b"
      },
      "id": "zOrKp9NXpr9b"
    },
    {
      "cell_type": "code",
      "execution_count": null,
      "id": "99ea56a5",
      "metadata": {
        "colab": {
          "base_uri": "https://localhost:8080/"
        },
        "id": "99ea56a5",
        "outputId": "8512ffeb-9c13-4930-9937-76bad1efdddc"
      },
      "outputs": [
        {
          "output_type": "execute_result",
          "data": {
            "text/plain": [
              "Ind_ID               0\n",
              "GENDER               0\n",
              "Car_Owner            0\n",
              "Propert_Owner        0\n",
              "Annual_income        0\n",
              "Type_Income          0\n",
              "EDUCATION            0\n",
              "Housing_type         0\n",
              "Birthday_count       0\n",
              "Employed_days        0\n",
              "Mobile_phone         0\n",
              "label                0\n",
              "Annual_income_log    0\n",
              "dtype: int64"
            ]
          },
          "metadata": {},
          "execution_count": 205
        }
      ],
      "source": [
        "df3_knn.isnull().sum()"
      ]
    },
    {
      "cell_type": "markdown",
      "id": "b5388db4",
      "metadata": {
        "id": "b5388db4"
      },
      "source": [
        "**After applying imputation we have cleaned data.No missing values.**"
      ]
    },
    {
      "cell_type": "markdown",
      "id": "25b9795d",
      "metadata": {
        "id": "25b9795d"
      },
      "source": [
        "**Getting independent features in dataset(X) and dependent feature in series(y)**"
      ]
    },
    {
      "cell_type": "code",
      "execution_count": null,
      "id": "5c5dcecc",
      "metadata": {
        "colab": {
          "base_uri": "https://localhost:8080/"
        },
        "id": "5c5dcecc",
        "outputId": "a2f206e7-8209-470d-8cf9-93a5583750a4"
      },
      "outputs": [
        {
          "output_type": "stream",
          "name": "stdout",
          "text": [
            "      Ind_ID  GENDER  Car_Owner  Propert_Owner  Annual_income  Type_Income  \\\n",
            "0  5008827.0     0.0        0.0            0.0  180000.000000          0.0   \n",
            "1  5009744.0     1.0        0.0            1.0  315000.000000          1.0   \n",
            "2  5009746.0     1.0        0.0            1.0  315000.000000          1.0   \n",
            "3  5009749.0     1.0        0.0            1.0  314999.970367          1.0   \n",
            "4  5009752.0     1.0        0.0            1.0  315000.000000          1.0   \n",
            "\n",
            "   EDUCATION  Housing_type  Birthday_count  Employed_days  Mobile_phone  \\\n",
            "0        0.0           0.0   -18772.000000       365243.0           1.0   \n",
            "1        0.0           0.0   -13557.000000         -586.0           1.0   \n",
            "2        0.0           0.0   -13557.000167         -586.0           1.0   \n",
            "3        0.0           0.0   -13557.000000         -586.0           1.0   \n",
            "4        0.0           0.0   -13557.000000         -586.0           1.0   \n",
            "\n",
            "   Annual_income_log  \n",
            "0          12.100712  \n",
            "1          12.660328  \n",
            "2          12.660328  \n",
            "3          12.660327  \n",
            "4          12.660328  \n"
          ]
        },
        {
          "output_type": "execute_result",
          "data": {
            "text/plain": [
              "0    1.0\n",
              "1    1.0\n",
              "2    1.0\n",
              "3    1.0\n",
              "4    1.0\n",
              "Name: label, dtype: float64"
            ]
          },
          "metadata": {},
          "execution_count": 206
        }
      ],
      "source": [
        "x=df3_knn.drop([\"label\"],axis=1)\n",
        "print(x.head())\n",
        "y=df3_knn[\"label\"]\n",
        "y.head()"
      ]
    },
    {
      "cell_type": "markdown",
      "id": "69462a13",
      "metadata": {
        "id": "69462a13"
      },
      "source": [
        "**Feature selection and model bulding**"
      ]
    },
    {
      "cell_type": "code",
      "execution_count": null,
      "id": "b336c9cf",
      "metadata": {
        "colab": {
          "base_uri": "https://localhost:8080/"
        },
        "id": "b336c9cf",
        "outputId": "fd82db4d-5f5e-443b-ead6-b97c4280023a"
      },
      "outputs": [
        {
          "output_type": "stream",
          "name": "stdout",
          "text": [
            "Optimization terminated successfully.\n",
            "         Current function value: 0.338312\n",
            "         Iterations 7\n",
            "                          Results: Logit\n",
            "==================================================================\n",
            "Model:               Logit            Pseudo R-squared: 0.041     \n",
            "Dependent Variable:  label            AIC:              1071.4131 \n",
            "Date:                2023-05-10 13:40 BIC:              1135.5497 \n",
            "No. Observations:    1548             Log-Likelihood:   -523.71   \n",
            "Df Model:            11               LL-Null:          -546.20   \n",
            "Df Residuals:        1536             LLR p-value:      4.8735e-06\n",
            "Converged:           1.0000           Scale:            1.0000    \n",
            "No. Iterations:      7.0000                                       \n",
            "------------------------------------------------------------------\n",
            "                   Coef.  Std.Err.    z    P>|z|   [0.025   0.975]\n",
            "------------------------------------------------------------------\n",
            "Ind_ID             0.0000   0.0000  0.4108 0.6812  -0.0000  0.0000\n",
            "GENDER            -0.4215   0.1861 -2.2649 0.0235  -0.7862 -0.0567\n",
            "Car_Owner          0.2217   0.1868  1.1870 0.2352  -0.1444  0.5878\n",
            "Propert_Owner      0.0571   0.1765  0.3235 0.7463  -0.2888  0.4030\n",
            "Annual_income      0.0000   0.0000  0.4058 0.6849  -0.0000  0.0000\n",
            "Type_Income       -0.6701   0.1565 -4.2806 0.0000  -0.9769 -0.3633\n",
            "EDUCATION         -0.1410   0.1326 -1.0633 0.2876  -0.4010  0.1189\n",
            "Housing_type       0.3333   0.0847  3.9355 0.0001   0.1673  0.4993\n",
            "Birthday_count    -0.0000   0.0000 -1.5586 0.1191  -0.0001  0.0000\n",
            "Employed_days     -0.0000   0.0000 -2.8047 0.0050  -0.0000 -0.0000\n",
            "Mobile_phone      -4.3264  11.1589 -0.3877 0.6982 -26.1975 17.5447\n",
            "Annual_income_log -0.1144   0.3692 -0.3100 0.7566  -0.8381  0.6092\n",
            "==================================================================\n",
            "\n"
          ]
        }
      ],
      "source": [
        "import statsmodels.api as sm\n",
        "logit_model=sm.Logit(y,x)\n",
        "result=logit_model.fit()\n",
        "print(result.summary2())"
      ]
    },
    {
      "cell_type": "markdown",
      "id": "0aa6c38f",
      "metadata": {
        "id": "0aa6c38f"
      },
      "source": [
        "**OBSERVATION:** Based on the P-value \"Ind_ID\", \"Car_Owner\", \"Propert_Owner\", \"Annual_income\", \"EDUCATION\", \"Mobile_phone\", \"Annual_income_log\" are not necessary. we can remove the variables whose p-value is greater than 0.05."
      ]
    },
    {
      "cell_type": "code",
      "execution_count": null,
      "id": "51eb03ae",
      "metadata": {
        "colab": {
          "base_uri": "https://localhost:8080/",
          "height": 206
        },
        "id": "51eb03ae",
        "outputId": "b4555522-37fc-4b40-8994-a8dfae03d9ed"
      },
      "outputs": [
        {
          "output_type": "execute_result",
          "data": {
            "text/plain": [
              "   GENDER  Type_Income  Housing_type  Birthday_count  Employed_days  label\n",
              "0     0.0          0.0           0.0   -18772.000000       365243.0    1.0\n",
              "1     1.0          1.0           0.0   -13557.000000         -586.0    1.0\n",
              "2     1.0          1.0           0.0   -13557.000167         -586.0    1.0\n",
              "3     1.0          1.0           0.0   -13557.000000         -586.0    1.0\n",
              "4     1.0          1.0           0.0   -13557.000000         -586.0    1.0"
            ],
            "text/html": [
              "\n",
              "  <div id=\"df-f1cbcc58-0581-4f04-a667-236b66ea82d1\">\n",
              "    <div class=\"colab-df-container\">\n",
              "      <div>\n",
              "<style scoped>\n",
              "    .dataframe tbody tr th:only-of-type {\n",
              "        vertical-align: middle;\n",
              "    }\n",
              "\n",
              "    .dataframe tbody tr th {\n",
              "        vertical-align: top;\n",
              "    }\n",
              "\n",
              "    .dataframe thead th {\n",
              "        text-align: right;\n",
              "    }\n",
              "</style>\n",
              "<table border=\"1\" class=\"dataframe\">\n",
              "  <thead>\n",
              "    <tr style=\"text-align: right;\">\n",
              "      <th></th>\n",
              "      <th>GENDER</th>\n",
              "      <th>Type_Income</th>\n",
              "      <th>Housing_type</th>\n",
              "      <th>Birthday_count</th>\n",
              "      <th>Employed_days</th>\n",
              "      <th>label</th>\n",
              "    </tr>\n",
              "  </thead>\n",
              "  <tbody>\n",
              "    <tr>\n",
              "      <th>0</th>\n",
              "      <td>0.0</td>\n",
              "      <td>0.0</td>\n",
              "      <td>0.0</td>\n",
              "      <td>-18772.000000</td>\n",
              "      <td>365243.0</td>\n",
              "      <td>1.0</td>\n",
              "    </tr>\n",
              "    <tr>\n",
              "      <th>1</th>\n",
              "      <td>1.0</td>\n",
              "      <td>1.0</td>\n",
              "      <td>0.0</td>\n",
              "      <td>-13557.000000</td>\n",
              "      <td>-586.0</td>\n",
              "      <td>1.0</td>\n",
              "    </tr>\n",
              "    <tr>\n",
              "      <th>2</th>\n",
              "      <td>1.0</td>\n",
              "      <td>1.0</td>\n",
              "      <td>0.0</td>\n",
              "      <td>-13557.000167</td>\n",
              "      <td>-586.0</td>\n",
              "      <td>1.0</td>\n",
              "    </tr>\n",
              "    <tr>\n",
              "      <th>3</th>\n",
              "      <td>1.0</td>\n",
              "      <td>1.0</td>\n",
              "      <td>0.0</td>\n",
              "      <td>-13557.000000</td>\n",
              "      <td>-586.0</td>\n",
              "      <td>1.0</td>\n",
              "    </tr>\n",
              "    <tr>\n",
              "      <th>4</th>\n",
              "      <td>1.0</td>\n",
              "      <td>1.0</td>\n",
              "      <td>0.0</td>\n",
              "      <td>-13557.000000</td>\n",
              "      <td>-586.0</td>\n",
              "      <td>1.0</td>\n",
              "    </tr>\n",
              "  </tbody>\n",
              "</table>\n",
              "</div>\n",
              "      <button class=\"colab-df-convert\" onclick=\"convertToInteractive('df-f1cbcc58-0581-4f04-a667-236b66ea82d1')\"\n",
              "              title=\"Convert this dataframe to an interactive table.\"\n",
              "              style=\"display:none;\">\n",
              "        \n",
              "  <svg xmlns=\"http://www.w3.org/2000/svg\" height=\"24px\"viewBox=\"0 0 24 24\"\n",
              "       width=\"24px\">\n",
              "    <path d=\"M0 0h24v24H0V0z\" fill=\"none\"/>\n",
              "    <path d=\"M18.56 5.44l.94 2.06.94-2.06 2.06-.94-2.06-.94-.94-2.06-.94 2.06-2.06.94zm-11 1L8.5 8.5l.94-2.06 2.06-.94-2.06-.94L8.5 2.5l-.94 2.06-2.06.94zm10 10l.94 2.06.94-2.06 2.06-.94-2.06-.94-.94-2.06-.94 2.06-2.06.94z\"/><path d=\"M17.41 7.96l-1.37-1.37c-.4-.4-.92-.59-1.43-.59-.52 0-1.04.2-1.43.59L10.3 9.45l-7.72 7.72c-.78.78-.78 2.05 0 2.83L4 21.41c.39.39.9.59 1.41.59.51 0 1.02-.2 1.41-.59l7.78-7.78 2.81-2.81c.8-.78.8-2.07 0-2.86zM5.41 20L4 18.59l7.72-7.72 1.47 1.35L5.41 20z\"/>\n",
              "  </svg>\n",
              "      </button>\n",
              "      \n",
              "  <style>\n",
              "    .colab-df-container {\n",
              "      display:flex;\n",
              "      flex-wrap:wrap;\n",
              "      gap: 12px;\n",
              "    }\n",
              "\n",
              "    .colab-df-convert {\n",
              "      background-color: #E8F0FE;\n",
              "      border: none;\n",
              "      border-radius: 50%;\n",
              "      cursor: pointer;\n",
              "      display: none;\n",
              "      fill: #1967D2;\n",
              "      height: 32px;\n",
              "      padding: 0 0 0 0;\n",
              "      width: 32px;\n",
              "    }\n",
              "\n",
              "    .colab-df-convert:hover {\n",
              "      background-color: #E2EBFA;\n",
              "      box-shadow: 0px 1px 2px rgba(60, 64, 67, 0.3), 0px 1px 3px 1px rgba(60, 64, 67, 0.15);\n",
              "      fill: #174EA6;\n",
              "    }\n",
              "\n",
              "    [theme=dark] .colab-df-convert {\n",
              "      background-color: #3B4455;\n",
              "      fill: #D2E3FC;\n",
              "    }\n",
              "\n",
              "    [theme=dark] .colab-df-convert:hover {\n",
              "      background-color: #434B5C;\n",
              "      box-shadow: 0px 1px 3px 1px rgba(0, 0, 0, 0.15);\n",
              "      filter: drop-shadow(0px 1px 2px rgba(0, 0, 0, 0.3));\n",
              "      fill: #FFFFFF;\n",
              "    }\n",
              "  </style>\n",
              "\n",
              "      <script>\n",
              "        const buttonEl =\n",
              "          document.querySelector('#df-f1cbcc58-0581-4f04-a667-236b66ea82d1 button.colab-df-convert');\n",
              "        buttonEl.style.display =\n",
              "          google.colab.kernel.accessAllowed ? 'block' : 'none';\n",
              "\n",
              "        async function convertToInteractive(key) {\n",
              "          const element = document.querySelector('#df-f1cbcc58-0581-4f04-a667-236b66ea82d1');\n",
              "          const dataTable =\n",
              "            await google.colab.kernel.invokeFunction('convertToInteractive',\n",
              "                                                     [key], {});\n",
              "          if (!dataTable) return;\n",
              "\n",
              "          const docLinkHtml = 'Like what you see? Visit the ' +\n",
              "            '<a target=\"_blank\" href=https://colab.research.google.com/notebooks/data_table.ipynb>data table notebook</a>'\n",
              "            + ' to learn more about interactive tables.';\n",
              "          element.innerHTML = '';\n",
              "          dataTable['output_type'] = 'display_data';\n",
              "          await google.colab.output.renderOutput(dataTable, element);\n",
              "          const docLink = document.createElement('div');\n",
              "          docLink.innerHTML = docLinkHtml;\n",
              "          element.appendChild(docLink);\n",
              "        }\n",
              "      </script>\n",
              "    </div>\n",
              "  </div>\n",
              "  "
            ]
          },
          "metadata": {},
          "execution_count": 208
        }
      ],
      "source": [
        "#dropping unnessary columns\n",
        "x=df3_knn.drop([\"Ind_ID\", \"Car_Owner\", \"Propert_Owner\",\"Annual_income\",\"EDUCATION\",\"Mobile_phone\",\"Annual_income_log\"], axis = 1)\n",
        "x.head()"
      ]
    },
    {
      "cell_type": "markdown",
      "id": "12237c5d",
      "metadata": {
        "id": "12237c5d"
      },
      "source": [
        "**Splitting data into Training and Test data**"
      ]
    },
    {
      "cell_type": "code",
      "execution_count": null,
      "id": "98e99a0a",
      "metadata": {
        "id": "98e99a0a"
      },
      "outputs": [],
      "source": [
        "x = df3_knn[[\"GENDER\",\"Type_Income\",\"Housing_type\",\"Birthday_count\",\"Employed_days\"]]\n",
        "y = df3_knn.label"
      ]
    },
    {
      "cell_type": "code",
      "execution_count": null,
      "id": "28be5192",
      "metadata": {
        "colab": {
          "base_uri": "https://localhost:8080/",
          "height": 206
        },
        "id": "28be5192",
        "outputId": "0978e8be-cdd2-4398-b11e-eda074896d8c"
      },
      "outputs": [
        {
          "output_type": "execute_result",
          "data": {
            "text/plain": [
              "   GENDER  Type_Income  Housing_type  Birthday_count  Employed_days\n",
              "0     0.0          0.0           0.0   -18772.000000       365243.0\n",
              "1     1.0          1.0           0.0   -13557.000000         -586.0\n",
              "2     1.0          1.0           0.0   -13557.000167         -586.0\n",
              "3     1.0          1.0           0.0   -13557.000000         -586.0\n",
              "4     1.0          1.0           0.0   -13557.000000         -586.0"
            ],
            "text/html": [
              "\n",
              "  <div id=\"df-ce57c823-4007-4f00-91d9-693b0e0bdbc7\">\n",
              "    <div class=\"colab-df-container\">\n",
              "      <div>\n",
              "<style scoped>\n",
              "    .dataframe tbody tr th:only-of-type {\n",
              "        vertical-align: middle;\n",
              "    }\n",
              "\n",
              "    .dataframe tbody tr th {\n",
              "        vertical-align: top;\n",
              "    }\n",
              "\n",
              "    .dataframe thead th {\n",
              "        text-align: right;\n",
              "    }\n",
              "</style>\n",
              "<table border=\"1\" class=\"dataframe\">\n",
              "  <thead>\n",
              "    <tr style=\"text-align: right;\">\n",
              "      <th></th>\n",
              "      <th>GENDER</th>\n",
              "      <th>Type_Income</th>\n",
              "      <th>Housing_type</th>\n",
              "      <th>Birthday_count</th>\n",
              "      <th>Employed_days</th>\n",
              "    </tr>\n",
              "  </thead>\n",
              "  <tbody>\n",
              "    <tr>\n",
              "      <th>0</th>\n",
              "      <td>0.0</td>\n",
              "      <td>0.0</td>\n",
              "      <td>0.0</td>\n",
              "      <td>-18772.000000</td>\n",
              "      <td>365243.0</td>\n",
              "    </tr>\n",
              "    <tr>\n",
              "      <th>1</th>\n",
              "      <td>1.0</td>\n",
              "      <td>1.0</td>\n",
              "      <td>0.0</td>\n",
              "      <td>-13557.000000</td>\n",
              "      <td>-586.0</td>\n",
              "    </tr>\n",
              "    <tr>\n",
              "      <th>2</th>\n",
              "      <td>1.0</td>\n",
              "      <td>1.0</td>\n",
              "      <td>0.0</td>\n",
              "      <td>-13557.000167</td>\n",
              "      <td>-586.0</td>\n",
              "    </tr>\n",
              "    <tr>\n",
              "      <th>3</th>\n",
              "      <td>1.0</td>\n",
              "      <td>1.0</td>\n",
              "      <td>0.0</td>\n",
              "      <td>-13557.000000</td>\n",
              "      <td>-586.0</td>\n",
              "    </tr>\n",
              "    <tr>\n",
              "      <th>4</th>\n",
              "      <td>1.0</td>\n",
              "      <td>1.0</td>\n",
              "      <td>0.0</td>\n",
              "      <td>-13557.000000</td>\n",
              "      <td>-586.0</td>\n",
              "    </tr>\n",
              "  </tbody>\n",
              "</table>\n",
              "</div>\n",
              "      <button class=\"colab-df-convert\" onclick=\"convertToInteractive('df-ce57c823-4007-4f00-91d9-693b0e0bdbc7')\"\n",
              "              title=\"Convert this dataframe to an interactive table.\"\n",
              "              style=\"display:none;\">\n",
              "        \n",
              "  <svg xmlns=\"http://www.w3.org/2000/svg\" height=\"24px\"viewBox=\"0 0 24 24\"\n",
              "       width=\"24px\">\n",
              "    <path d=\"M0 0h24v24H0V0z\" fill=\"none\"/>\n",
              "    <path d=\"M18.56 5.44l.94 2.06.94-2.06 2.06-.94-2.06-.94-.94-2.06-.94 2.06-2.06.94zm-11 1L8.5 8.5l.94-2.06 2.06-.94-2.06-.94L8.5 2.5l-.94 2.06-2.06.94zm10 10l.94 2.06.94-2.06 2.06-.94-2.06-.94-.94-2.06-.94 2.06-2.06.94z\"/><path d=\"M17.41 7.96l-1.37-1.37c-.4-.4-.92-.59-1.43-.59-.52 0-1.04.2-1.43.59L10.3 9.45l-7.72 7.72c-.78.78-.78 2.05 0 2.83L4 21.41c.39.39.9.59 1.41.59.51 0 1.02-.2 1.41-.59l7.78-7.78 2.81-2.81c.8-.78.8-2.07 0-2.86zM5.41 20L4 18.59l7.72-7.72 1.47 1.35L5.41 20z\"/>\n",
              "  </svg>\n",
              "      </button>\n",
              "      \n",
              "  <style>\n",
              "    .colab-df-container {\n",
              "      display:flex;\n",
              "      flex-wrap:wrap;\n",
              "      gap: 12px;\n",
              "    }\n",
              "\n",
              "    .colab-df-convert {\n",
              "      background-color: #E8F0FE;\n",
              "      border: none;\n",
              "      border-radius: 50%;\n",
              "      cursor: pointer;\n",
              "      display: none;\n",
              "      fill: #1967D2;\n",
              "      height: 32px;\n",
              "      padding: 0 0 0 0;\n",
              "      width: 32px;\n",
              "    }\n",
              "\n",
              "    .colab-df-convert:hover {\n",
              "      background-color: #E2EBFA;\n",
              "      box-shadow: 0px 1px 2px rgba(60, 64, 67, 0.3), 0px 1px 3px 1px rgba(60, 64, 67, 0.15);\n",
              "      fill: #174EA6;\n",
              "    }\n",
              "\n",
              "    [theme=dark] .colab-df-convert {\n",
              "      background-color: #3B4455;\n",
              "      fill: #D2E3FC;\n",
              "    }\n",
              "\n",
              "    [theme=dark] .colab-df-convert:hover {\n",
              "      background-color: #434B5C;\n",
              "      box-shadow: 0px 1px 3px 1px rgba(0, 0, 0, 0.15);\n",
              "      filter: drop-shadow(0px 1px 2px rgba(0, 0, 0, 0.3));\n",
              "      fill: #FFFFFF;\n",
              "    }\n",
              "  </style>\n",
              "\n",
              "      <script>\n",
              "        const buttonEl =\n",
              "          document.querySelector('#df-ce57c823-4007-4f00-91d9-693b0e0bdbc7 button.colab-df-convert');\n",
              "        buttonEl.style.display =\n",
              "          google.colab.kernel.accessAllowed ? 'block' : 'none';\n",
              "\n",
              "        async function convertToInteractive(key) {\n",
              "          const element = document.querySelector('#df-ce57c823-4007-4f00-91d9-693b0e0bdbc7');\n",
              "          const dataTable =\n",
              "            await google.colab.kernel.invokeFunction('convertToInteractive',\n",
              "                                                     [key], {});\n",
              "          if (!dataTable) return;\n",
              "\n",
              "          const docLinkHtml = 'Like what you see? Visit the ' +\n",
              "            '<a target=\"_blank\" href=https://colab.research.google.com/notebooks/data_table.ipynb>data table notebook</a>'\n",
              "            + ' to learn more about interactive tables.';\n",
              "          element.innerHTML = '';\n",
              "          dataTable['output_type'] = 'display_data';\n",
              "          await google.colab.output.renderOutput(dataTable, element);\n",
              "          const docLink = document.createElement('div');\n",
              "          docLink.innerHTML = docLinkHtml;\n",
              "          element.appendChild(docLink);\n",
              "        }\n",
              "      </script>\n",
              "    </div>\n",
              "  </div>\n",
              "  "
            ]
          },
          "metadata": {},
          "execution_count": 210
        }
      ],
      "source": [
        "x.head()"
      ]
    },
    {
      "cell_type": "code",
      "execution_count": null,
      "id": "61da1d48",
      "metadata": {
        "id": "61da1d48"
      },
      "outputs": [],
      "source": [
        "from sklearn.model_selection import train_test_split # importing train_test_split\n",
        "x_train, x_test, y_train, y_test = train_test_split(x, y, test_size=0.2, random_state=0) #20% is test and 80% is training"
      ]
    },
    {
      "cell_type": "code",
      "execution_count": null,
      "id": "0fe5a135",
      "metadata": {
        "colab": {
          "base_uri": "https://localhost:8080/"
        },
        "id": "0fe5a135",
        "outputId": "e2200968-783b-4689-9d07-a624897bf864"
      },
      "outputs": [
        {
          "output_type": "execute_result",
          "data": {
            "text/plain": [
              "((1238, 5), (1238,))"
            ]
          },
          "metadata": {},
          "execution_count": 212
        }
      ],
      "source": [
        "### both will have same shape\n",
        "x_train.shape, y_train.shape"
      ]
    },
    {
      "cell_type": "code",
      "execution_count": null,
      "id": "e4cb05c0",
      "metadata": {
        "colab": {
          "base_uri": "https://localhost:8080/"
        },
        "id": "e4cb05c0",
        "outputId": "7f0902a7-50bf-4336-9da8-41e0f60edbe1"
      },
      "outputs": [
        {
          "output_type": "execute_result",
          "data": {
            "text/plain": [
              "((310, 5), (310,))"
            ]
          },
          "metadata": {},
          "execution_count": 213
        }
      ],
      "source": [
        "## both will have same shape\n",
        "x_test.shape, y_test.shape"
      ]
    },
    {
      "cell_type": "markdown",
      "id": "2e89e6fe",
      "metadata": {
        "id": "2e89e6fe"
      },
      "source": [
        "**Standardisation/ feature scaling the dataset\n",
        "Feature scaling Perform to create same scale for all variables.**\n",
        "\n",
        "**Hence, all variables will have similar influnece on the model**"
      ]
    },
    {
      "cell_type": "code",
      "execution_count": null,
      "id": "2cc8d19e",
      "metadata": {
        "colab": {
          "base_uri": "https://localhost:8080/"
        },
        "id": "2cc8d19e",
        "outputId": "5aff2357-87eb-4099-c9c1-997108b194ab"
      },
      "outputs": [
        {
          "output_type": "execute_result",
          "data": {
            "text/plain": [
              "array([[ 0.7379887 ,  0.60911149, -0.30035453,  0.76721986, -0.46506348],\n",
              "       [ 0.7379887 ,  1.76745255, -0.30035453,  1.04556527, -0.45205493],\n",
              "       [ 0.7379887 ,  0.60911149, -0.30035453, -0.07370853, -0.45320274],\n",
              "       ...,\n",
              "       [ 0.7379887 ,  0.60911149, -0.30035453,  1.44646751, -0.46208767],\n",
              "       [-1.35718641, -0.54922956, -0.30035453, -1.1234549 , -0.45776566],\n",
              "       [-1.35718641, -0.54922956, -0.30035453, -0.0162011 , -0.45485361]])"
            ]
          },
          "metadata": {},
          "execution_count": 214
        }
      ],
      "source": [
        "#importing libraries to standardlize the variable\n",
        "from sklearn.preprocessing import StandardScaler\n",
        "ss=StandardScaler()       #create instance for standardscaler\n",
        "x_train=ss.fit_transform(x_train)\n",
        "x_train\n"
      ]
    },
    {
      "cell_type": "code",
      "execution_count": null,
      "id": "a7e6e7ee",
      "metadata": {
        "colab": {
          "base_uri": "https://localhost:8080/"
        },
        "id": "a7e6e7ee",
        "outputId": "73b327c2-2055-43ee-c749-2b27aca5fe26"
      },
      "outputs": [
        {
          "output_type": "execute_result",
          "data": {
            "text/plain": [
              "array([[-1.13806045e+00,  5.06757622e-01, -2.90777088e-01,\n",
              "         1.49482521e+00, -3.63242741e-01],\n",
              "       [ 8.80891146e-01,  5.06757622e-01, -2.90777088e-01,\n",
              "        -2.08225555e-03, -3.65044753e-01],\n",
              "       [ 8.80891146e-01, -1.80346095e+00, -2.90777088e-01,\n",
              "        -1.40585744e+00,  2.63554303e+00],\n",
              "       ...,\n",
              "       [ 8.80891146e-01, -6.48351664e-01, -2.90777088e-01,\n",
              "         3.14179465e-01, -3.71474660e-01],\n",
              "       [ 8.80891146e-01,  5.06757622e-01, -2.90777088e-01,\n",
              "        -8.26028777e-02, -3.71450087e-01],\n",
              "       [ 8.80891146e-01,  5.06757622e-01, -2.90777088e-01,\n",
              "         1.05535724e+00, -3.81361154e-01]])"
            ]
          },
          "metadata": {},
          "execution_count": 215
        }
      ],
      "source": [
        "x_test=ss.fit_transform(x_test)\n",
        "x_test"
      ]
    },
    {
      "cell_type": "markdown",
      "id": "98a93059",
      "metadata": {
        "id": "98a93059"
      },
      "source": [
        "**The problem statement is classification.so here we have to use classification ML models.**"
      ]
    },
    {
      "cell_type": "markdown",
      "id": "2d8a73df",
      "metadata": {
        "id": "2d8a73df"
      },
      "source": [
        "**LOGISTIC REGRESSION:**"
      ]
    },
    {
      "cell_type": "code",
      "execution_count": null,
      "id": "d88e96e1",
      "metadata": {
        "colab": {
          "base_uri": "https://localhost:8080/"
        },
        "id": "d88e96e1",
        "outputId": "c5e4543c-5781-4774-a9ee-193d86cc485e"
      },
      "outputs": [
        {
          "output_type": "execute_result",
          "data": {
            "text/plain": [
              "array([0., 0., 0., 0., 0., 0., 0., 0., 0., 0., 0., 0., 0., 0., 0., 0., 0.,\n",
              "       0., 0., 0., 0., 0., 0., 0., 0., 0., 0., 0., 0., 0., 0., 0., 0., 0.,\n",
              "       0., 0., 0., 0., 0., 0., 0., 0., 0., 0., 0., 0., 0., 0., 0., 0., 0.,\n",
              "       0., 0., 0., 0., 0., 0., 0., 0., 0., 0., 0., 0., 0., 0., 0., 0., 0.,\n",
              "       0., 0., 0., 0., 0., 0., 0., 0., 0., 0., 0., 0., 0., 0., 0., 0., 0.,\n",
              "       0., 0., 0., 0., 0., 0., 0., 0., 0., 0., 0., 0., 0., 0., 0., 0., 0.,\n",
              "       0., 0., 0., 0., 0., 0., 0., 0., 0., 0., 0., 0., 0., 0., 0., 0., 0.,\n",
              "       0., 0., 0., 0., 0., 0., 0., 0., 0., 0., 0., 0., 0., 0., 0., 0., 0.,\n",
              "       0., 0., 0., 0., 0., 0., 0., 0., 0., 0., 0., 0., 0., 0., 0., 0., 0.,\n",
              "       0., 0., 0., 0., 0., 0., 0., 0., 0., 0., 0., 0., 0., 0., 0., 0., 0.,\n",
              "       0., 0., 0., 0., 0., 0., 0., 0., 0., 0., 0., 0., 0., 0., 0., 0., 0.,\n",
              "       0., 0., 0., 0., 0., 0., 0., 0., 0., 0., 0., 0., 0., 0., 0., 0., 0.,\n",
              "       0., 0., 0., 0., 0., 0., 0., 0., 0., 0., 0., 0., 0., 0., 0., 0., 0.,\n",
              "       0., 0., 0., 0., 0., 0., 0., 0., 0., 0., 0., 0., 0., 0., 0., 0., 0.,\n",
              "       0., 0., 0., 0., 0., 0., 0., 0., 0., 0., 0., 0., 0., 0., 0., 0., 0.,\n",
              "       0., 0., 0., 0., 0., 0., 0., 0., 0., 0., 0., 0., 0., 0., 0., 0., 0.,\n",
              "       0., 0., 0., 0., 0., 0., 0., 0., 0., 0., 0., 0., 0., 0., 0., 0., 0.,\n",
              "       0., 0., 0., 0., 0., 0., 0., 0., 0., 0., 0., 0., 0., 0., 0., 0., 0.,\n",
              "       0., 0., 0., 0.])"
            ]
          },
          "metadata": {},
          "execution_count": 216
        }
      ],
      "source": [
        "#Create a Logistic regression\n",
        "from sklearn import linear_model\n",
        "logr=linear_model.LogisticRegression()\n",
        "#Train the model using the training sets\n",
        "logr.fit(x_train,y_train)\n",
        "#Predict the response for test dataset\n",
        "logr_pred=logr.predict(x_test)\n",
        "logr_pred"
      ]
    },
    {
      "cell_type": "code",
      "execution_count": null,
      "id": "a82412a3",
      "metadata": {
        "colab": {
          "base_uri": "https://localhost:8080/"
        },
        "id": "a82412a3",
        "outputId": "ed899bb9-ea9e-4966-ec89-642bfec54871"
      },
      "outputs": [
        {
          "output_type": "stream",
          "name": "stdout",
          "text": [
            "confusion matrix:\n",
            "[[275   0]\n",
            " [ 35   0]]\n",
            "Accuracy score 0.89\n",
            "Precision Score 0.0\n",
            "Recall score 0.0\n",
            "f1 score 0.0\n"
          ]
        }
      ],
      "source": [
        "#importing metrics\n",
        "from sklearn.metrics import confusion_matrix,accuracy_score,precision_score,recall_score,f1_score\n",
        "confusion_mat=confusion_matrix(y_test, logr_pred)   #create object for confusion matrix\n",
        "print(\"confusion matrix:\")\n",
        "print(confusion_mat)\n",
        "### accuracy using accuracy_score\n",
        "print(\"Accuracy score\",round(accuracy_score(y_test, logr_pred), 2))\n",
        "### precision using Precision_score\n",
        "print(\"Precision Score\",round(precision_score(y_test, logr_pred), 2))\n",
        "print(\"Recall score\",round(recall_score(y_test, logr_pred), 2))     #Recall using Recall_score\n",
        "print(\"f1 score\",round(f1_score(y_test,logr_pred), 2))              #f1_score using f1_score metric"
      ]
    },
    {
      "cell_type": "markdown",
      "id": "08562206",
      "metadata": {
        "id": "08562206"
      },
      "source": [
        "**LOG LOSS:**"
      ]
    },
    {
      "cell_type": "code",
      "execution_count": null,
      "id": "fa0d43f8",
      "metadata": {
        "colab": {
          "base_uri": "https://localhost:8080/"
        },
        "id": "fa0d43f8",
        "outputId": "91edc352-9427-456e-ba2a-80a0c5bbb34c"
      },
      "outputs": [
        {
          "output_type": "execute_result",
          "data": {
            "text/plain": [
              "0.34154374334129817"
            ]
          },
          "metadata": {},
          "execution_count": 218
        }
      ],
      "source": [
        "#checking log loss on test data\n",
        "from sklearn.metrics import log_loss     #importing log loss\n",
        "logloss = log_loss(y_test, logr.predict_proba(x_test)) #creating object for log loss\n",
        "logloss"
      ]
    },
    {
      "cell_type": "markdown",
      "id": "07a01900",
      "metadata": {
        "id": "07a01900"
      },
      "source": [
        "**Applying different classification ML models to get the high accuracy:**"
      ]
    },
    {
      "cell_type": "code",
      "execution_count": null,
      "id": "b17a0e55",
      "metadata": {
        "id": "b17a0e55"
      },
      "outputs": [],
      "source": [
        "#importing libraries for random forest,knn classifier,support vector classifier and decision tree.\n",
        "from sklearn.ensemble import RandomForestClassifier\n",
        "from sklearn.neighbors import KNeighborsClassifier\n",
        "from sklearn.svm import SVC\n",
        "from sklearn.tree import DecisionTreeClassifier  \n"
      ]
    },
    {
      "cell_type": "markdown",
      "id": "a2dc2839",
      "metadata": {
        "id": "a2dc2839"
      },
      "source": [
        "**DECISION TREE:**"
      ]
    },
    {
      "cell_type": "code",
      "execution_count": null,
      "id": "245a6745",
      "metadata": {
        "colab": {
          "base_uri": "https://localhost:8080/"
        },
        "id": "245a6745",
        "outputId": "6748f230-6798-4362-d971-d48f79a0b277"
      },
      "outputs": [
        {
          "output_type": "stream",
          "name": "stdout",
          "text": [
            "confusion matrix: [[263  12]\n",
            " [ 34   1]]\n",
            "Accuracy score 0.85\n",
            "Precision Score 0.08\n",
            "Recall score 0.03\n",
            "f1 score 0.04\n"
          ]
        }
      ],
      "source": [
        "#Create a Decision tree Classifier\n",
        "classifier= DecisionTreeClassifier(criterion='entropy', random_state=0)  \n",
        "#Train the model using the training sets\n",
        "classifier.fit(x_train, y_train)  \n",
        "#Predict the response for test dataset\n",
        "y_pred= classifier.predict(x_test)  \n",
        "cm= confusion_matrix(y_test, y_pred)\n",
        "print(\"confusion matrix:\",cm)\n",
        "### accuracy using accuracy_score\n",
        "print(\"Accuracy score\",round(accuracy_score(y_test, y_pred), 2))\n",
        "### precision using Precision_score\n",
        "print(\"Precision Score\",round(precision_score(y_test, y_pred), 2))\n",
        "print(\"Recall score\",round(recall_score(y_test, y_pred), 2))     #Recall using Recall_score\n",
        "print(\"f1 score\",round(f1_score(y_test,y_pred), 2))              #f1_score using f1_score metric"
      ]
    },
    {
      "cell_type": "markdown",
      "id": "0c99b082",
      "metadata": {
        "id": "0c99b082"
      },
      "source": [
        "**RANDOM FOREST CLASSIFIER:**"
      ]
    },
    {
      "cell_type": "code",
      "execution_count": null,
      "id": "715e0c9d",
      "metadata": {
        "colab": {
          "base_uri": "https://localhost:8080/"
        },
        "id": "715e0c9d",
        "outputId": "6a4089cc-7a48-46d7-b4b4-6cf719b30dc5"
      },
      "outputs": [
        {
          "output_type": "stream",
          "name": "stdout",
          "text": [
            "confusion matrix:\n",
            "[[273   2]\n",
            " [ 34   1]]\n",
            "Accuracy score 0.88\n",
            "Precision Score 0.33\n",
            "Recall score 0.03\n",
            "f1 score 0.05\n"
          ]
        }
      ],
      "source": [
        "#Create a Random forest Classifier\n",
        "classifier= RandomForestClassifier(n_estimators= 10, criterion=\"entropy\") \n",
        "#Train the model using the training sets\n",
        "classifier.fit(x_train, y_train) \n",
        "#Predict the response for test dataset\n",
        "y_pred1= classifier.predict(x_test)  \n",
        "cm= confusion_matrix(y_test, y_pred1)\n",
        "print(\"confusion matrix:\")\n",
        "print(cm)\n",
        "### accuracy using accuracy_score\n",
        "print(\"Accuracy score\",round(accuracy_score(y_test, y_pred1), 2))\n",
        "### precision using Precision_score\n",
        "print(\"Precision Score\",round(precision_score(y_test, y_pred1), 2))\n",
        "print(\"Recall score\",round(recall_score(y_test, y_pred1), 2))     #Recall using Recall_score\n",
        "print(\"f1 score\",round(f1_score(y_test,y_pred1), 2))   \n",
        "\n"
      ]
    },
    {
      "cell_type": "markdown",
      "id": "d107a9c4",
      "metadata": {
        "id": "d107a9c4"
      },
      "source": [
        "**KNC MODEL:**"
      ]
    },
    {
      "cell_type": "code",
      "execution_count": null,
      "id": "48e98921",
      "metadata": {
        "colab": {
          "base_uri": "https://localhost:8080/"
        },
        "id": "48e98921",
        "outputId": "52b6326d-b39d-435b-f1f1-d66f771fed06"
      },
      "outputs": [
        {
          "output_type": "stream",
          "name": "stdout",
          "text": [
            "confusion matrix:\n",
            "[[262  13]\n",
            " [ 34   1]]\n",
            "Accuracy score 0.85\n",
            "Precision Score 0.07\n",
            "Recall score 0.03\n",
            "f1 score 0.04\n"
          ]
        }
      ],
      "source": [
        "#Create a KNN Classifier\n",
        "classifier= KNeighborsClassifier(n_neighbors=5, metric='minkowski', p=2 ) \n",
        "#Train the model using the training sets\n",
        "classifier.fit(x_train, y_train) \n",
        "#Predict the response for test dataset\n",
        "y_pred2= classifier.predict(x_test)  \n",
        "cm= confusion_matrix(y_test, y_pred2)\n",
        "print(\"confusion matrix:\")\n",
        "print(cm)\n",
        "### accuracy using accuracy_score\n",
        "print(\"Accuracy score\",round(accuracy_score(y_test, y_pred2), 2))\n",
        "### precision using Precision_score\n",
        "print(\"Precision Score\",round(precision_score(y_test, y_pred2), 2))\n",
        "print(\"Recall score\",round(recall_score(y_test, y_pred2), 2))     #Recall using Recall_score\n",
        "print(\"f1 score\",round(f1_score(y_test,y_pred2), 2))   \n"
      ]
    },
    {
      "cell_type": "markdown",
      "id": "ae28aec5",
      "metadata": {
        "id": "ae28aec5"
      },
      "source": [
        "**SVC MODEL:**"
      ]
    },
    {
      "cell_type": "code",
      "execution_count": null,
      "id": "cf39f27f",
      "metadata": {
        "colab": {
          "base_uri": "https://localhost:8080/"
        },
        "id": "cf39f27f",
        "outputId": "e0b7cd71-7488-4464-d892-d91fb60de5d1"
      },
      "outputs": [
        {
          "output_type": "stream",
          "name": "stdout",
          "text": [
            "confusion matrix:\n",
            "[[275   0]\n",
            " [ 35   0]]\n",
            "Accuracy score 0.89\n",
            "Precision Score 0.0\n",
            "Recall score 0.0\n",
            "f1 score 0.0\n"
          ]
        }
      ],
      "source": [
        "#Create a svm Classifier\n",
        "clf = SVC(kernel='linear') # Linear Kernel\n",
        "\n",
        "#Train the model using the training sets\n",
        "clf.fit(x_train, y_train)\n",
        "\n",
        "#Predict the response for test dataset\n",
        "y_pred3 = clf.predict(x_test)\n",
        "cm= confusion_matrix(y_test, y_pred3)\n",
        "print(\"confusion matrix:\")\n",
        "print(cm)\n",
        "### accuracy using accuracy_score\n",
        "print(\"Accuracy score\",round(accuracy_score(y_test, y_pred3), 2))\n",
        "### precision using Precision_score\n",
        "print(\"Precision Score\",round(precision_score(y_test, y_pred3), 2))\n",
        "print(\"Recall score\",round(recall_score(y_test, y_pred3), 2))     #Recall using Recall_score\n",
        "print(\"f1 score\",round(f1_score(y_test,y_pred3), 2))   \n"
      ]
    },
    {
      "cell_type": "code",
      "execution_count": null,
      "id": "b73ae460",
      "metadata": {
        "colab": {
          "base_uri": "https://localhost:8080/"
        },
        "id": "b73ae460",
        "outputId": "3592e727-b46f-4403-a0b5-36e8383b8e7a"
      },
      "outputs": [
        {
          "output_type": "stream",
          "name": "stdout",
          "text": [
            "LogisticRegression() : \n",
            "Accuracy for train data:  0.89\n",
            "Accuracy for test data:  0.89\n",
            "\n",
            "RandomForestClassifier() : \n",
            "Accuracy for train data:  0.99\n",
            "Accuracy for test data:  0.88\n",
            "\n",
            "SVC() : \n",
            "Accuracy for train data:  0.89\n",
            "Accuracy for test data:  0.89\n",
            "\n",
            "KNeighborsClassifier() : \n",
            "Accuracy for train data:  0.9\n",
            "Accuracy for test data:  0.85\n",
            "\n",
            "DecisionTreeClassifier() : \n",
            "Accuracy for train data:  0.99\n",
            "Accuracy for test data:  0.79\n",
            "\n"
          ]
        }
      ],
      "source": [
        "#for comparing accuracy of models\n",
        "models = [linear_model.LogisticRegression(),RandomForestClassifier(),SVC(),KNeighborsClassifier(),DecisionTreeClassifier()]\n",
        "\n",
        "for i in range(5):                 #to iterate through models\n",
        "    models[i].fit(x_train, y_train)          #fitting the model to train dataset\n",
        "  \n",
        "    print(f'{models[i]} : ')\n",
        "    pred_train = models[i].predict(x_train)        #predicting model for train data\n",
        "    print('Accuracy for train data: ', round(accuracy_score(y_train,pred_train ),2))    #calculating accuracy score for train data\n",
        "    \n",
        "    pred_val = models[i].predict(x_test)\n",
        "    \n",
        "    print('Accuracy for test data: ', round(accuracy_score(y_test, pred_val),2))\n",
        "    print()"
      ]
    },
    {
      "cell_type": "markdown",
      "id": "ef45aa88",
      "metadata": {
        "id": "ef45aa88"
      },
      "source": [
        "**Observation:We can say SVC and logistic regression models have high accuracy among all the models.**"
      ]
    },
    {
      "cell_type": "code",
      "source": [
        "from sklearn import model_selection\n",
        "# prepare configuration for cross validation test harness\n",
        "seed = 7\n",
        "# prepare models\n",
        "models = []\n",
        "models.append(('LR', linear_model.LogisticRegression()))\n",
        "models.append(('KNN', KNeighborsClassifier()))\n",
        "models.append(('DTC', DecisionTreeClassifier()))\n",
        "models.append(('RDF', RandomForestClassifier()))\n",
        "models.append(('SVC', SVC()))\n",
        "# evaluate each model in turn\n",
        "# evaluate each model in turn\n",
        "results = []\n",
        "names = []\n",
        "scoring = 'accuracy'\n",
        "for name,model in models:\n",
        " cv_results = model_selection.cross_val_score(model, x, y, scoring=scoring)\n",
        " results.append(cv_results)\n",
        " names.append(name)\n",
        "# boxplot algorithm comparison\n",
        "fig = plt.figure()\n",
        "fig.suptitle('Algorithm Comparison')\n",
        "ax = fig.add_subplot(111)\n",
        "plt.boxplot(results)\n",
        "ax.set_xticklabels(names)\n",
        "plt.show()\n"
      ],
      "metadata": {
        "colab": {
          "base_uri": "https://localhost:8080/",
          "height": 478
        },
        "id": "gziYcWjv1euY",
        "outputId": "91bb568b-64ab-4757-d8b6-d9517779b813"
      },
      "id": "gziYcWjv1euY",
      "execution_count": null,
      "outputs": [
        {
          "output_type": "display_data",
          "data": {
            "text/plain": [
              "<Figure size 640x480 with 1 Axes>"
            ],
            "image/png": "[encoded data removed]"
          },
          "metadata": {}
        }
      ]
    },
    {
      "cell_type": "markdown",
      "source": [
        "**Observation:**We can say SVC and logistic regression models have high accuracy among all the models."
      ],
      "metadata": {
        "id": "6JNEq4mPpcmb"
      },
      "id": "6JNEq4mPpcmb"
    },
    {
      "cell_type": "code",
      "execution_count": null,
      "id": "81d2afb9",
      "metadata": {
        "colab": {
          "base_uri": "https://localhost:8080/"
        },
        "id": "81d2afb9",
        "outputId": "9a61cd31-3390-4411-a748-c842bde3ab06"
      },
      "outputs": [
        {
          "output_type": "execute_result",
          "data": {
            "text/plain": [
              "0.5"
            ]
          },
          "metadata": {},
          "execution_count": 226
        }
      ],
      "source": [
        "# Calculating auc score for SVC model\n",
        "from sklearn import metrics\n",
        "auc = metrics.roc_auc_score(y_test, y_pred3)\n",
        "auc"
      ]
    },
    {
      "cell_type": "markdown",
      "id": "c703e353",
      "metadata": {
        "id": "c703e353"
      },
      "source": [
        "**Plotting AUC for SVC model**"
      ]
    },
    {
      "cell_type": "code",
      "execution_count": null,
      "id": "eb7c837c",
      "metadata": {
        "colab": {
          "base_uri": "https://localhost:8080/",
          "height": 718
        },
        "id": "eb7c837c",
        "outputId": "51fec926-a18d-48da-bbff-2b7e8b2db447"
      },
      "outputs": [
        {
          "output_type": "display_data",
          "data": {
            "text/plain": [
              "<Figure size 1000x800 with 1 Axes>"
            ],
            "image/png": "[encoded data removed]"
          },
          "metadata": {}
        }
      ],
      "source": [
        "false_positive_rate, true_positive_rate, thresolds = metrics.roc_curve(y_test, y_pred3)\n",
        "\n",
        "plt.figure(figsize=(10, 8), dpi=100)\n",
        "plt.axis('scaled')\n",
        "plt.xlim([0, 1])\n",
        "plt.ylim([0, 1])\n",
        "plt.title(\"AUC & ROC Curve\")\n",
        "plt.plot(false_positive_rate, true_positive_rate, 'g')\n",
        "plt.fill_between(false_positive_rate, true_positive_rate, facecolor='lightgreen', alpha=0.7)\n",
        "plt.text(0.95, 0.05, 'AUC = %0.4f' % auc, ha='right', fontsize=12, weight='bold', color='blue')\n",
        "plt.xlabel(\"False Positive Rate\")\n",
        "plt.ylabel(\"True Positive Rate\")\n",
        "plt.show()"
      ]
    },
    {
      "cell_type": "markdown",
      "id": "e60d6ab0",
      "metadata": {
        "id": "e60d6ab0"
      },
      "source": [
        "**Predicting credit card approval based on input data by using SVC model.**"
      ]
    },
    {
      "cell_type": "code",
      "execution_count": null,
      "id": "1469d000",
      "metadata": {
        "colab": {
          "base_uri": "https://localhost:8080/"
        },
        "id": "1469d000",
        "outputId": "5a892d92-5d1c-4637-a73b-19cb169816fe"
      },
      "outputs": [
        {
          "output_type": "stream",
          "name": "stdout",
          "text": [
            "[1.]\n",
            "Not approved\n"
          ]
        }
      ],
      "source": [
        "new_input=[[1,0,0,-13566.000167,-590]]\n",
        "new_pred1= classifier.predict(new_input)  \n",
        "print(new_pred1)\n",
        "if new_pred1==1:\n",
        "  print(\"Not approved\")"
      ]
    },
    {
      "cell_type": "code",
      "source": [],
      "metadata": {
        "id": "2exKQon9_2Av"
      },
      "id": "2exKQon9_2Av",
      "execution_count": null,
      "outputs": []
    }
  ],
  "metadata": {
    "kernelspec": {
      "display_name": "Python 3 (ipykernel)",
      "language": "python",
      "name": "python3"
    },
    "language_info": {
      "codemirror_mode": {
        "name": "ipython",
        "version": 3
      },
      "file_extension": ".py",
      "mimetype": "text/x-python",
      "name": "python",
      "nbconvert_exporter": "python",
      "pygments_lexer": "ipython3",
      "version": "3.10.9"
    },
    "colab": {
      "provenance": []
    }
  },
  "nbformat": 4,
  "nbformat_minor": 5
}