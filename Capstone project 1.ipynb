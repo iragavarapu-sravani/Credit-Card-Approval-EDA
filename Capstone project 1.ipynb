{
 "cells": [
  {
   "cell_type": "markdown",
   "id": "76d8df25",
   "metadata": {},
   "source": [
    "### Predicting Credit card approval of an individual"
   ]
  },
  {
   "cell_type": "markdown",
   "id": "5fc45b3d",
   "metadata": {},
   "source": [
    "###### Introduction:"
   ]
  },
  {
   "cell_type": "markdown",
   "id": "e4b32b4e",
   "metadata": {},
   "source": [
    "We are working on a credit card dataset, in which we have information on the individuals such as gender, car owner, property owner, children, etc. This dataset contains 19 columns and 1548 rows. There are 9 numerical variables,2 continuous variables and 8 categorical variables. Based on these factors we need to predict each individual's credit card approvals and check missing values, outliers present or not. We have to deal with this messy data to predict the outcome."
   ]
  },
  {
   "cell_type": "markdown",
   "id": "ec14e1b4",
   "metadata": {},
   "source": [
    "**1.Why is your proposal important in today’s world? How predicting a good client is worthy for a bank?**\n",
    "\n",
    "A.This proposal is very important because approving credit to the right people who have good creditworthiness is very important. Before approving the loans, banks need to know whether they are capable of repaying the loan amount or not. Predicting a good client is essential then they would be able to get back their credit in a specified time along with good interests. So, banks are getting profits through the rotation of money with less risk."
   ]
  },
  {
   "cell_type": "markdown",
   "id": "a89bd855",
   "metadata": {},
   "source": [
    "**2.How is it going to impact the banking sector?**\n",
    "\n",
    "A.This proposal impacts the banking sector so they would be able to choose the right people who can repay the loan sincerely. Banks can easily give credit cards to those with good creditworthiness which leads to better risk management.\n"
   ]
  },
  {
   "cell_type": "markdown",
   "id": "40f3c706",
   "metadata": {},
   "source": [
    "**3.If any, what is the gap in the knowledge or how your proposed method can be helpful if required in future for any bank in India.**\n",
    "\n",
    "A.The gap in the knowledge is that we need to add one more feature: the CIBIL score which is very important for predicting the approvals. Bankers check the CIBIL score to approve the loans. Most of the applications get rejected due to fewer CIBIL scores. However, the proposed method can be adapted and applied to banks to evaluate good creditworthiness based on some individual factors leading to better risk management and profitability."
   ]
  },
  {
   "cell_type": "code",
   "execution_count": 315,
   "id": "aa8466b3",
   "metadata": {},
   "outputs": [],
   "source": [
    "import warnings\n",
    "warnings.filterwarnings('ignore')"
   ]
  },
  {
   "cell_type": "code",
   "execution_count": 316,
   "id": "49cc6909",
   "metadata": {},
   "outputs": [],
   "source": [
    "# Importing libraries\n",
    "\n",
    "import pandas as pd\n",
    "import numpy as np\n",
    "import matplotlib.pyplot as plt\n",
    "import seaborn as sns\n"
   ]
  },
  {
   "cell_type": "code",
   "execution_count": 317,
   "id": "eb08b797",
   "metadata": {},
   "outputs": [
    {
     "data": {
      "text/html": [
       "<div>\n",
       "<style scoped>\n",
       "    .dataframe tbody tr th:only-of-type {\n",
       "        vertical-align: middle;\n",
       "    }\n",
       "\n",
       "    .dataframe tbody tr th {\n",
       "        vertical-align: top;\n",
       "    }\n",
       "\n",
       "    .dataframe thead th {\n",
       "        text-align: right;\n",
       "    }\n",
       "</style>\n",
       "<table border=\"1\" class=\"dataframe\">\n",
       "  <thead>\n",
       "    <tr style=\"text-align: right;\">\n",
       "      <th></th>\n",
       "      <th>Ind_ID</th>\n",
       "      <th>GENDER</th>\n",
       "      <th>Car_Owner</th>\n",
       "      <th>Propert_Owner</th>\n",
       "      <th>CHILDREN</th>\n",
       "      <th>Annual_income</th>\n",
       "      <th>Type_Income</th>\n",
       "      <th>EDUCATION</th>\n",
       "      <th>Marital_status</th>\n",
       "      <th>Housing_type</th>\n",
       "      <th>Birthday_count</th>\n",
       "      <th>Employed_days</th>\n",
       "      <th>Mobile_phone</th>\n",
       "      <th>Work_Phone</th>\n",
       "      <th>Phone</th>\n",
       "      <th>EMAIL_ID</th>\n",
       "      <th>Type_Occupation</th>\n",
       "      <th>Family_Members</th>\n",
       "    </tr>\n",
       "  </thead>\n",
       "  <tbody>\n",
       "    <tr>\n",
       "      <th>0</th>\n",
       "      <td>5008827</td>\n",
       "      <td>M</td>\n",
       "      <td>Y</td>\n",
       "      <td>Y</td>\n",
       "      <td>0</td>\n",
       "      <td>180000.0</td>\n",
       "      <td>Pensioner</td>\n",
       "      <td>Higher education</td>\n",
       "      <td>Married</td>\n",
       "      <td>House / apartment</td>\n",
       "      <td>-18772.0</td>\n",
       "      <td>365243</td>\n",
       "      <td>1</td>\n",
       "      <td>0</td>\n",
       "      <td>0</td>\n",
       "      <td>0</td>\n",
       "      <td>NaN</td>\n",
       "      <td>2</td>\n",
       "    </tr>\n",
       "    <tr>\n",
       "      <th>1</th>\n",
       "      <td>5009744</td>\n",
       "      <td>F</td>\n",
       "      <td>Y</td>\n",
       "      <td>N</td>\n",
       "      <td>0</td>\n",
       "      <td>315000.0</td>\n",
       "      <td>Commercial associate</td>\n",
       "      <td>Higher education</td>\n",
       "      <td>Married</td>\n",
       "      <td>House / apartment</td>\n",
       "      <td>-13557.0</td>\n",
       "      <td>-586</td>\n",
       "      <td>1</td>\n",
       "      <td>1</td>\n",
       "      <td>1</td>\n",
       "      <td>0</td>\n",
       "      <td>NaN</td>\n",
       "      <td>2</td>\n",
       "    </tr>\n",
       "    <tr>\n",
       "      <th>2</th>\n",
       "      <td>5009746</td>\n",
       "      <td>F</td>\n",
       "      <td>Y</td>\n",
       "      <td>N</td>\n",
       "      <td>0</td>\n",
       "      <td>315000.0</td>\n",
       "      <td>Commercial associate</td>\n",
       "      <td>Higher education</td>\n",
       "      <td>Married</td>\n",
       "      <td>House / apartment</td>\n",
       "      <td>NaN</td>\n",
       "      <td>-586</td>\n",
       "      <td>1</td>\n",
       "      <td>1</td>\n",
       "      <td>1</td>\n",
       "      <td>0</td>\n",
       "      <td>NaN</td>\n",
       "      <td>2</td>\n",
       "    </tr>\n",
       "    <tr>\n",
       "      <th>3</th>\n",
       "      <td>5009749</td>\n",
       "      <td>F</td>\n",
       "      <td>Y</td>\n",
       "      <td>N</td>\n",
       "      <td>0</td>\n",
       "      <td>NaN</td>\n",
       "      <td>Commercial associate</td>\n",
       "      <td>Higher education</td>\n",
       "      <td>Married</td>\n",
       "      <td>House / apartment</td>\n",
       "      <td>-13557.0</td>\n",
       "      <td>-586</td>\n",
       "      <td>1</td>\n",
       "      <td>1</td>\n",
       "      <td>1</td>\n",
       "      <td>0</td>\n",
       "      <td>NaN</td>\n",
       "      <td>2</td>\n",
       "    </tr>\n",
       "    <tr>\n",
       "      <th>4</th>\n",
       "      <td>5009752</td>\n",
       "      <td>F</td>\n",
       "      <td>Y</td>\n",
       "      <td>N</td>\n",
       "      <td>0</td>\n",
       "      <td>315000.0</td>\n",
       "      <td>Commercial associate</td>\n",
       "      <td>Higher education</td>\n",
       "      <td>Married</td>\n",
       "      <td>House / apartment</td>\n",
       "      <td>-13557.0</td>\n",
       "      <td>-586</td>\n",
       "      <td>1</td>\n",
       "      <td>1</td>\n",
       "      <td>1</td>\n",
       "      <td>0</td>\n",
       "      <td>NaN</td>\n",
       "      <td>2</td>\n",
       "    </tr>\n",
       "    <tr>\n",
       "      <th>5</th>\n",
       "      <td>5009753</td>\n",
       "      <td>NaN</td>\n",
       "      <td>Y</td>\n",
       "      <td>N</td>\n",
       "      <td>0</td>\n",
       "      <td>315000.0</td>\n",
       "      <td>Pensioner</td>\n",
       "      <td>Higher education</td>\n",
       "      <td>Married</td>\n",
       "      <td>House / apartment</td>\n",
       "      <td>-13557.0</td>\n",
       "      <td>-586</td>\n",
       "      <td>1</td>\n",
       "      <td>1</td>\n",
       "      <td>1</td>\n",
       "      <td>0</td>\n",
       "      <td>NaN</td>\n",
       "      <td>2</td>\n",
       "    </tr>\n",
       "    <tr>\n",
       "      <th>6</th>\n",
       "      <td>5009754</td>\n",
       "      <td>F</td>\n",
       "      <td>Y</td>\n",
       "      <td>N</td>\n",
       "      <td>0</td>\n",
       "      <td>315000.0</td>\n",
       "      <td>Commercial associate</td>\n",
       "      <td>Higher education</td>\n",
       "      <td>Married</td>\n",
       "      <td>House / apartment</td>\n",
       "      <td>-13557.0</td>\n",
       "      <td>-586</td>\n",
       "      <td>1</td>\n",
       "      <td>1</td>\n",
       "      <td>1</td>\n",
       "      <td>0</td>\n",
       "      <td>NaN</td>\n",
       "      <td>2</td>\n",
       "    </tr>\n",
       "    <tr>\n",
       "      <th>7</th>\n",
       "      <td>5009894</td>\n",
       "      <td>F</td>\n",
       "      <td>N</td>\n",
       "      <td>N</td>\n",
       "      <td>0</td>\n",
       "      <td>180000.0</td>\n",
       "      <td>Pensioner</td>\n",
       "      <td>Secondary / secondary special</td>\n",
       "      <td>Married</td>\n",
       "      <td>House / apartment</td>\n",
       "      <td>-22134.0</td>\n",
       "      <td>365243</td>\n",
       "      <td>1</td>\n",
       "      <td>0</td>\n",
       "      <td>0</td>\n",
       "      <td>0</td>\n",
       "      <td>NaN</td>\n",
       "      <td>2</td>\n",
       "    </tr>\n",
       "    <tr>\n",
       "      <th>8</th>\n",
       "      <td>5010864</td>\n",
       "      <td>M</td>\n",
       "      <td>Y</td>\n",
       "      <td>Y</td>\n",
       "      <td>1</td>\n",
       "      <td>450000.0</td>\n",
       "      <td>Commercial associate</td>\n",
       "      <td>Secondary / secondary special</td>\n",
       "      <td>Married</td>\n",
       "      <td>House / apartment</td>\n",
       "      <td>-18173.0</td>\n",
       "      <td>-678</td>\n",
       "      <td>1</td>\n",
       "      <td>0</td>\n",
       "      <td>1</td>\n",
       "      <td>1</td>\n",
       "      <td>Core staff</td>\n",
       "      <td>3</td>\n",
       "    </tr>\n",
       "    <tr>\n",
       "      <th>9</th>\n",
       "      <td>5010868</td>\n",
       "      <td>M</td>\n",
       "      <td>Y</td>\n",
       "      <td>Y</td>\n",
       "      <td>1</td>\n",
       "      <td>450000.0</td>\n",
       "      <td>Pensioner</td>\n",
       "      <td>Secondary / secondary special</td>\n",
       "      <td>Married</td>\n",
       "      <td>House / apartment</td>\n",
       "      <td>-18173.0</td>\n",
       "      <td>-678</td>\n",
       "      <td>1</td>\n",
       "      <td>0</td>\n",
       "      <td>1</td>\n",
       "      <td>1</td>\n",
       "      <td>Core staff</td>\n",
       "      <td>3</td>\n",
       "    </tr>\n",
       "  </tbody>\n",
       "</table>\n",
       "</div>"
      ],
      "text/plain": [
       "    Ind_ID GENDER Car_Owner Propert_Owner  CHILDREN  Annual_income  \\\n",
       "0  5008827      M         Y             Y         0       180000.0   \n",
       "1  5009744      F         Y             N         0       315000.0   \n",
       "2  5009746      F         Y             N         0       315000.0   \n",
       "3  5009749      F         Y             N         0            NaN   \n",
       "4  5009752      F         Y             N         0       315000.0   \n",
       "5  5009753    NaN         Y             N         0       315000.0   \n",
       "6  5009754      F         Y             N         0       315000.0   \n",
       "7  5009894      F         N             N         0       180000.0   \n",
       "8  5010864      M         Y             Y         1       450000.0   \n",
       "9  5010868      M         Y             Y         1       450000.0   \n",
       "\n",
       "            Type_Income                      EDUCATION Marital_status  \\\n",
       "0             Pensioner               Higher education        Married   \n",
       "1  Commercial associate               Higher education        Married   \n",
       "2  Commercial associate               Higher education        Married   \n",
       "3  Commercial associate               Higher education        Married   \n",
       "4  Commercial associate               Higher education        Married   \n",
       "5             Pensioner               Higher education        Married   \n",
       "6  Commercial associate               Higher education        Married   \n",
       "7             Pensioner  Secondary / secondary special        Married   \n",
       "8  Commercial associate  Secondary / secondary special        Married   \n",
       "9             Pensioner  Secondary / secondary special        Married   \n",
       "\n",
       "        Housing_type  Birthday_count  Employed_days  Mobile_phone  Work_Phone  \\\n",
       "0  House / apartment        -18772.0         365243             1           0   \n",
       "1  House / apartment        -13557.0           -586             1           1   \n",
       "2  House / apartment             NaN           -586             1           1   \n",
       "3  House / apartment        -13557.0           -586             1           1   \n",
       "4  House / apartment        -13557.0           -586             1           1   \n",
       "5  House / apartment        -13557.0           -586             1           1   \n",
       "6  House / apartment        -13557.0           -586             1           1   \n",
       "7  House / apartment        -22134.0         365243             1           0   \n",
       "8  House / apartment        -18173.0           -678             1           0   \n",
       "9  House / apartment        -18173.0           -678             1           0   \n",
       "\n",
       "   Phone  EMAIL_ID Type_Occupation  Family_Members  \n",
       "0      0         0             NaN               2  \n",
       "1      1         0             NaN               2  \n",
       "2      1         0             NaN               2  \n",
       "3      1         0             NaN               2  \n",
       "4      1         0             NaN               2  \n",
       "5      1         0             NaN               2  \n",
       "6      1         0             NaN               2  \n",
       "7      0         0             NaN               2  \n",
       "8      1         1      Core staff               3  \n",
       "9      1         1      Core staff               3  "
      ]
     },
     "execution_count": 317,
     "metadata": {},
     "output_type": "execute_result"
    }
   ],
   "source": [
    "#Reading files using pandas\n",
    "df1=pd.read_csv(\"/Users/pc/Desktop/Dataset/Credit_card.csv\")\n",
    "df2=pd.read_csv(\"/Users/pc/Desktop/Dataset/Credit_card_label.csv\")\n",
    "df1.head(10)"
   ]
  },
  {
   "cell_type": "markdown",
   "id": "0789c553",
   "metadata": {},
   "source": [
    "**EDA:**"
   ]
  },
  {
   "cell_type": "code",
   "execution_count": 318,
   "id": "6a49e481",
   "metadata": {},
   "outputs": [
    {
     "data": {
      "text/html": [
       "<div>\n",
       "<style scoped>\n",
       "    .dataframe tbody tr th:only-of-type {\n",
       "        vertical-align: middle;\n",
       "    }\n",
       "\n",
       "    .dataframe tbody tr th {\n",
       "        vertical-align: top;\n",
       "    }\n",
       "\n",
       "    .dataframe thead th {\n",
       "        text-align: right;\n",
       "    }\n",
       "</style>\n",
       "<table border=\"1\" class=\"dataframe\">\n",
       "  <thead>\n",
       "    <tr style=\"text-align: right;\">\n",
       "      <th></th>\n",
       "      <th>Ind_ID</th>\n",
       "      <th>GENDER</th>\n",
       "      <th>Car_Owner</th>\n",
       "      <th>Propert_Owner</th>\n",
       "      <th>CHILDREN</th>\n",
       "      <th>Annual_income</th>\n",
       "      <th>Type_Income</th>\n",
       "      <th>EDUCATION</th>\n",
       "      <th>Marital_status</th>\n",
       "      <th>Housing_type</th>\n",
       "      <th>Birthday_count</th>\n",
       "      <th>Employed_days</th>\n",
       "      <th>Mobile_phone</th>\n",
       "      <th>Work_Phone</th>\n",
       "      <th>Phone</th>\n",
       "      <th>EMAIL_ID</th>\n",
       "      <th>Type_Occupation</th>\n",
       "      <th>Family_Members</th>\n",
       "      <th>label</th>\n",
       "    </tr>\n",
       "  </thead>\n",
       "  <tbody>\n",
       "    <tr>\n",
       "      <th>0</th>\n",
       "      <td>5008827</td>\n",
       "      <td>M</td>\n",
       "      <td>Y</td>\n",
       "      <td>Y</td>\n",
       "      <td>0</td>\n",
       "      <td>180000.0</td>\n",
       "      <td>Pensioner</td>\n",
       "      <td>Higher education</td>\n",
       "      <td>Married</td>\n",
       "      <td>House / apartment</td>\n",
       "      <td>-18772.0</td>\n",
       "      <td>365243</td>\n",
       "      <td>1</td>\n",
       "      <td>0</td>\n",
       "      <td>0</td>\n",
       "      <td>0</td>\n",
       "      <td>NaN</td>\n",
       "      <td>2</td>\n",
       "      <td>1</td>\n",
       "    </tr>\n",
       "    <tr>\n",
       "      <th>1</th>\n",
       "      <td>5009744</td>\n",
       "      <td>F</td>\n",
       "      <td>Y</td>\n",
       "      <td>N</td>\n",
       "      <td>0</td>\n",
       "      <td>315000.0</td>\n",
       "      <td>Commercial associate</td>\n",
       "      <td>Higher education</td>\n",
       "      <td>Married</td>\n",
       "      <td>House / apartment</td>\n",
       "      <td>-13557.0</td>\n",
       "      <td>-586</td>\n",
       "      <td>1</td>\n",
       "      <td>1</td>\n",
       "      <td>1</td>\n",
       "      <td>0</td>\n",
       "      <td>NaN</td>\n",
       "      <td>2</td>\n",
       "      <td>1</td>\n",
       "    </tr>\n",
       "    <tr>\n",
       "      <th>2</th>\n",
       "      <td>5009746</td>\n",
       "      <td>F</td>\n",
       "      <td>Y</td>\n",
       "      <td>N</td>\n",
       "      <td>0</td>\n",
       "      <td>315000.0</td>\n",
       "      <td>Commercial associate</td>\n",
       "      <td>Higher education</td>\n",
       "      <td>Married</td>\n",
       "      <td>House / apartment</td>\n",
       "      <td>NaN</td>\n",
       "      <td>-586</td>\n",
       "      <td>1</td>\n",
       "      <td>1</td>\n",
       "      <td>1</td>\n",
       "      <td>0</td>\n",
       "      <td>NaN</td>\n",
       "      <td>2</td>\n",
       "      <td>1</td>\n",
       "    </tr>\n",
       "    <tr>\n",
       "      <th>3</th>\n",
       "      <td>5009749</td>\n",
       "      <td>F</td>\n",
       "      <td>Y</td>\n",
       "      <td>N</td>\n",
       "      <td>0</td>\n",
       "      <td>NaN</td>\n",
       "      <td>Commercial associate</td>\n",
       "      <td>Higher education</td>\n",
       "      <td>Married</td>\n",
       "      <td>House / apartment</td>\n",
       "      <td>-13557.0</td>\n",
       "      <td>-586</td>\n",
       "      <td>1</td>\n",
       "      <td>1</td>\n",
       "      <td>1</td>\n",
       "      <td>0</td>\n",
       "      <td>NaN</td>\n",
       "      <td>2</td>\n",
       "      <td>1</td>\n",
       "    </tr>\n",
       "    <tr>\n",
       "      <th>4</th>\n",
       "      <td>5009752</td>\n",
       "      <td>F</td>\n",
       "      <td>Y</td>\n",
       "      <td>N</td>\n",
       "      <td>0</td>\n",
       "      <td>315000.0</td>\n",
       "      <td>Commercial associate</td>\n",
       "      <td>Higher education</td>\n",
       "      <td>Married</td>\n",
       "      <td>House / apartment</td>\n",
       "      <td>-13557.0</td>\n",
       "      <td>-586</td>\n",
       "      <td>1</td>\n",
       "      <td>1</td>\n",
       "      <td>1</td>\n",
       "      <td>0</td>\n",
       "      <td>NaN</td>\n",
       "      <td>2</td>\n",
       "      <td>1</td>\n",
       "    </tr>\n",
       "  </tbody>\n",
       "</table>\n",
       "</div>"
      ],
      "text/plain": [
       "    Ind_ID GENDER Car_Owner Propert_Owner  CHILDREN  Annual_income  \\\n",
       "0  5008827      M         Y             Y         0       180000.0   \n",
       "1  5009744      F         Y             N         0       315000.0   \n",
       "2  5009746      F         Y             N         0       315000.0   \n",
       "3  5009749      F         Y             N         0            NaN   \n",
       "4  5009752      F         Y             N         0       315000.0   \n",
       "\n",
       "            Type_Income         EDUCATION Marital_status       Housing_type  \\\n",
       "0             Pensioner  Higher education        Married  House / apartment   \n",
       "1  Commercial associate  Higher education        Married  House / apartment   \n",
       "2  Commercial associate  Higher education        Married  House / apartment   \n",
       "3  Commercial associate  Higher education        Married  House / apartment   \n",
       "4  Commercial associate  Higher education        Married  House / apartment   \n",
       "\n",
       "   Birthday_count  Employed_days  Mobile_phone  Work_Phone  Phone  EMAIL_ID  \\\n",
       "0        -18772.0         365243             1           0      0         0   \n",
       "1        -13557.0           -586             1           1      1         0   \n",
       "2             NaN           -586             1           1      1         0   \n",
       "3        -13557.0           -586             1           1      1         0   \n",
       "4        -13557.0           -586             1           1      1         0   \n",
       "\n",
       "  Type_Occupation  Family_Members  label  \n",
       "0             NaN               2      1  \n",
       "1             NaN               2      1  \n",
       "2             NaN               2      1  \n",
       "3             NaN               2      1  \n",
       "4             NaN               2      1  "
      ]
     },
     "execution_count": 318,
     "metadata": {},
     "output_type": "execute_result"
    }
   ],
   "source": [
    "#mergeing two datasets\n",
    "df3=df1.merge(df2,how='outer')\n",
    "df3.head()"
   ]
  },
  {
   "cell_type": "code",
   "execution_count": 319,
   "id": "289b09f9",
   "metadata": {},
   "outputs": [
    {
     "name": "stdout",
     "output_type": "stream",
     "text": [
      "<class 'pandas.core.frame.DataFrame'>\n",
      "Int64Index: 1548 entries, 0 to 1547\n",
      "Data columns (total 19 columns):\n",
      " #   Column           Non-Null Count  Dtype  \n",
      "---  ------           --------------  -----  \n",
      " 0   Ind_ID           1548 non-null   int64  \n",
      " 1   GENDER           1541 non-null   object \n",
      " 2   Car_Owner        1548 non-null   object \n",
      " 3   Propert_Owner    1548 non-null   object \n",
      " 4   CHILDREN         1548 non-null   int64  \n",
      " 5   Annual_income    1525 non-null   float64\n",
      " 6   Type_Income      1548 non-null   object \n",
      " 7   EDUCATION        1548 non-null   object \n",
      " 8   Marital_status   1548 non-null   object \n",
      " 9   Housing_type     1548 non-null   object \n",
      " 10  Birthday_count   1526 non-null   float64\n",
      " 11  Employed_days    1548 non-null   int64  \n",
      " 12  Mobile_phone     1548 non-null   int64  \n",
      " 13  Work_Phone       1548 non-null   int64  \n",
      " 14  Phone            1548 non-null   int64  \n",
      " 15  EMAIL_ID         1548 non-null   int64  \n",
      " 16  Type_Occupation  1060 non-null   object \n",
      " 17  Family_Members   1548 non-null   int64  \n",
      " 18  label            1548 non-null   int64  \n",
      "dtypes: float64(2), int64(9), object(8)\n",
      "memory usage: 241.9+ KB\n"
     ]
    }
   ],
   "source": [
    "#To get information of a dataset\n",
    "df3.info()"
   ]
  },
  {
   "cell_type": "code",
   "execution_count": 320,
   "id": "22dce9b9",
   "metadata": {},
   "outputs": [
    {
     "data": {
      "text/plain": [
       "(1548, 19)"
      ]
     },
     "execution_count": 320,
     "metadata": {},
     "output_type": "execute_result"
    }
   ],
   "source": [
    "#To check the dimensions of a dataset\n",
    "df3.shape"
   ]
  },
  {
   "cell_type": "markdown",
   "id": "82f59b04",
   "metadata": {},
   "source": [
    "**observation:**\n",
    "The dataset contains 1548 rows and 19 columns in which ind id, children, employed days,mobile_phone,work_phone, phone, email id, family members, and label columns are discrete variables. Annual income and birth count are continuous variables. Gender, car owner, property owner, type of income, marital status, education, housing type, and type of occupation are categorical variables."
   ]
  },
  {
   "cell_type": "code",
   "execution_count": 321,
   "id": "1deef251",
   "metadata": {},
   "outputs": [
    {
     "data": {
      "text/plain": [
       "0       False\n",
       "1       False\n",
       "2       False\n",
       "3       False\n",
       "4       False\n",
       "        ...  \n",
       "1543    False\n",
       "1544    False\n",
       "1545    False\n",
       "1546    False\n",
       "1547    False\n",
       "Length: 1548, dtype: bool"
      ]
     },
     "execution_count": 321,
     "metadata": {},
     "output_type": "execute_result"
    }
   ],
   "source": [
    "df3.duplicated()"
   ]
  },
  {
   "cell_type": "code",
   "execution_count": 322,
   "id": "7d0eb992",
   "metadata": {},
   "outputs": [
    {
     "data": {
      "text/plain": [
       "Ind_ID               0\n",
       "GENDER               7\n",
       "Car_Owner            0\n",
       "Propert_Owner        0\n",
       "CHILDREN             0\n",
       "Annual_income       23\n",
       "Type_Income          0\n",
       "EDUCATION            0\n",
       "Marital_status       0\n",
       "Housing_type         0\n",
       "Birthday_count      22\n",
       "Employed_days        0\n",
       "Mobile_phone         0\n",
       "Work_Phone           0\n",
       "Phone                0\n",
       "EMAIL_ID             0\n",
       "Type_Occupation    488\n",
       "Family_Members       0\n",
       "label                0\n",
       "dtype: int64"
      ]
     },
     "execution_count": 322,
     "metadata": {},
     "output_type": "execute_result"
    }
   ],
   "source": [
    "#To check the null values\n",
    "df3.isnull().sum()"
   ]
  },
  {
   "cell_type": "markdown",
   "id": "6b66861c",
   "metadata": {},
   "source": [
    "**Observation:**\n",
    "This dataset contains null values.Gender column contains 7 nullvalues,Annual_income contains 23,birthday_count contains 22 and type_occupation contains 488 nullvalues."
   ]
  },
  {
   "cell_type": "code",
   "execution_count": 323,
   "id": "fb65f73b",
   "metadata": {},
   "outputs": [
    {
     "data": {
      "text/plain": [
       "0       False\n",
       "1       False\n",
       "2       False\n",
       "3       False\n",
       "4       False\n",
       "        ...  \n",
       "1543    False\n",
       "1544    False\n",
       "1545    False\n",
       "1546    False\n",
       "1547    False\n",
       "Name: Ind_ID, Length: 1548, dtype: bool"
      ]
     },
     "execution_count": 323,
     "metadata": {},
     "output_type": "execute_result"
    }
   ],
   "source": [
    "df3[\"Ind_ID\"].duplicated()"
   ]
  },
  {
   "cell_type": "code",
   "execution_count": 324,
   "id": "0ce493dd",
   "metadata": {},
   "outputs": [
    {
     "data": {
      "text/plain": [
       "1548"
      ]
     },
     "execution_count": 324,
     "metadata": {},
     "output_type": "execute_result"
    }
   ],
   "source": [
    "df3[\"Ind_ID\"].nunique()"
   ]
  },
  {
   "cell_type": "markdown",
   "id": "390fc167",
   "metadata": {},
   "source": [
    "**Observation:** No duplicated values in ind_id column."
   ]
  },
  {
   "cell_type": "code",
   "execution_count": 325,
   "id": "6a391907",
   "metadata": {},
   "outputs": [
    {
     "data": {
      "text/html": [
       "<div>\n",
       "<style scoped>\n",
       "    .dataframe tbody tr th:only-of-type {\n",
       "        vertical-align: middle;\n",
       "    }\n",
       "\n",
       "    .dataframe tbody tr th {\n",
       "        vertical-align: top;\n",
       "    }\n",
       "\n",
       "    .dataframe thead th {\n",
       "        text-align: right;\n",
       "    }\n",
       "</style>\n",
       "<table border=\"1\" class=\"dataframe\">\n",
       "  <thead>\n",
       "    <tr style=\"text-align: right;\">\n",
       "      <th></th>\n",
       "      <th>Ind_ID</th>\n",
       "      <th>CHILDREN</th>\n",
       "      <th>Annual_income</th>\n",
       "      <th>Birthday_count</th>\n",
       "      <th>Employed_days</th>\n",
       "      <th>Mobile_phone</th>\n",
       "      <th>Work_Phone</th>\n",
       "      <th>Phone</th>\n",
       "      <th>EMAIL_ID</th>\n",
       "      <th>Family_Members</th>\n",
       "      <th>label</th>\n",
       "    </tr>\n",
       "  </thead>\n",
       "  <tbody>\n",
       "    <tr>\n",
       "      <th>count</th>\n",
       "      <td>1.548000e+03</td>\n",
       "      <td>1548.000000</td>\n",
       "      <td>1.525000e+03</td>\n",
       "      <td>1526.000000</td>\n",
       "      <td>1548.000000</td>\n",
       "      <td>1548.0</td>\n",
       "      <td>1548.000000</td>\n",
       "      <td>1548.000000</td>\n",
       "      <td>1548.000000</td>\n",
       "      <td>1548.000000</td>\n",
       "      <td>1548.000000</td>\n",
       "    </tr>\n",
       "    <tr>\n",
       "      <th>mean</th>\n",
       "      <td>5.078920e+06</td>\n",
       "      <td>0.412791</td>\n",
       "      <td>1.913993e+05</td>\n",
       "      <td>-16040.342071</td>\n",
       "      <td>59364.689922</td>\n",
       "      <td>1.0</td>\n",
       "      <td>0.208010</td>\n",
       "      <td>0.309432</td>\n",
       "      <td>0.092377</td>\n",
       "      <td>2.161499</td>\n",
       "      <td>0.113049</td>\n",
       "    </tr>\n",
       "    <tr>\n",
       "      <th>std</th>\n",
       "      <td>4.171759e+04</td>\n",
       "      <td>0.776691</td>\n",
       "      <td>1.132530e+05</td>\n",
       "      <td>4229.503202</td>\n",
       "      <td>137808.062701</td>\n",
       "      <td>0.0</td>\n",
       "      <td>0.406015</td>\n",
       "      <td>0.462409</td>\n",
       "      <td>0.289651</td>\n",
       "      <td>0.947772</td>\n",
       "      <td>0.316755</td>\n",
       "    </tr>\n",
       "    <tr>\n",
       "      <th>min</th>\n",
       "      <td>5.008827e+06</td>\n",
       "      <td>0.000000</td>\n",
       "      <td>3.375000e+04</td>\n",
       "      <td>-24946.000000</td>\n",
       "      <td>-14887.000000</td>\n",
       "      <td>1.0</td>\n",
       "      <td>0.000000</td>\n",
       "      <td>0.000000</td>\n",
       "      <td>0.000000</td>\n",
       "      <td>1.000000</td>\n",
       "      <td>0.000000</td>\n",
       "    </tr>\n",
       "    <tr>\n",
       "      <th>25%</th>\n",
       "      <td>5.045070e+06</td>\n",
       "      <td>0.000000</td>\n",
       "      <td>1.215000e+05</td>\n",
       "      <td>-19553.000000</td>\n",
       "      <td>-3174.500000</td>\n",
       "      <td>1.0</td>\n",
       "      <td>0.000000</td>\n",
       "      <td>0.000000</td>\n",
       "      <td>0.000000</td>\n",
       "      <td>2.000000</td>\n",
       "      <td>0.000000</td>\n",
       "    </tr>\n",
       "    <tr>\n",
       "      <th>50%</th>\n",
       "      <td>5.078842e+06</td>\n",
       "      <td>0.000000</td>\n",
       "      <td>1.665000e+05</td>\n",
       "      <td>-15661.500000</td>\n",
       "      <td>-1565.000000</td>\n",
       "      <td>1.0</td>\n",
       "      <td>0.000000</td>\n",
       "      <td>0.000000</td>\n",
       "      <td>0.000000</td>\n",
       "      <td>2.000000</td>\n",
       "      <td>0.000000</td>\n",
       "    </tr>\n",
       "    <tr>\n",
       "      <th>75%</th>\n",
       "      <td>5.115673e+06</td>\n",
       "      <td>1.000000</td>\n",
       "      <td>2.250000e+05</td>\n",
       "      <td>-12417.000000</td>\n",
       "      <td>-431.750000</td>\n",
       "      <td>1.0</td>\n",
       "      <td>0.000000</td>\n",
       "      <td>1.000000</td>\n",
       "      <td>0.000000</td>\n",
       "      <td>3.000000</td>\n",
       "      <td>0.000000</td>\n",
       "    </tr>\n",
       "    <tr>\n",
       "      <th>max</th>\n",
       "      <td>5.150412e+06</td>\n",
       "      <td>14.000000</td>\n",
       "      <td>1.575000e+06</td>\n",
       "      <td>-7705.000000</td>\n",
       "      <td>365243.000000</td>\n",
       "      <td>1.0</td>\n",
       "      <td>1.000000</td>\n",
       "      <td>1.000000</td>\n",
       "      <td>1.000000</td>\n",
       "      <td>15.000000</td>\n",
       "      <td>1.000000</td>\n",
       "    </tr>\n",
       "  </tbody>\n",
       "</table>\n",
       "</div>"
      ],
      "text/plain": [
       "             Ind_ID     CHILDREN  Annual_income  Birthday_count  \\\n",
       "count  1.548000e+03  1548.000000   1.525000e+03     1526.000000   \n",
       "mean   5.078920e+06     0.412791   1.913993e+05   -16040.342071   \n",
       "std    4.171759e+04     0.776691   1.132530e+05     4229.503202   \n",
       "min    5.008827e+06     0.000000   3.375000e+04   -24946.000000   \n",
       "25%    5.045070e+06     0.000000   1.215000e+05   -19553.000000   \n",
       "50%    5.078842e+06     0.000000   1.665000e+05   -15661.500000   \n",
       "75%    5.115673e+06     1.000000   2.250000e+05   -12417.000000   \n",
       "max    5.150412e+06    14.000000   1.575000e+06    -7705.000000   \n",
       "\n",
       "       Employed_days  Mobile_phone   Work_Phone        Phone     EMAIL_ID  \\\n",
       "count    1548.000000        1548.0  1548.000000  1548.000000  1548.000000   \n",
       "mean    59364.689922           1.0     0.208010     0.309432     0.092377   \n",
       "std    137808.062701           0.0     0.406015     0.462409     0.289651   \n",
       "min    -14887.000000           1.0     0.000000     0.000000     0.000000   \n",
       "25%     -3174.500000           1.0     0.000000     0.000000     0.000000   \n",
       "50%     -1565.000000           1.0     0.000000     0.000000     0.000000   \n",
       "75%      -431.750000           1.0     0.000000     1.000000     0.000000   \n",
       "max    365243.000000           1.0     1.000000     1.000000     1.000000   \n",
       "\n",
       "       Family_Members        label  \n",
       "count     1548.000000  1548.000000  \n",
       "mean         2.161499     0.113049  \n",
       "std          0.947772     0.316755  \n",
       "min          1.000000     0.000000  \n",
       "25%          2.000000     0.000000  \n",
       "50%          2.000000     0.000000  \n",
       "75%          3.000000     0.000000  \n",
       "max         15.000000     1.000000  "
      ]
     },
     "execution_count": 325,
     "metadata": {},
     "output_type": "execute_result"
    }
   ],
   "source": [
    "#To check statistical values\n",
    "df3.describe()"
   ]
  },
  {
   "cell_type": "markdown",
   "id": "3197053e",
   "metadata": {},
   "source": [
    "**In this dataset, there are some unnecessary columns for prediction such as children, marital status, work phone, phone, and email id.**"
   ]
  },
  {
   "cell_type": "code",
   "execution_count": 326,
   "id": "c69285b5",
   "metadata": {},
   "outputs": [
    {
     "data": {
      "text/html": [
       "<div>\n",
       "<style scoped>\n",
       "    .dataframe tbody tr th:only-of-type {\n",
       "        vertical-align: middle;\n",
       "    }\n",
       "\n",
       "    .dataframe tbody tr th {\n",
       "        vertical-align: top;\n",
       "    }\n",
       "\n",
       "    .dataframe thead th {\n",
       "        text-align: right;\n",
       "    }\n",
       "</style>\n",
       "<table border=\"1\" class=\"dataframe\">\n",
       "  <thead>\n",
       "    <tr style=\"text-align: right;\">\n",
       "      <th></th>\n",
       "      <th>Ind_ID</th>\n",
       "      <th>GENDER</th>\n",
       "      <th>Car_Owner</th>\n",
       "      <th>Propert_Owner</th>\n",
       "      <th>Annual_income</th>\n",
       "      <th>Type_Income</th>\n",
       "      <th>EDUCATION</th>\n",
       "      <th>Housing_type</th>\n",
       "      <th>Birthday_count</th>\n",
       "      <th>Employed_days</th>\n",
       "      <th>Mobile_phone</th>\n",
       "      <th>Type_Occupation</th>\n",
       "      <th>label</th>\n",
       "    </tr>\n",
       "  </thead>\n",
       "  <tbody>\n",
       "    <tr>\n",
       "      <th>0</th>\n",
       "      <td>5008827</td>\n",
       "      <td>M</td>\n",
       "      <td>Y</td>\n",
       "      <td>Y</td>\n",
       "      <td>180000.0</td>\n",
       "      <td>Pensioner</td>\n",
       "      <td>Higher education</td>\n",
       "      <td>House / apartment</td>\n",
       "      <td>-18772.0</td>\n",
       "      <td>365243</td>\n",
       "      <td>1</td>\n",
       "      <td>NaN</td>\n",
       "      <td>1</td>\n",
       "    </tr>\n",
       "    <tr>\n",
       "      <th>1</th>\n",
       "      <td>5009744</td>\n",
       "      <td>F</td>\n",
       "      <td>Y</td>\n",
       "      <td>N</td>\n",
       "      <td>315000.0</td>\n",
       "      <td>Commercial associate</td>\n",
       "      <td>Higher education</td>\n",
       "      <td>House / apartment</td>\n",
       "      <td>-13557.0</td>\n",
       "      <td>-586</td>\n",
       "      <td>1</td>\n",
       "      <td>NaN</td>\n",
       "      <td>1</td>\n",
       "    </tr>\n",
       "    <tr>\n",
       "      <th>2</th>\n",
       "      <td>5009746</td>\n",
       "      <td>F</td>\n",
       "      <td>Y</td>\n",
       "      <td>N</td>\n",
       "      <td>315000.0</td>\n",
       "      <td>Commercial associate</td>\n",
       "      <td>Higher education</td>\n",
       "      <td>House / apartment</td>\n",
       "      <td>NaN</td>\n",
       "      <td>-586</td>\n",
       "      <td>1</td>\n",
       "      <td>NaN</td>\n",
       "      <td>1</td>\n",
       "    </tr>\n",
       "    <tr>\n",
       "      <th>3</th>\n",
       "      <td>5009749</td>\n",
       "      <td>F</td>\n",
       "      <td>Y</td>\n",
       "      <td>N</td>\n",
       "      <td>NaN</td>\n",
       "      <td>Commercial associate</td>\n",
       "      <td>Higher education</td>\n",
       "      <td>House / apartment</td>\n",
       "      <td>-13557.0</td>\n",
       "      <td>-586</td>\n",
       "      <td>1</td>\n",
       "      <td>NaN</td>\n",
       "      <td>1</td>\n",
       "    </tr>\n",
       "    <tr>\n",
       "      <th>4</th>\n",
       "      <td>5009752</td>\n",
       "      <td>F</td>\n",
       "      <td>Y</td>\n",
       "      <td>N</td>\n",
       "      <td>315000.0</td>\n",
       "      <td>Commercial associate</td>\n",
       "      <td>Higher education</td>\n",
       "      <td>House / apartment</td>\n",
       "      <td>-13557.0</td>\n",
       "      <td>-586</td>\n",
       "      <td>1</td>\n",
       "      <td>NaN</td>\n",
       "      <td>1</td>\n",
       "    </tr>\n",
       "  </tbody>\n",
       "</table>\n",
       "</div>"
      ],
      "text/plain": [
       "    Ind_ID GENDER Car_Owner Propert_Owner  Annual_income  \\\n",
       "0  5008827      M         Y             Y       180000.0   \n",
       "1  5009744      F         Y             N       315000.0   \n",
       "2  5009746      F         Y             N       315000.0   \n",
       "3  5009749      F         Y             N            NaN   \n",
       "4  5009752      F         Y             N       315000.0   \n",
       "\n",
       "            Type_Income         EDUCATION       Housing_type  Birthday_count  \\\n",
       "0             Pensioner  Higher education  House / apartment        -18772.0   \n",
       "1  Commercial associate  Higher education  House / apartment        -13557.0   \n",
       "2  Commercial associate  Higher education  House / apartment             NaN   \n",
       "3  Commercial associate  Higher education  House / apartment        -13557.0   \n",
       "4  Commercial associate  Higher education  House / apartment        -13557.0   \n",
       "\n",
       "   Employed_days  Mobile_phone Type_Occupation  label  \n",
       "0         365243             1             NaN      1  \n",
       "1           -586             1             NaN      1  \n",
       "2           -586             1             NaN      1  \n",
       "3           -586             1             NaN      1  \n",
       "4           -586             1             NaN      1  "
      ]
     },
     "execution_count": 326,
     "metadata": {},
     "output_type": "execute_result"
    }
   ],
   "source": [
    "#Removing uncessary columns\n",
    "df3.drop([\"CHILDREN\",\"Marital_status\",\"Work_Phone\",\"Phone\",\"EMAIL_ID\",\"Family_Members\"],axis=1,inplace=True)\n",
    "df3.head()"
   ]
  },
  {
   "cell_type": "markdown",
   "id": "a38c9065",
   "metadata": {},
   "source": [
    "**Dealing with missing values**"
   ]
  },
  {
   "cell_type": "code",
   "execution_count": 328,
   "id": "1b83e062",
   "metadata": {},
   "outputs": [
    {
     "ename": "ValueError",
     "evalue": "keyword grid_b is not recognized; valid keywords are ['size', 'width', 'color', 'tickdir', 'pad', 'labelsize', 'labelcolor', 'zorder', 'gridOn', 'tick1On', 'tick2On', 'label1On', 'label2On', 'length', 'direction', 'left', 'bottom', 'right', 'top', 'labelleft', 'labelbottom', 'labelright', 'labeltop', 'labelrotation', 'grid_agg_filter', 'grid_alpha', 'grid_animated', 'grid_antialiased', 'grid_clip_box', 'grid_clip_on', 'grid_clip_path', 'grid_color', 'grid_dash_capstyle', 'grid_dash_joinstyle', 'grid_dashes', 'grid_data', 'grid_drawstyle', 'grid_figure', 'grid_fillstyle', 'grid_gapcolor', 'grid_gid', 'grid_in_layout', 'grid_label', 'grid_linestyle', 'grid_linewidth', 'grid_marker', 'grid_markeredgecolor', 'grid_markeredgewidth', 'grid_markerfacecolor', 'grid_markerfacecoloralt', 'grid_markersize', 'grid_markevery', 'grid_mouseover', 'grid_path_effects', 'grid_picker', 'grid_pickradius', 'grid_rasterized', 'grid_sketch_params', 'grid_snap', 'grid_solid_capstyle', 'grid_solid_joinstyle', 'grid_transform', 'grid_url', 'grid_visible', 'grid_xdata', 'grid_ydata', 'grid_zorder', 'grid_aa', 'grid_c', 'grid_ds', 'grid_ls', 'grid_lw', 'grid_mec', 'grid_mew', 'grid_mfc', 'grid_mfcalt', 'grid_ms']",
     "output_type": "error",
     "traceback": [
      "\u001b[1;31m---------------------------------------------------------------------------\u001b[0m",
      "\u001b[1;31mValueError\u001b[0m                                Traceback (most recent call last)",
      "Cell \u001b[1;32mIn[328], line 3\u001b[0m\n\u001b[0;32m      1\u001b[0m \u001b[38;5;66;03m#Checking relation between missingness\u001b[39;00m\n\u001b[0;32m      2\u001b[0m \u001b[38;5;28;01mimport\u001b[39;00m \u001b[38;5;21;01mmissingno\u001b[39;00m \u001b[38;5;28;01mas\u001b[39;00m \u001b[38;5;21;01mmsno\u001b[39;00m\n\u001b[1;32m----> 3\u001b[0m \u001b[43mmsno\u001b[49m\u001b[38;5;241;43m.\u001b[39;49m\u001b[43mmatrix\u001b[49m\u001b[43m(\u001b[49m\u001b[43mdf3\u001b[49m\u001b[43m)\u001b[49m\n",
      "File \u001b[1;32m~\\anaconda3\\lib\\site-packages\\missingno\\missingno.py:65\u001b[0m, in \u001b[0;36mmatrix\u001b[1;34m(df, filter, n, p, sort, figsize, width_ratios, color, fontsize, labels, sparkline, inline, freq)\u001b[0m\n\u001b[0;32m     63\u001b[0m \u001b[38;5;66;03m# Remove extraneous default visual elements.\u001b[39;00m\n\u001b[0;32m     64\u001b[0m ax0\u001b[38;5;241m.\u001b[39mset_aspect(\u001b[38;5;124m'\u001b[39m\u001b[38;5;124mauto\u001b[39m\u001b[38;5;124m'\u001b[39m)\n\u001b[1;32m---> 65\u001b[0m \u001b[43max0\u001b[49m\u001b[38;5;241;43m.\u001b[39;49m\u001b[43mgrid\u001b[49m\u001b[43m(\u001b[49m\u001b[43mb\u001b[49m\u001b[38;5;241;43m=\u001b[39;49m\u001b[38;5;28;43;01mFalse\u001b[39;49;00m\u001b[43m)\u001b[49m\n\u001b[0;32m     66\u001b[0m ax0\u001b[38;5;241m.\u001b[39mxaxis\u001b[38;5;241m.\u001b[39mtick_top()\n\u001b[0;32m     67\u001b[0m ax0\u001b[38;5;241m.\u001b[39mxaxis\u001b[38;5;241m.\u001b[39mset_ticks_position(\u001b[38;5;124m'\u001b[39m\u001b[38;5;124mnone\u001b[39m\u001b[38;5;124m'\u001b[39m)\n",
      "File \u001b[1;32m~\\anaconda3\\lib\\site-packages\\matplotlib\\axes\\_base.py:3196\u001b[0m, in \u001b[0;36m_AxesBase.grid\u001b[1;34m(self, visible, which, axis, **kwargs)\u001b[0m\n\u001b[0;32m   3194\u001b[0m _api\u001b[38;5;241m.\u001b[39mcheck_in_list([\u001b[38;5;124m'\u001b[39m\u001b[38;5;124mx\u001b[39m\u001b[38;5;124m'\u001b[39m, \u001b[38;5;124m'\u001b[39m\u001b[38;5;124my\u001b[39m\u001b[38;5;124m'\u001b[39m, \u001b[38;5;124m'\u001b[39m\u001b[38;5;124mboth\u001b[39m\u001b[38;5;124m'\u001b[39m], axis\u001b[38;5;241m=\u001b[39maxis)\n\u001b[0;32m   3195\u001b[0m \u001b[38;5;28;01mif\u001b[39;00m axis \u001b[38;5;129;01min\u001b[39;00m [\u001b[38;5;124m'\u001b[39m\u001b[38;5;124mx\u001b[39m\u001b[38;5;124m'\u001b[39m, \u001b[38;5;124m'\u001b[39m\u001b[38;5;124mboth\u001b[39m\u001b[38;5;124m'\u001b[39m]:\n\u001b[1;32m-> 3196\u001b[0m     \u001b[38;5;28mself\u001b[39m\u001b[38;5;241m.\u001b[39mxaxis\u001b[38;5;241m.\u001b[39mgrid(visible, which\u001b[38;5;241m=\u001b[39mwhich, \u001b[38;5;241m*\u001b[39m\u001b[38;5;241m*\u001b[39mkwargs)\n\u001b[0;32m   3197\u001b[0m \u001b[38;5;28;01mif\u001b[39;00m axis \u001b[38;5;129;01min\u001b[39;00m [\u001b[38;5;124m'\u001b[39m\u001b[38;5;124my\u001b[39m\u001b[38;5;124m'\u001b[39m, \u001b[38;5;124m'\u001b[39m\u001b[38;5;124mboth\u001b[39m\u001b[38;5;124m'\u001b[39m]:\n\u001b[0;32m   3198\u001b[0m     \u001b[38;5;28mself\u001b[39m\u001b[38;5;241m.\u001b[39myaxis\u001b[38;5;241m.\u001b[39mgrid(visible, which\u001b[38;5;241m=\u001b[39mwhich, \u001b[38;5;241m*\u001b[39m\u001b[38;5;241m*\u001b[39mkwargs)\n",
      "File \u001b[1;32m~\\anaconda3\\lib\\site-packages\\matplotlib\\axis.py:1655\u001b[0m, in \u001b[0;36mAxis.grid\u001b[1;34m(self, visible, which, **kwargs)\u001b[0m\n\u001b[0;32m   1652\u001b[0m \u001b[38;5;28;01mif\u001b[39;00m which \u001b[38;5;129;01min\u001b[39;00m [\u001b[38;5;124m'\u001b[39m\u001b[38;5;124mmajor\u001b[39m\u001b[38;5;124m'\u001b[39m, \u001b[38;5;124m'\u001b[39m\u001b[38;5;124mboth\u001b[39m\u001b[38;5;124m'\u001b[39m]:\n\u001b[0;32m   1653\u001b[0m     gridkw[\u001b[38;5;124m'\u001b[39m\u001b[38;5;124mgridOn\u001b[39m\u001b[38;5;124m'\u001b[39m] \u001b[38;5;241m=\u001b[39m (\u001b[38;5;129;01mnot\u001b[39;00m \u001b[38;5;28mself\u001b[39m\u001b[38;5;241m.\u001b[39m_major_tick_kw[\u001b[38;5;124m'\u001b[39m\u001b[38;5;124mgridOn\u001b[39m\u001b[38;5;124m'\u001b[39m]\n\u001b[0;32m   1654\u001b[0m                         \u001b[38;5;28;01mif\u001b[39;00m visible \u001b[38;5;129;01mis\u001b[39;00m \u001b[38;5;28;01mNone\u001b[39;00m \u001b[38;5;28;01melse\u001b[39;00m visible)\n\u001b[1;32m-> 1655\u001b[0m     \u001b[38;5;28mself\u001b[39m\u001b[38;5;241m.\u001b[39mset_tick_params(which\u001b[38;5;241m=\u001b[39m\u001b[38;5;124m'\u001b[39m\u001b[38;5;124mmajor\u001b[39m\u001b[38;5;124m'\u001b[39m, \u001b[38;5;241m*\u001b[39m\u001b[38;5;241m*\u001b[39mgridkw)\n\u001b[0;32m   1656\u001b[0m \u001b[38;5;28mself\u001b[39m\u001b[38;5;241m.\u001b[39mstale \u001b[38;5;241m=\u001b[39m \u001b[38;5;28;01mTrue\u001b[39;00m\n",
      "File \u001b[1;32m~\\anaconda3\\lib\\site-packages\\matplotlib\\axis.py:927\u001b[0m, in \u001b[0;36mAxis.set_tick_params\u001b[1;34m(self, which, reset, **kwargs)\u001b[0m\n\u001b[0;32m    914\u001b[0m \u001b[38;5;124;03m\"\"\"\u001b[39;00m\n\u001b[0;32m    915\u001b[0m \u001b[38;5;124;03mSet appearance parameters for ticks, ticklabels, and gridlines.\u001b[39;00m\n\u001b[0;32m    916\u001b[0m \n\u001b[1;32m   (...)\u001b[0m\n\u001b[0;32m    924\u001b[0m \u001b[38;5;124;03m    gridlines.\u001b[39;00m\n\u001b[0;32m    925\u001b[0m \u001b[38;5;124;03m\"\"\"\u001b[39;00m\n\u001b[0;32m    926\u001b[0m _api\u001b[38;5;241m.\u001b[39mcheck_in_list([\u001b[38;5;124m'\u001b[39m\u001b[38;5;124mmajor\u001b[39m\u001b[38;5;124m'\u001b[39m, \u001b[38;5;124m'\u001b[39m\u001b[38;5;124mminor\u001b[39m\u001b[38;5;124m'\u001b[39m, \u001b[38;5;124m'\u001b[39m\u001b[38;5;124mboth\u001b[39m\u001b[38;5;124m'\u001b[39m], which\u001b[38;5;241m=\u001b[39mwhich)\n\u001b[1;32m--> 927\u001b[0m kwtrans \u001b[38;5;241m=\u001b[39m \u001b[38;5;28;43mself\u001b[39;49m\u001b[38;5;241;43m.\u001b[39;49m\u001b[43m_translate_tick_params\u001b[49m\u001b[43m(\u001b[49m\u001b[43mkwargs\u001b[49m\u001b[43m)\u001b[49m\n\u001b[0;32m    929\u001b[0m \u001b[38;5;66;03m# the kwargs are stored in self._major/minor_tick_kw so that any\u001b[39;00m\n\u001b[0;32m    930\u001b[0m \u001b[38;5;66;03m# future new ticks will automatically get them\u001b[39;00m\n\u001b[0;32m    931\u001b[0m \u001b[38;5;28;01mif\u001b[39;00m reset:\n",
      "File \u001b[1;32m~\\anaconda3\\lib\\site-packages\\matplotlib\\axis.py:1071\u001b[0m, in \u001b[0;36mAxis._translate_tick_params\u001b[1;34m(kw, reverse)\u001b[0m\n\u001b[0;32m   1069\u001b[0m \u001b[38;5;28;01mfor\u001b[39;00m key \u001b[38;5;129;01min\u001b[39;00m kw_:\n\u001b[0;32m   1070\u001b[0m     \u001b[38;5;28;01mif\u001b[39;00m key \u001b[38;5;129;01mnot\u001b[39;00m \u001b[38;5;129;01min\u001b[39;00m allowed_keys:\n\u001b[1;32m-> 1071\u001b[0m         \u001b[38;5;28;01mraise\u001b[39;00m \u001b[38;5;167;01mValueError\u001b[39;00m(\n\u001b[0;32m   1072\u001b[0m             \u001b[38;5;124m\"\u001b[39m\u001b[38;5;124mkeyword \u001b[39m\u001b[38;5;132;01m%s\u001b[39;00m\u001b[38;5;124m is not recognized; valid keywords are \u001b[39m\u001b[38;5;132;01m%s\u001b[39;00m\u001b[38;5;124m\"\u001b[39m\n\u001b[0;32m   1073\u001b[0m             \u001b[38;5;241m%\u001b[39m (key, allowed_keys))\n\u001b[0;32m   1074\u001b[0m kwtrans\u001b[38;5;241m.\u001b[39mupdate(kw_)\n\u001b[0;32m   1075\u001b[0m \u001b[38;5;28;01mreturn\u001b[39;00m kwtrans\n",
      "\u001b[1;31mValueError\u001b[0m: keyword grid_b is not recognized; valid keywords are ['size', 'width', 'color', 'tickdir', 'pad', 'labelsize', 'labelcolor', 'zorder', 'gridOn', 'tick1On', 'tick2On', 'label1On', 'label2On', 'length', 'direction', 'left', 'bottom', 'right', 'top', 'labelleft', 'labelbottom', 'labelright', 'labeltop', 'labelrotation', 'grid_agg_filter', 'grid_alpha', 'grid_animated', 'grid_antialiased', 'grid_clip_box', 'grid_clip_on', 'grid_clip_path', 'grid_color', 'grid_dash_capstyle', 'grid_dash_joinstyle', 'grid_dashes', 'grid_data', 'grid_drawstyle', 'grid_figure', 'grid_fillstyle', 'grid_gapcolor', 'grid_gid', 'grid_in_layout', 'grid_label', 'grid_linestyle', 'grid_linewidth', 'grid_marker', 'grid_markeredgecolor', 'grid_markeredgewidth', 'grid_markerfacecolor', 'grid_markerfacecoloralt', 'grid_markersize', 'grid_markevery', 'grid_mouseover', 'grid_path_effects', 'grid_picker', 'grid_pickradius', 'grid_rasterized', 'grid_sketch_params', 'grid_snap', 'grid_solid_capstyle', 'grid_solid_joinstyle', 'grid_transform', 'grid_url', 'grid_visible', 'grid_xdata', 'grid_ydata', 'grid_zorder', 'grid_aa', 'grid_c', 'grid_ds', 'grid_ls', 'grid_lw', 'grid_mec', 'grid_mew', 'grid_mfc', 'grid_mfcalt', 'grid_ms']"
     ]
    },
    {
     "data": {
      "image/png": "[encoded data removed]",
      "text/plain": [
       "<Figure size 2500x1000 with 2 Axes>"
      ]
     },
     "metadata": {},
     "output_type": "display_data"
    }
   ],
   "source": [
    "#Checking relation between missingness\n",
    "import missingno as msno\n",
    "msno.matrix(df3)"
   ]
  },
  {
   "cell_type": "markdown",
   "id": "43cc1d57",
   "metadata": {},
   "source": [
    "**OBSERVATION:**\n",
    "There is relation between missingness in the variables.Hence,it is MCAR."
   ]
  },
  {
   "cell_type": "code",
   "execution_count": null,
   "id": "d7ea1f35",
   "metadata": {
    "scrolled": false
   },
   "outputs": [],
   "source": [
    "#create bar graph for missing values\n",
    "msno.bar(df3.sample(1548))"
   ]
  },
  {
   "cell_type": "code",
   "execution_count": null,
   "id": "4dfc1e47",
   "metadata": {},
   "outputs": [],
   "source": [
    "plt.figure(figsize=(16, 6))\n",
    "heatmap = sns.heatmap(df3.corr(), vmin=-1, vmax=1, annot=True)"
   ]
  },
  {
   "cell_type": "markdown",
   "id": "d21428b9",
   "metadata": {},
   "source": [
    "**Obervation:** Birth count and employed days have a negative linear relationship means if birth count increases, employed days decrease."
   ]
  },
  {
   "cell_type": "code",
   "execution_count": null,
   "id": "044ec4b5",
   "metadata": {},
   "outputs": [],
   "source": [
    "df3[\"Type_Occupation\"].isnull().sum()"
   ]
  },
  {
   "cell_type": "code",
   "execution_count": null,
   "id": "54e5671e",
   "metadata": {},
   "outputs": [],
   "source": [
    "print(\"percent of missing values in type_occupation:\")\n",
    "percent= (df3[\"Type_Occupation\"].isnull().sum()/df3.shape[0])*100\n",
    "print(round(percent,2))"
   ]
  },
  {
   "cell_type": "markdown",
   "id": "a050d564",
   "metadata": {},
   "source": [
    "**Observation:** column type_occupation contains 31% null values. As per my knowledge, it is a very high amount of null values and this column is not very important for analysis.so I want to drop this column."
   ]
  },
  {
   "cell_type": "code",
   "execution_count": null,
   "id": "ff5f834a",
   "metadata": {},
   "outputs": [],
   "source": [
    "#dropping type occupation column\n",
    "df3.drop([\"Type_Occupation\"],axis=1,inplace=True)\n",
    "df3.head()"
   ]
  },
  {
   "cell_type": "code",
   "execution_count": null,
   "id": "856f9132",
   "metadata": {},
   "outputs": [],
   "source": [
    "#checking null values in gender column\n",
    "df3[\"GENDER\"].isnull().sum()"
   ]
  },
  {
   "cell_type": "markdown",
   "id": "93547841",
   "metadata": {},
   "source": [
    "**Observation:**\n",
    "\n",
    "GENDER is a categorical column containing 7 null values only.\n",
    "\n"
   ]
  },
  {
   "cell_type": "code",
   "execution_count": null,
   "id": "70fa74d9",
   "metadata": {},
   "outputs": [],
   "source": [
    "df3.isnull().sum()"
   ]
  },
  {
   "cell_type": "code",
   "execution_count": null,
   "id": "f93b98ee",
   "metadata": {},
   "outputs": [],
   "source": [
    "#plotting histogram for Annual income\n",
    "sns.histplot(data=df3,x=\"Annual_income\",bins=20,kde=True,color=\"red\")\n",
    "plt.axvline(x=df3.Annual_income.mean(),color='green',alpha=0.5,label='Mean') # adding vertical line as mean\n",
    "plt.axvline(x=df3.Annual_income.median(),c='green',ls='--',alpha=0.5,label='Median') # adding vertical line as median\n",
    "plt.title(\"Annual income\")\n",
    "plt.legend() # adding legend"
   ]
  },
  {
   "cell_type": "code",
   "execution_count": null,
   "id": "6f53e3a7",
   "metadata": {},
   "outputs": [],
   "source": [
    "#plotting boxplot to check the outliers and distribution\n",
    "sns.boxplot(data=df3,x=\"Annual_income\")"
   ]
  },
  {
   "cell_type": "markdown",
   "id": "0c2193eb",
   "metadata": {},
   "source": [
    "**OBSERVATION:** Annul_income contains outliers.so need to perform log transform"
   ]
  },
  {
   "cell_type": "code",
   "execution_count": null,
   "id": "1965233a",
   "metadata": {},
   "outputs": [],
   "source": [
    "#performing log transformation to annual income\n",
    "df3[\"Annual_income_log\"]=np.log(df3[\"Annual_income\"])"
   ]
  },
  {
   "cell_type": "code",
   "execution_count": null,
   "id": "d1b776f1",
   "metadata": {},
   "outputs": [],
   "source": [
    "#plotting boxplot to see the distribution of Annual income log\n",
    "sns.boxplot(data=df3,x=\"Annual_income_log\")"
   ]
  },
  {
   "cell_type": "code",
   "execution_count": null,
   "id": "ecc33b19",
   "metadata": {},
   "outputs": [],
   "source": [
    "#creating histogram to see the districbution of the birthday count variable\n",
    "sns.histplot(data=df3,x=\"Birthday_count\",bins=10,kde=True,color=\"red\")\n",
    "plt.axvline(x=df3.Birthday_count.mean(),color='green',alpha=0.5,label='Mean') # adding vertical line as mean\n",
    "plt.axvline(x=df3.Birthday_count.median(),c='green',ls='--',alpha=0.5,label='Median') # adding vertical line as median\n",
    "plt.title(\"Birthday_count\")\n",
    "plt.legend() # adding legend"
   ]
  },
  {
   "cell_type": "markdown",
   "id": "95ff4e60",
   "metadata": {},
   "source": [
    "**Observation:**\n",
    "\n",
    "As per the graph, the Annual income column is right-skewed.The number of people with highest Birthday count is between -12500 to -10000 and lowest count is between -10000 to -7500."
   ]
  },
  {
   "cell_type": "code",
   "execution_count": null,
   "id": "5f97e448",
   "metadata": {},
   "outputs": [],
   "source": [
    "#checking correlation between variables\n",
    "df3.corr()"
   ]
  },
  {
   "cell_type": "code",
   "execution_count": null,
   "id": "5be374c7",
   "metadata": {},
   "outputs": [],
   "source": [
    "#plotting heatmap to check the relation between the variables\n",
    "plt.figure(figsize=(16, 6))\n",
    "heatmap = sns.heatmap(df3.corr(), vmin=-1, vmax=1, annot=True)"
   ]
  },
  {
   "cell_type": "markdown",
   "id": "b5901ca9",
   "metadata": {},
   "source": [
    "**Obervation:**\n",
    "Birth count and employed days have a negative linear relationship means if birth count increases, employed days decrease."
   ]
  },
  {
   "cell_type": "code",
   "execution_count": null,
   "id": "9723a857",
   "metadata": {},
   "outputs": [],
   "source": [
    "print(df3[\"GENDER\"].value_counts())\n",
    "sns.countplot(data=df3, x=\"GENDER\", hue=\"label\")\n",
    "plt.title(\"Comparing the gender ratio in approval category\")\n",
    "plt.xlabel(\"Sex\")\n",
    "plt.ylabel(\"Count\")\n",
    "plt.show()"
   ]
  },
  {
   "cell_type": "markdown",
   "id": "6dfce395",
   "metadata": {},
   "source": [
    "**Observation:**\n",
    "Females are applying for credit cards more than males. Female applications are approved more than male applications."
   ]
  },
  {
   "cell_type": "code",
   "execution_count": null,
   "id": "9263fb67",
   "metadata": {},
   "outputs": [],
   "source": [
    "#cheking column names\n",
    "df3.columns"
   ]
  },
  {
   "cell_type": "code",
   "execution_count": null,
   "id": "4131b9ec",
   "metadata": {},
   "outputs": [],
   "source": [
    "print(df3[\"label\"].value_counts())\n",
    "sns.catplot(data=df3, x=\"Car_Owner\",y=\"label\",hue=\"GENDER\", kind=\"bar\")"
   ]
  },
  {
   "cell_type": "markdown",
   "id": "16b357c4",
   "metadata": {},
   "source": [
    "**Observation:** Males own cars more than females. Males without cars got more rejections. Females with cars and without cars got an equal number of rejections and approvals."
   ]
  },
  {
   "cell_type": "code",
   "execution_count": null,
   "id": "432cd7d7",
   "metadata": {},
   "outputs": [],
   "source": [
    "print(df3[\"label\"].value_counts())\n",
    "sns.catplot(data=df3, x=\"Propert_Owner\",y=\"label\",hue=\"GENDER\", kind=\"bar\")\n"
   ]
  },
  {
   "cell_type": "markdown",
   "id": "ac50102c",
   "metadata": {},
   "source": [
    "**Observation:**\n",
    "Males with no property are higher than females in the dataset."
   ]
  },
  {
   "cell_type": "code",
   "execution_count": null,
   "id": "a44b0586",
   "metadata": {},
   "outputs": [],
   "source": [
    "#importing plotly express sub module\n",
    "import plotly.express as px\n",
    "print(df3[\"GENDER\"].value_counts())\n",
    "#plotting histogram for annual_income of genders\n",
    "fig = px.histogram(df3,x = 'Annual_income',\n",
    "                   color = 'GENDER',\n",
    "                   color_discrete_sequence = [\"blue\",\"red\"],\n",
    "                   title = 'Annual_income  over genders')\n",
    "fig.update_layout(bargap=0.1)\n",
    "fig.show()"
   ]
  },
  {
   "cell_type": "markdown",
   "id": "19240916",
   "metadata": {},
   "source": [
    "**Observation:** The female count is higher than the male and the female count of annual income is also very high."
   ]
  },
  {
   "cell_type": "code",
   "execution_count": null,
   "id": "fa4393fb",
   "metadata": {},
   "outputs": [],
   "source": [
    "#plotting bar graph genders with their education\n",
    "print(df3[\"EDUCATION\"].unique())\n",
    "sns.countplot(data=df3, x=\"GENDER\", hue=\"EDUCATION\")\n",
    "plt.title(\"Comparing the gender ratio in EDUCATION category\")\n",
    "plt.xlabel(\"GENDER\")\n",
    "plt.ylabel(\"Count\")\n",
    "plt.show()"
   ]
  },
  {
   "cell_type": "markdown",
   "id": "ee8e950b",
   "metadata": {},
   "source": [
    "**Observation:** Females are educated more than males."
   ]
  },
  {
   "cell_type": "code",
   "execution_count": null,
   "id": "e709a92d",
   "metadata": {},
   "outputs": [],
   "source": [
    "#plotting credit card approved over type income\n",
    "fig = px.histogram(df3,\n",
    "                  x = \"label\",\n",
    "                  marginal = 'box', \n",
    "                   color=\"Type_Income\",\n",
    "                  title = \"Creditcard approved over type Income \")\n",
    "fig.update_layout(bargap=0.2)\n",
    "fig.show()"
   ]
  },
  {
   "cell_type": "markdown",
   "id": "7b9cd9e9",
   "metadata": {},
   "source": [
    "**Observation:** Working professionals got more approvals and state servants got less number of approvals."
   ]
  },
  {
   "cell_type": "markdown",
   "id": "3b62d8b2",
   "metadata": {},
   "source": [
    " **Encoding categorical varibles into numerical variables:**"
   ]
  },
  {
   "cell_type": "code",
   "execution_count": null,
   "id": "7e2b3f1d",
   "metadata": {},
   "outputs": [],
   "source": [
    "df3.columns"
   ]
  },
  {
   "cell_type": "code",
   "execution_count": null,
   "id": "3b8aa188",
   "metadata": {},
   "outputs": [],
   "source": [
    "df3.info()"
   ]
  },
  {
   "cell_type": "code",
   "execution_count": null,
   "id": "32d468cc",
   "metadata": {},
   "outputs": [],
   "source": [
    "#to get the unique values of gender column\n",
    "df3[\"GENDER\"].unique()"
   ]
  },
  {
   "cell_type": "code",
   "execution_count": null,
   "id": "1b55964c",
   "metadata": {},
   "outputs": [],
   "source": [
    "#to get the unique values of car owner column\n",
    "df3[\"Car_Owner\"].unique()"
   ]
  },
  {
   "cell_type": "code",
   "execution_count": null,
   "id": "4fb434e9",
   "metadata": {},
   "outputs": [],
   "source": [
    "##to get the unique values of property owner column\n",
    "df3[\"Propert_Owner\"].unique()"
   ]
  },
  {
   "cell_type": "code",
   "execution_count": null,
   "id": "549e46c4",
   "metadata": {},
   "outputs": [],
   "source": [
    "#to get the unique values of type of income column\n",
    "df3[\"Type_Income\"].unique()"
   ]
  },
  {
   "cell_type": "code",
   "execution_count": null,
   "id": "08ad6e85",
   "metadata": {},
   "outputs": [],
   "source": [
    "#to get the unique values of education column\n",
    "df3[\"EDUCATION\"].unique()"
   ]
  },
  {
   "cell_type": "code",
   "execution_count": null,
   "id": "3773bf62",
   "metadata": {},
   "outputs": [],
   "source": [
    "#performing ordinal encoding using map fuction\n",
    "df3['GENDER'] = df3.GENDER.map({'M': 0, 'F':1})\n",
    "\n",
    "df3['Car_Owner'] = df3.Car_Owner.map({'Y': 0, 'N':1})\n",
    "\n",
    "df3['Propert_Owner'] = df3.Propert_Owner.map({'Y': 0, 'N':1})\n",
    "df3['Type_Income'] = df3.Type_Income.map({\"Pensioner\":0,\"Commercial associate\":1,\"Working\":2,\"State servant\":3})\n",
    "df3['EDUCATION'] = df3.EDUCATION.map({'Higher education':0, 'Secondary / secondary special':1,\n",
    "       'Lower secondary':2, 'Incomplete higher':3, 'Academic degree':4})\n",
    "df3['Housing_type'] = df3.Housing_type.map({'House / apartment':0, 'With parents':1, 'Rented apartment':2,\n",
    "       'Municipal apartment':3, 'Co-op apartment':4, 'Office apartment':5})"
   ]
  },
  {
   "cell_type": "code",
   "execution_count": null,
   "id": "50c77406",
   "metadata": {},
   "outputs": [],
   "source": [
    "df3.head()"
   ]
  },
  {
   "cell_type": "markdown",
   "id": "8fe1fd53",
   "metadata": {},
   "source": [
    "**Imputing null values:**"
   ]
  },
  {
   "cell_type": "markdown",
   "id": "b62c2fda",
   "metadata": {},
   "source": [
    "Imputing knn values:"
   ]
  },
  {
   "cell_type": "code",
   "execution_count": null,
   "id": "ecfc2b6d",
   "metadata": {},
   "outputs": [],
   "source": [
    "from sklearn.impute import KNNImputer\n",
    "df3_knn = df3.copy(deep=True)\n",
    "imputer = KNNImputer(n_neighbors=2)\n",
    "df3_knn.iloc[:,:]=imputer.fit_transform(df3_knn)"
   ]
  },
  {
   "cell_type": "code",
   "execution_count": null,
   "id": "99ea56a5",
   "metadata": {},
   "outputs": [],
   "source": [
    "df3_knn.isnull().sum()"
   ]
  },
  {
   "cell_type": "markdown",
   "id": "b5388db4",
   "metadata": {},
   "source": [
    "**After applying data_knn imputation we have cleaned data.No missing values.**"
   ]
  },
  {
   "cell_type": "markdown",
   "id": "25b9795d",
   "metadata": {},
   "source": [
    "**Getting independent features in dataset(X) and dependent feature in series(y)**"
   ]
  },
  {
   "cell_type": "code",
   "execution_count": null,
   "id": "5c5dcecc",
   "metadata": {},
   "outputs": [],
   "source": [
    "x=df3_knn.drop([\"label\"],axis=1)\n",
    "print(x.head())\n",
    "y=df3_knn[\"label\"]\n",
    "y.head()"
   ]
  },
  {
   "cell_type": "markdown",
   "id": "69462a13",
   "metadata": {},
   "source": [
    "**Feature selection and model bulding**"
   ]
  },
  {
   "cell_type": "code",
   "execution_count": null,
   "id": "b336c9cf",
   "metadata": {},
   "outputs": [],
   "source": [
    "import statsmodels.api as sm\n",
    "logit_model=sm.Logit(y,x)\n",
    "result=logit_model.fit()\n",
    "print(result.summary2())"
   ]
  },
  {
   "cell_type": "markdown",
   "id": "0aa6c38f",
   "metadata": {},
   "source": [
    "**OBSERVATION:** Based on the P-value \"Ind_ID\", \"Car_Owner\", \"Propert_Owner\", \"Annual_income\", \"EDUCATION\", \"Mobile_phone\", \"Annual_income_log\" are not necessary. we can remove the variables whose p-value is greater than 0.05."
   ]
  },
  {
   "cell_type": "code",
   "execution_count": null,
   "id": "51eb03ae",
   "metadata": {},
   "outputs": [],
   "source": [
    "#dropping unnessary columns\n",
    "x=df3_knn.drop([\"Ind_ID\", \"Car_Owner\", \"Propert_Owner\",\"Annual_income\",\"EDUCATION\",\"Mobile_phone\",\"Annual_income_log\"], axis = 1)\n",
    "x.head()"
   ]
  },
  {
   "cell_type": "markdown",
   "id": "12237c5d",
   "metadata": {},
   "source": [
    "**Splitting data into Training and Test data**"
   ]
  },
  {
   "cell_type": "code",
   "execution_count": null,
   "id": "98e99a0a",
   "metadata": {},
   "outputs": [],
   "source": [
    "x = df3_knn[[\"GENDER\",\"Type_Income\",\"Housing_type\",\"Birthday_count\",\"Employed_days\"]]\n",
    "y = df3.label"
   ]
  },
  {
   "cell_type": "code",
   "execution_count": null,
   "id": "28be5192",
   "metadata": {},
   "outputs": [],
   "source": [
    "x.head()"
   ]
  },
  {
   "cell_type": "code",
   "execution_count": null,
   "id": "61da1d48",
   "metadata": {},
   "outputs": [],
   "source": [
    "from sklearn.model_selection import train_test_split # importing train_test_split\n",
    "x_train, x_test, y_train, y_test = train_test_split(x, y, test_size=0.2, random_state=0) #20% is test and 80% is training"
   ]
  },
  {
   "cell_type": "code",
   "execution_count": null,
   "id": "0fe5a135",
   "metadata": {},
   "outputs": [],
   "source": [
    "### both will have same shape\n",
    "x_train.shape, y_train.shape"
   ]
  },
  {
   "cell_type": "code",
   "execution_count": null,
   "id": "e4cb05c0",
   "metadata": {},
   "outputs": [],
   "source": [
    "## both will have same shape\n",
    "x_test.shape, y_test.shape"
   ]
  },
  {
   "cell_type": "markdown",
   "id": "2e89e6fe",
   "metadata": {},
   "source": [
    "**Standardisation/ feature scaling the dataset\n",
    "Feature scaling Perform to create same scale for all variables.**\n",
    "\n",
    "**Hence, all variables will have similar influnece on the model**"
   ]
  },
  {
   "cell_type": "code",
   "execution_count": null,
   "id": "2cc8d19e",
   "metadata": {},
   "outputs": [],
   "source": [
    "from sklearn.preprocessing import StandardScaler\n",
    "ss=StandardScaler()\n",
    "x_train=ss.fit_transform(x_train)\n",
    "x_train\n"
   ]
  },
  {
   "cell_type": "code",
   "execution_count": null,
   "id": "a7e6e7ee",
   "metadata": {},
   "outputs": [],
   "source": [
    "x_test=ss.fit_transform(x_test)\n",
    "x_test"
   ]
  },
  {
   "cell_type": "markdown",
   "id": "98a93059",
   "metadata": {},
   "source": [
    "**The problem statement is classification.so here we have to use classification ML models.**"
   ]
  },
  {
   "cell_type": "markdown",
   "id": "2d8a73df",
   "metadata": {},
   "source": [
    "**LOGISTIC REGRESSION:**"
   ]
  },
  {
   "cell_type": "code",
   "execution_count": null,
   "id": "d88e96e1",
   "metadata": {},
   "outputs": [],
   "source": [
    "#Create a Logistic regression\n",
    "from sklearn import linear_model\n",
    "logr=linear_model.LogisticRegression()\n",
    "#Train the model using the training sets\n",
    "logr.fit(x_train,y_train)\n",
    "#Predict the response for test dataset\n",
    "logr_pred=logr.predict(x_test)\n",
    "logr_pred"
   ]
  },
  {
   "cell_type": "code",
   "execution_count": null,
   "id": "a82412a3",
   "metadata": {},
   "outputs": [],
   "source": [
    "#importing metrics\n",
    "from sklearn.metrics import confusion_matrix,accuracy_score,precision_score,recall_score,f1_score\n",
    "confusion_mat=confusion_matrix(y_test, logr_pred)   #create object for confusion matrix\n",
    "print(\"confusion matrix:\")\n",
    "print(confusion_mat)\n",
    "### accuracy using accuracy_score\n",
    "print(\"Accuracy score\",round(accuracy_score(y_test, logr_pred), 2))\n",
    "### precision using Precision_score\n",
    "print(\"Precision Score\",round(precision_score(y_test, logr_pred), 2))\n",
    "print(\"Recall score\",round(recall_score(y_test, logr_pred), 2))     #Recall using Recall_score\n",
    "print(\"f1 score\",round(f1_score(y_test,logr_pred), 2))              #f1_score using f1_score metric"
   ]
  },
  {
   "cell_type": "markdown",
   "id": "08562206",
   "metadata": {},
   "source": [
    "**LOG LOSS:**"
   ]
  },
  {
   "cell_type": "code",
   "execution_count": null,
   "id": "fa0d43f8",
   "metadata": {},
   "outputs": [],
   "source": [
    "#checking log loss on test data\n",
    "from sklearn.metrics import log_loss     #importing log loss\n",
    "logloss = log_loss(y_test, logr.predict_proba(x_test)) #creating object for log loss\n",
    "logloss"
   ]
  },
  {
   "cell_type": "markdown",
   "id": "07a01900",
   "metadata": {},
   "source": [
    "**Applying different classification ML models to get the high accuracy:**"
   ]
  },
  {
   "cell_type": "code",
   "execution_count": null,
   "id": "b17a0e55",
   "metadata": {},
   "outputs": [],
   "source": [
    "#importing libraries for random forest,knn classifier,support vector classifier and decision tree.\n",
    "from sklearn.ensemble import RandomForestClassifier\n",
    "from sklearn.neighbors import KNeighborsClassifier\n",
    "from sklearn.svm import SVC\n",
    "from sklearn.tree import DecisionTreeClassifier  \n"
   ]
  },
  {
   "cell_type": "markdown",
   "id": "a2dc2839",
   "metadata": {},
   "source": [
    "**DECISION TREE:**"
   ]
  },
  {
   "cell_type": "code",
   "execution_count": null,
   "id": "245a6745",
   "metadata": {},
   "outputs": [],
   "source": [
    "#Create a Decision tree Classifier\n",
    "classifier= DecisionTreeClassifier(criterion='entropy', random_state=0)  \n",
    "#Train the model using the training sets\n",
    "classifier.fit(x_train, y_train)  \n",
    "#Predict the response for test dataset\n",
    "y_pred= classifier.predict(x_test)  \n",
    "cm= confusion_matrix(y_test, y_pred)\n",
    "print(\"confusion matrix:\",cm)\n",
    "### accuracy using accuracy_score\n",
    "print(\"Accuracy score\",round(accuracy_score(y_test, y_pred), 2))\n",
    "### precision using Precision_score\n",
    "print(\"Precision Score\",round(precision_score(y_test, y_pred), 2))\n",
    "print(\"Recall score\",round(recall_score(y_test, y_pred), 2))     #Recall using Recall_score\n",
    "print(\"f1 score\",round(f1_score(y_test,y_pred), 2))              #f1_score using f1_score metric"
   ]
  },
  {
   "cell_type": "markdown",
   "id": "0c99b082",
   "metadata": {},
   "source": [
    "**RANDOM FOREST CLASSIFIER:**"
   ]
  },
  {
   "cell_type": "code",
   "execution_count": null,
   "id": "715e0c9d",
   "metadata": {},
   "outputs": [],
   "source": [
    "#Create a Random forest Classifier\n",
    "classifier= RandomForestClassifier(n_estimators= 10, criterion=\"entropy\") \n",
    "#Train the model using the training sets\n",
    "classifier.fit(x_train, y_train) \n",
    "#Predict the response for test dataset\n",
    "y_pred1= classifier.predict(x_test)  \n",
    "cm= confusion_matrix(y_test, y_pred1)\n",
    "print(\"confusion matrix:\")\n",
    "print(cm)\n",
    "### accuracy using accuracy_score\n",
    "print(\"Accuracy score\",round(accuracy_score(y_test, y_pred1), 2))\n",
    "### precision using Precision_score\n",
    "print(\"Precision Score\",round(precision_score(y_test, y_pred1), 2))\n",
    "print(\"Recall score\",round(recall_score(y_test, y_pred1), 2))     #Recall using Recall_score\n",
    "print(\"f1 score\",round(f1_score(y_test,y_pred1), 2))   \n",
    "\n"
   ]
  },
  {
   "cell_type": "markdown",
   "id": "d107a9c4",
   "metadata": {},
   "source": [
    "**KNC MODEL:**"
   ]
  },
  {
   "cell_type": "code",
   "execution_count": null,
   "id": "48e98921",
   "metadata": {},
   "outputs": [],
   "source": [
    "#Create a KNN Classifier\n",
    "classifier= KNeighborsClassifier(n_neighbors=5, metric='minkowski', p=2 ) \n",
    "#Train the model using the training sets\n",
    "classifier.fit(x_train, y_train) \n",
    "#Predict the response for test dataset\n",
    "y_pred2= classifier.predict(x_test)  \n",
    "cm= confusion_matrix(y_test, y_pred2)\n",
    "print(\"confusion matrix:\")\n",
    "print(cm)\n",
    "### accuracy using accuracy_score\n",
    "print(\"Accuracy score\",round(accuracy_score(y_test, y_pred2), 2))\n",
    "### precision using Precision_score\n",
    "print(\"Precision Score\",round(precision_score(y_test, y_pred2), 2))\n",
    "print(\"Recall score\",round(recall_score(y_test, y_pred2), 2))     #Recall using Recall_score\n",
    "print(\"f1 score\",round(f1_score(y_test,y_pred2), 2))   \n"
   ]
  },
  {
   "cell_type": "markdown",
   "id": "ae28aec5",
   "metadata": {},
   "source": [
    "**SVC MODEL:**"
   ]
  },
  {
   "cell_type": "code",
   "execution_count": null,
   "id": "cf39f27f",
   "metadata": {},
   "outputs": [],
   "source": [
    "#Create a svm Classifier\n",
    "clf = SVC(kernel='linear') # Linear Kernel\n",
    "\n",
    "#Train the model using the training sets\n",
    "clf.fit(x_train, y_train)\n",
    "\n",
    "#Predict the response for test dataset\n",
    "y_pred3 = clf.predict(x_test)\n",
    "cm= confusion_matrix(y_test, y_pred3)\n",
    "print(\"confusion matrix:\")\n",
    "print(cm)\n",
    "### accuracy using accuracy_score\n",
    "print(\"Accuracy score\",round(accuracy_score(y_test, y_pred3), 2))\n",
    "### precision using Precision_score\n",
    "print(\"Precision Score\",round(precision_score(y_test, y_pred3), 2))\n",
    "print(\"Recall score\",round(recall_score(y_test, y_pred3), 2))     #Recall using Recall_score\n",
    "print(\"f1 score\",round(f1_score(y_test,y_pred3), 2))   \n"
   ]
  },
  {
   "cell_type": "code",
   "execution_count": null,
   "id": "b73ae460",
   "metadata": {},
   "outputs": [],
   "source": [
    "models = [linear_model.LogisticRegression(),RandomForestClassifier(),SVC(),KNeighborsClassifier(),DecisionTreeClassifier()]\n",
    "  \n",
    "for i in range(5):\n",
    "    models[i].fit(x_train, y_train)\n",
    "  \n",
    "    print(f'{models[i]} : ')\n",
    "    pred_train = models[i].predict(x_train)\n",
    "    print('Accuracy for train data: ', round(accuracy_score(y_train,pred_train ),2))\n",
    "  \n",
    "    pred_val = models[i].predict(x_test)\n",
    "    print('Accuracy for test data: ', round(accuracy_score(y_test, pred_val),2))\n",
    "    print()"
   ]
  },
  {
   "cell_type": "markdown",
   "id": "ef45aa88",
   "metadata": {},
   "source": [
    "**Observation:We can say SVC and logistic regression models have high accuracy among all the models.**"
   ]
  },
  {
   "cell_type": "code",
   "execution_count": null,
   "id": "81d2afb9",
   "metadata": {},
   "outputs": [],
   "source": [
    "from sklearn import metrics\n",
    "auc = metrics.roc_auc_score(y_test, y_pred3)\n",
    "auc"
   ]
  },
  {
   "cell_type": "markdown",
   "id": "c703e353",
   "metadata": {},
   "source": [
    "**Plotting AUC for SVC model**"
   ]
  },
  {
   "cell_type": "code",
   "execution_count": null,
   "id": "eb7c837c",
   "metadata": {},
   "outputs": [],
   "source": [
    "false_positive_rate, true_positive_rate, thresolds = metrics.roc_curve(y_test, y_pred3)\n",
    "\n",
    "plt.figure(figsize=(10, 8), dpi=100)\n",
    "plt.axis('scaled')\n",
    "plt.xlim([0, 1])\n",
    "plt.ylim([0, 1])\n",
    "plt.title(\"AUC & ROC Curve\")\n",
    "plt.plot(false_positive_rate, true_positive_rate, 'g')\n",
    "plt.fill_between(false_positive_rate, true_positive_rate, facecolor='lightgreen', alpha=0.7)\n",
    "plt.text(0.95, 0.05, 'AUC = %0.4f' % auc, ha='right', fontsize=12, weight='bold', color='blue')\n",
    "plt.xlabel(\"False Positive Rate\")\n",
    "plt.ylabel(\"True Positive Rate\")\n",
    "plt.show()"
   ]
  },
  {
   "cell_type": "markdown",
   "id": "e60d6ab0",
   "metadata": {},
   "source": [
    "\n"
   ]
  },
  {
   "cell_type": "code",
   "execution_count": null,
   "id": "1469d000",
   "metadata": {},
   "outputs": [],
   "source": []
  },
  {
   "cell_type": "code",
   "execution_count": null,
   "id": "ebee01f2",
   "metadata": {},
   "outputs": [],
   "source": [
    "data.head()"
   ]
  },
  {
   "cell_type": "code",
   "execution_count": null,
   "id": "2ae8bab1",
   "metadata": {},
   "outputs": [],
   "source": []
  }
 ],
 "metadata": {
  "kernelspec": {
   "display_name": "Python 3 (ipykernel)",
   "language": "python",
   "name": "python3"
  },
  "language_info": {
   "codemirror_mode": {
    "name": "ipython",
    "version": 3
   },
   "file_extension": ".py",
   "mimetype": "text/x-python",
   "name": "python",
   "nbconvert_exporter": "python",
   "pygments_lexer": "ipython3",
   "version": "3.10.9"
  }
 },
 "nbformat": 4,
 "nbformat_minor": 5
}
